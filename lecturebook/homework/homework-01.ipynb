{
  "cells": [
    {
      "cell_type": "markdown",
      "metadata": {
        "id": "view-in-github",
        "colab_type": "text"
      },
      "source": [
        "<a href=\"https://colab.research.google.com/github/chaud153/Homework-ME/blob/main/lecturebook/homework/homework-01.ipynb\" target=\"_parent\"><img src=\"https://colab.research.google.com/assets/colab-badge.svg\" alt=\"Open In Colab\"/></a>"
      ]
    },
    {
      "cell_type": "markdown",
      "metadata": {
        "id": "NKURazZwsKe6"
      },
      "source": [
        "# Homework 1\n",
        "\n",
        "## References\n",
        "\n",
        "+ Lectures 1 through 4 (inclusive).\n",
        "\n",
        "\n",
        "## Instructions\n",
        "\n",
        "+ Type your name and email in the \"Student details\" section below.\n",
        "+ Develop the code and generate the figures you need to solve the problems using this notebook.\n",
        "+ For the answers that require a mathematical proof or derivation you should type them using latex. If you have never written latex before and you find it exceedingly difficult, we will likely accept handwritten solutions.\n",
        "+ The total homework points are 100. Please note that the problems are not weighed equally."
      ]
    },
    {
      "cell_type": "code",
      "execution_count": 9,
      "metadata": {
        "tags": [
          "hide-input"
        ],
        "id": "PLQYu-Z0sKe-"
      },
      "outputs": [],
      "source": [
        "import matplotlib.pyplot as plt\n",
        "%matplotlib inline\n",
        "import matplotlib_inline\n",
        "matplotlib_inline.backend_inline.set_matplotlib_formats('svg')\n",
        "import seaborn as sns\n",
        "sns.set_context(\"paper\")\n",
        "sns.set_style(\"ticks\")\n",
        "\n",
        "import numpy as np\n",
        "import scipy\n",
        "import scipy.stats as st\n",
        "import urllib.request\n",
        "import os\n",
        "\n",
        "def download(\n",
        "    url : str,\n",
        "    local_filename : str = None\n",
        "):\n",
        "    \"\"\"Download a file from a url.\n",
        "\n",
        "    Arguments\n",
        "    url            -- The url we want to download.\n",
        "    local_filename -- The filemame to write on. If not\n",
        "                      specified\n",
        "    \"\"\"\n",
        "    if local_filename is None:\n",
        "        local_filename = os.path.basename(url)\n",
        "    urllib.request.urlretrieve(url, local_filename)"
      ]
    },
    {
      "cell_type": "markdown",
      "metadata": {
        "id": "2fYMWYslsKe_"
      },
      "source": [
        "## Student details\n",
        "+ **First Name:** Shayak\n",
        "+ **Last Name:** Chaudhuri\n",
        "+ **Email:** chaud153@purdue.edu\n",
        "+ **Used generative AI to complete this assignment (Yes/No):** Yes\n",
        "+ **Which generative AI tool did you use (if applicable)?:** ChatGPT, Gemini"
      ]
    },
    {
      "cell_type": "markdown",
      "metadata": {
        "id": "8u9FSOi1sKe_"
      },
      "source": [
        "## Problem 1\n",
        "\n",
        "Disclaimer: This example is a modified version of the one found in a 2013 lecture on Bayesian Scientific Computing taught by Prof. Nicholas Zabaras.\n",
        "I am not sure where the original problem is coming from.\n",
        "\n",
        "We are tasked with assessing the usefulness of a tuberculosis test.\n",
        "The prior information I is:\n",
        "\n",
        "> The percentage of the population infected by tuberculosis is 0.4\\%.\n",
        "We have run several experiments and determined that:\n",
        "+ If a tested patient has the disease, then 80\\% of the time the test comes out positive.\n",
        "+ If a tested patient does not have the disease, then 90\\% of the time the test comes out negative.\n",
        "\n",
        "To facilitate your analysis, consider the following logical sentences concerning a patient:\n",
        "\n",
        "> A: The patient is tested and the test is positive.\n",
        "\n",
        "> B: The patient has tuberculosis.\n",
        "\n",
        "A. Find the probability that the patient has tuberculosis (before looking at the result of the test), i.e., $p(B|I)$. This is known as the base rate or the prior probability.<br>\n",
        "**Answer:**\n",
        "<br><br>\n",
        "In order to find the probability that the patient has tuberculosis, we first look at the information provided. It is mentioned that the percentage of the population infected with TB is 0.4%; in probability, we use values ranging from 0 to 1. Since it asks for the base rate/prior probability, we can say that the base rate ($p(B)$) = 0.004."
      ]
    },
    {
      "cell_type": "markdown",
      "metadata": {
        "id": "eKQQWWXPsKe_"
      },
      "source": [
        "B. Find the probability that the test is positive given that the patient has tuberculosis, i.e., $p(A|B,I)$.<br>\n",
        "**Answer:**\n",
        "<br><br>\n",
        "This is an example of a sensitivity problem, where we calculate the proportion of true positives in the test performance. In this case, $p(A|B,I)$ would equal 0.8 as it is mentioned \"given that the patient has tuberculosis.\" Thus it can be written in this format: $sensitivity$ = $P(positive|has disease)$ = $P(A|B,I)$."
      ]
    },
    {
      "cell_type": "markdown",
      "metadata": {
        "id": "rwKElh_5sKfA"
      },
      "source": [
        "C. Find the probability that the test is positive given that the patient does not have tuberculosis, i.e., $p(A|\\neg B, I)$.<br>\n",
        "**Answer:**\n",
        "<br><br>\n",
        "This time, the question now looks into the false positive rate and also the specificity given the $\\neg B$. For this, first we try to find the information, which says that if a patient does not have the disease, then the test comes out negative 90% of the time. This, in turn, is written as $P(\\neg A (neg.test)|\\neg B,I (no TB)) = 0.9$. We then use the complement $P(A|\\neg B,I)$ as $1 - P(\\neg A|\\neg B,I) = 1-0.9 = 0.1$. Thus the probability that the test is positive given that the patient does not have tuberculosis is 0.1 or 10%."
      ]
    },
    {
      "cell_type": "markdown",
      "metadata": {
        "id": "reSwV_OSsKfA"
      },
      "source": [
        "D. Find the probability that a patient that tested positive has tuberculosis, i.e., $p(B|A,I)$.<br>\n",
        "**Answer:**\n",
        "This one now involves the use of Bayes' Theorem. Here we can use Bayes' Theorem to show $P(B|A,I) = \\frac{P(A|B,I)P(B)}{P(A,I)}$ and the law of total probability for $P(A,I) = P(A|B,I)P(B) + P(A|\\neg B,I)P(\\neg B)$. Then, we can use our givens, taken from the previous parts. $P(A|B,I) = sensitivity = 0.8$, $P(B) = (TB Rate) = 0.004$, $P(A\\neg B) = 0.1$, and $P(\\neg B) = 1-0.004 = 0.996$. Put them together and we get $P(A,I) = (0.8)(0.004)+(0.1)(0.996) = 0.0032 + 0.0996 = 0.1028$. Now we substitute the value into the Bayes' Theorem and we get $P(B|A,I) = \\frac{(0.8)(0.004)}{0.1028} ≈ 0.0311 \\text{(or 3.11%)}$.\n",
        "<br><br>"
      ]
    },
    {
      "cell_type": "markdown",
      "metadata": {
        "id": "-nJsw6VYsKfA"
      },
      "source": [
        "E. Find the probability that a patient that tested negative has tuberculosis, i.e., $p(B|\\neg A, I)$. Does the test change our prior state of knowledge about the patient? Is the test useful?<br>\n",
        "**Answer:**\n",
        "We use Bayes' Theorem again and this time use different complements. The formula now is $P(B|\\neg A,I) = \\frac{P(\\neg A|B,I)P(B)}{P(\\neg A,I)}$. $P(\\neg A|B,I)$ now represents the false negative rate which is $1-0.8=0.2$.$P(B) = 0.004$, $P(\\neg B) = 1-P(B)= 0.996$, and $P(\\neg A|\\neg B,I) = 1-0.1=0.9$, which is the true negative rate. We now substitute the values calculate through the law of total probability and we get $P(\\neg A,I)= (0.2)(0.004)+(0.9)(0.006)= 0.008 + 0.8964 = 0.8972$. We then substitute for the Bayes' Theorem and we get $P(B|\\neg A,I) = \\frac{0.008}{0.8972} ≈ 0.00089 \\text{(or 0.089%)}$.<br><br>Yes. It greatly changes our prior knowledge about the patient as the probability is reduced from 0.4% to 0.089%. The test is useful but has its limitations. One of the strengths is that the negative test provides strogn evidence against TB, and one of the limitations is that a positive test gives only a 3.11% chance of revealing TB in a patient. This marks the equal importance of both sensitivity and specificity in a study.\n",
        "<br><br>"
      ]
    },
    {
      "cell_type": "markdown",
      "metadata": {
        "id": "U-ymQWDLsKfA"
      },
      "source": [
        "F. What would a good test look like? Find values for\n",
        "\n",
        "$$\n",
        "p(A|B,I)= p(\\text{test is positive} |\\text{has tuberculosis},I),\n",
        "$$\n",
        "\n",
        "and\n",
        "\n",
        "$$\n",
        "p(A| \\neg B, I) = p(\\text{test is positive}|\\text{does not have tuberculosis}, I),\n",
        "$$\n",
        "\n",
        "so that\n",
        "\n",
        "$$\n",
        "p(B|A, I) = p(\\text{has tuberculosis}|\\text{test is positive}, I) = 0.99.\n",
        "$$\n",
        "\n",
        "There are more than one solutions. How would you pick a good one? Thinking in this way can help you set goals if you work in R\\&D. If you have time, try to figure out whether or not there exists such an accurate test for tuberculosis<br>\n",
        "**Answer:**\n",
        "A good test would be when we find values for the sensitivity and the false positive rate so that $P(B|A,I)= 0.99 \\text{(or 99%)}$. First, we would use Bayes' Theorem for $P(B|A,I) = \\frac{P(A|B,I)P(B)}{P(A,I)}$, where $P(B|A,I) = 0.99, P(B)= 0.004, \\text{and the complement, }P(\\neg B) = 1-0.004=0.996$. We then go through a series of subsititutions to look for a relationship between $P(A|B,I) \\text{ and } P(A|\\neg B,I)$. We sub \"x\" for $P(A|B,I)$ and \"y\" for $P(A|\\neg B,I)$, plug in the values to get to $0.00396x + 0.98504y=0.004x$, and we get that $x=24626y$. We then test out different false positive rates in order to determine when x < 1. We can see through further experimentation that when $FPR = 0.00001 \\text{ or (0.001%)}$, then $x = 24626 * 0.0001=024626$. Thus, the sensitivity rate is 0.24626 in order to make $P(\\neg B) = 99$.\n",
        "<br><br>"
      ]
    },
    {
      "cell_type": "markdown",
      "metadata": {
        "id": "v_IZpCzPsKfB"
      },
      "source": [
        "## Problem 2 - Practice with discrete random variables\n",
        "\n",
        "Consider the Categorical random variable:\n",
        "\n",
        "$$\n",
        "X \\sim \\operatorname{Categorical}(0.3, 0.1, 0.2, 0.4),\n",
        "$$\n",
        "\n",
        "taking values in $\\{0,1,2,3\\}$. Find the following (you may use ``scipy.stats.rv_discrete`` or do it by hand):"
      ]
    },
    {
      "cell_type": "markdown",
      "metadata": {
        "id": "15vFa7IJsKfB"
      },
      "source": [
        "A. The expectation $\\mathbb{E}[X]$.\n",
        "\n",
        "**Answer:**\n",
        "<br><br>"
      ]
    },
    {
      "cell_type": "code",
      "execution_count": 1,
      "metadata": {
        "id": "8p0RgorrsKfB",
        "outputId": "bdf33c08-a7cd-42c3-bcb3-078d900227d9",
        "colab": {
          "base_uri": "https://localhost:8080/"
        }
      },
      "outputs": [
        {
          "output_type": "execute_result",
          "data": {
            "text/plain": [
              "1.7000000000000002"
            ]
          },
          "metadata": {},
          "execution_count": 1
        }
      ],
      "source": [
        "# Part A: Calculate the expectation E[X]\n",
        "import numpy as np\n",
        "\n",
        "# Values and probabilities\n",
        "x_values = np.array([0, 1, 2, 3])\n",
        "probabilities = np.array([0.3, 0.1, 0.2, 0.4])\n",
        "\n",
        "# Expectation\n",
        "expectation = np.sum(x_values * probabilities)\n",
        "expectation\n"
      ]
    },
    {
      "cell_type": "markdown",
      "metadata": {
        "id": "LtozjpZasKfB"
      },
      "source": [
        "B. The variance $\\mathbb{V}[X]$.\n",
        "\n",
        "**Answer:**\n",
        "<br><br>"
      ]
    },
    {
      "cell_type": "code",
      "execution_count": 2,
      "metadata": {
        "id": "NypfiS1RsKfB",
        "outputId": "647c87ab-aea0-4be1-ae2a-f0665d738c76",
        "colab": {
          "base_uri": "https://localhost:8080/"
        }
      },
      "outputs": [
        {
          "output_type": "execute_result",
          "data": {
            "text/plain": [
              "1.6099999999999994"
            ]
          },
          "metadata": {},
          "execution_count": 2
        }
      ],
      "source": [
        "# Part B: Calculate the variance V[X]\n",
        "\n",
        "# First, calculate E[X^2]\n",
        "expectation_x_squared = np.sum((x_values**2) * probabilities)\n",
        "\n",
        "# Variance formula: V[X] = E[X^2] - (E[X])^2\n",
        "variance = expectation_x_squared - (expectation**2)\n",
        "variance\n"
      ]
    },
    {
      "cell_type": "markdown",
      "metadata": {
        "id": "bx7myC5UsKfB"
      },
      "source": [
        "C. Plot the probability mass function of $X$."
      ]
    },
    {
      "cell_type": "code",
      "execution_count": 4,
      "metadata": {
        "id": "nErU36d0sKfB",
        "outputId": "ebffe24a-dc90-4232-8842-630fecf14ae5",
        "colab": {
          "base_uri": "https://localhost:8080/",
          "height": 472
        }
      },
      "outputs": [
        {
          "output_type": "display_data",
          "data": {
            "text/plain": [
              "<Figure size 640x480 with 1 Axes>"
            ],
            "image/png": "[encoded data removed]"
          },
          "metadata": {}
        }
      ],
      "source": [
        "# Part C: Plot the probability mass function (PMF)\n",
        "import matplotlib.pyplot as plt\n",
        "\n",
        "# Values and probabilities\n",
        "x_values = [0, 1, 2, 3]\n",
        "probabilities = [0.3, 0.1, 0.2, 0.4]\n",
        "\n",
        "# Create bar plot\n",
        "plt.bar(x_values, probabilities, color='skyblue')\n",
        "plt.xlabel('X values')\n",
        "plt.ylabel('Probability')\n",
        "plt.title('PMF of X')\n",
        "plt.show()\n",
        "\n"
      ]
    },
    {
      "cell_type": "markdown",
      "metadata": {
        "id": "IqRSMHY-sKfB"
      },
      "source": [
        "D. Find the probability that $X$ is in $\\{0, 2\\}$.\n",
        "\n",
        "**Answer:**\n",
        "<br><br>"
      ]
    },
    {
      "cell_type": "code",
      "execution_count": 5,
      "metadata": {
        "id": "1whCx0qYsKfC",
        "outputId": "53da93f4-0f7e-4829-e930-049fc872b11d",
        "colab": {
          "base_uri": "https://localhost:8080/"
        }
      },
      "outputs": [
        {
          "output_type": "execute_result",
          "data": {
            "text/plain": [
              "0.5"
            ]
          },
          "metadata": {},
          "execution_count": 5
        }
      ],
      "source": [
        "# Part D: Find the probability that X is in {0, 2}\n",
        "\n",
        "# Sum the probabilities for X = 0 and X = 2\n",
        "prob_x_in_0_2 = probabilities[0] + probabilities[2]\n",
        "prob_x_in_0_2\n"
      ]
    },
    {
      "cell_type": "markdown",
      "metadata": {
        "id": "T7dshlAosKfC"
      },
      "source": [
        "E. Find $\\mathbb{E}[4X + 3]$.\n",
        "\n",
        "**Answer:**\n",
        "<br><br>"
      ]
    },
    {
      "cell_type": "code",
      "execution_count": 6,
      "metadata": {
        "id": "DS36n1RzsKfC",
        "outputId": "5b53024c-27b1-4912-9f69-9bcfb3b3d4cc",
        "colab": {
          "base_uri": "https://localhost:8080/"
        }
      },
      "outputs": [
        {
          "output_type": "execute_result",
          "data": {
            "text/plain": [
              "9.8"
            ]
          },
          "metadata": {},
          "execution_count": 6
        }
      ],
      "source": [
        "# Part E: Find E[4X + 3]\n",
        "\n",
        "# E[4X + 3] = 4 * E[X] + 3\n",
        "expectation_transformed = 4 * expectation + 3\n",
        "expectation_transformed\n"
      ]
    },
    {
      "cell_type": "markdown",
      "metadata": {
        "id": "q8rV6QwdsKfC"
      },
      "source": [
        "F. Find $\\mathbb{V}[4X+3]$.\n",
        "\n",
        "**Answer:**\n",
        "<br><br>"
      ]
    },
    {
      "cell_type": "code",
      "execution_count": 7,
      "metadata": {
        "id": "vuyU_RaYsKfC",
        "outputId": "0d89b6bc-1817-442c-9d2d-2daf815db645",
        "colab": {
          "base_uri": "https://localhost:8080/"
        }
      },
      "outputs": [
        {
          "output_type": "execute_result",
          "data": {
            "text/plain": [
              "25.75999999999999"
            ]
          },
          "metadata": {},
          "execution_count": 7
        }
      ],
      "source": [
        "# Part F: Find V[4X + 3]\n",
        "\n",
        "# V[4X + 3] = 4^2 * V[X]\n",
        "variance_transformed = (4**2) * variance\n",
        "variance_transformed"
      ]
    },
    {
      "cell_type": "markdown",
      "source": [
        "It is also approximately 25.76 when rounded to the nearest hundredth."
      ],
      "metadata": {
        "id": "Ix3vyFKGFIWr"
      }
    },
    {
      "cell_type": "markdown",
      "metadata": {
        "id": "5Q5RbuQBsKfC"
      },
      "source": [
        "## Problem 3 - Predicting the probability of major earthquakes in Southern California\n",
        "\n",
        "The [San Andreas fault](https://en.wikipedia.org/wiki/San_Andreas_Fault) extends through California forming the boundary between the Pacific and the North American tectonic plates.\n",
        "It has caused some of the major earthquakes on Earth.\n",
        "We are going to focus on Southern California and we would like to assess the probability of a major earthquake, defined as an earthquake of magnitude 6.5 or greater, during the next ten years.\n",
        "\n",
        "A. The first thing we are going to do is go over a [database of past earthquakes](https://scedc.caltech.edu/significant/chron-index.html) that have occured in Southern California and collect the relevant data. We are going to start at 1900 because data before that time may are unreliable.\n",
        "Go over each decade and count the occurence of a major earthquake (i.e., count the number of organge and red colors in each decade). We have done this for you."
      ]
    },
    {
      "cell_type": "code",
      "execution_count": 10,
      "metadata": {
        "id": "qa7CyiGxsKfC",
        "outputId": "62a4ff8f-a111-4e67-c66a-e0b8e845fc16",
        "colab": {
          "base_uri": "https://localhost:8080/",
          "height": 472
        }
      },
      "outputs": [
        {
          "output_type": "stream",
          "name": "stderr",
          "text": [
            "<ipython-input-10-8c80012f265e>:19: UserWarning: No artists with labels found to put in legend.  Note that artists whose label start with an underscore are ignored when legend() is called with no argument.\n",
            "  plt.legend(loc=\"best\", frameon=False)\n"
          ]
        },
        {
          "output_type": "display_data",
          "data": {
            "text/plain": [
              "<Figure size 960x720 with 1 Axes>"
            ],
            "image/svg+xml": "<?xml version=\"1.0\" encoding=\"utf-8\" standalone=\"no\"?>\n<!DOCTYPE svg PUBLIC \"-//W3C//DTD SVG 1.1//EN\"\n  \"http://www.w3.org/Graphics/SVG/1.1/DTD/svg11.dtd\">\n<svg xmlns:xlink=\"http://www.w3.org/1999/xlink\" width=\"407.10575pt\" height=\"310.61975pt\" viewBox=\"0 0 407.10575 310.61975\" xmlns=\"http://www.w3.org/2000/svg\" version=\"1.1\">\n <metadata>\n  <rdf:RDF xmlns:dc=\"http://purl.org/dc/elements/1.1/\" xmlns:cc=\"http://creativecommons.org/ns#\" xmlns:rdf=\"http://www.w3.org/1999/02/22-rdf-syntax-ns#\">\n   <cc:Work>\n    <dc:type rdf:resource=\"http://purl.org/dc/dcmitype/StillImage\"/>\n    <dc:date>2025-01-18T15:44:43.470363</dc:date>\n    <dc:format>image/svg+xml</dc:format>\n    <dc:creator>\n     <cc:Agent>\n      <dc:title>Matplotlib v3.10.0, https://matplotlib.org/</dc:title>\n     </cc:Agent>\n    </dc:creator>\n   </cc:Work>\n  </rdf:RDF>\n </metadata>\n <defs>\n  <style type=\"text/css\">*{stroke-linejoin: round; stroke-linecap: butt}</style>\n </defs>\n <g id=\"figure_1\">\n  <g id=\"patch_1\">\n   <path d=\"M 0 310.61975 \nL 407.10575 310.61975 \nL 407.10575 0 \nL 0 0 \nz\n\" style=\"fill: #ffffff\"/>\n  </g>\n  <g id=\"axes_1\">\n   <g id=\"patch_2\">\n    <path d=\"M 42.78575 273.312 \nL 399.90575 273.312 \nL 399.90575 7.2 \nL 42.78575 7.2 \nz\n\" style=\"fill: #ffffff\"/>\n   </g>\n   <g id=\"matplotlib.axis_1\">\n    <g id=\"xtick_1\">\n     <g id=\"line2d_1\">\n      <defs>\n       <path id=\"m14838340f4\" d=\"M 0 0 \nL 0 4.8 \n\" style=\"stroke: #262626\"/>\n      </defs>\n      <g>\n       <use xlink:href=\"#m14838340f4\" x=\"71.601987\" y=\"273.312\" style=\"fill: #262626; stroke: #262626\"/>\n      </g>\n     </g>\n     <g id=\"text_1\">\n      <!-- 1900 -->\n      <g style=\"fill: #262626\" transform=\"translate(60.403987 288.298625) scale(0.088 -0.088)\">\n       <defs>\n        <path id=\"DejaVuSans-31\" d=\"M 794 531 \nL 1825 531 \nL 1825 4091 \nL 703 3866 \nL 703 4441 \nL 1819 4666 \nL 2450 4666 \nL 2450 531 \nL 3481 531 \nL 3481 0 \nL 794 0 \nL 794 531 \nz\n\" transform=\"scale(0.015625)\"/>\n        <path id=\"DejaVuSans-39\" d=\"M 703 97 \nL 703 672 \nQ 941 559 1184 500 \nQ 1428 441 1663 441 \nQ 2288 441 2617 861 \nQ 2947 1281 2994 2138 \nQ 2813 1869 2534 1725 \nQ 2256 1581 1919 1581 \nQ 1219 1581 811 2004 \nQ 403 2428 403 3163 \nQ 403 3881 828 4315 \nQ 1253 4750 1959 4750 \nQ 2769 4750 3195 4129 \nQ 3622 3509 3622 2328 \nQ 3622 1225 3098 567 \nQ 2575 -91 1691 -91 \nQ 1453 -91 1209 -44 \nQ 966 3 703 97 \nz\nM 1959 2075 \nQ 2384 2075 2632 2365 \nQ 2881 2656 2881 3163 \nQ 2881 3666 2632 3958 \nQ 2384 4250 1959 4250 \nQ 1534 4250 1286 3958 \nQ 1038 3666 1038 3163 \nQ 1038 2656 1286 2365 \nQ 1534 2075 1959 2075 \nz\n\" transform=\"scale(0.015625)\"/>\n        <path id=\"DejaVuSans-30\" d=\"M 2034 4250 \nQ 1547 4250 1301 3770 \nQ 1056 3291 1056 2328 \nQ 1056 1369 1301 889 \nQ 1547 409 2034 409 \nQ 2525 409 2770 889 \nQ 3016 1369 3016 2328 \nQ 3016 3291 2770 3770 \nQ 2525 4250 2034 4250 \nz\nM 2034 4750 \nQ 2819 4750 3233 4129 \nQ 3647 3509 3647 2328 \nQ 3647 1150 3233 529 \nQ 2819 -91 2034 -91 \nQ 1250 -91 836 529 \nQ 422 1150 422 2328 \nQ 422 3509 836 4129 \nQ 1250 4750 2034 4750 \nz\n\" transform=\"scale(0.015625)\"/>\n       </defs>\n       <use xlink:href=\"#DejaVuSans-31\"/>\n       <use xlink:href=\"#DejaVuSans-39\" transform=\"translate(63.623047 0)\"/>\n       <use xlink:href=\"#DejaVuSans-30\" transform=\"translate(127.246094 0)\"/>\n       <use xlink:href=\"#DejaVuSans-30\" transform=\"translate(190.869141 0)\"/>\n      </g>\n     </g>\n    </g>\n    <g id=\"xtick_2\">\n     <g id=\"line2d_2\">\n      <g>\n       <use xlink:href=\"#m14838340f4\" x=\"121.936025\" y=\"273.312\" style=\"fill: #262626; stroke: #262626\"/>\n      </g>\n     </g>\n     <g id=\"text_2\">\n      <!-- 1920 -->\n      <g style=\"fill: #262626\" transform=\"translate(110.738025 288.298625) scale(0.088 -0.088)\">\n       <defs>\n        <path id=\"DejaVuSans-32\" d=\"M 1228 531 \nL 3431 531 \nL 3431 0 \nL 469 0 \nL 469 531 \nQ 828 903 1448 1529 \nQ 2069 2156 2228 2338 \nQ 2531 2678 2651 2914 \nQ 2772 3150 2772 3378 \nQ 2772 3750 2511 3984 \nQ 2250 4219 1831 4219 \nQ 1534 4219 1204 4116 \nQ 875 4013 500 3803 \nL 500 4441 \nQ 881 4594 1212 4672 \nQ 1544 4750 1819 4750 \nQ 2544 4750 2975 4387 \nQ 3406 4025 3406 3419 \nQ 3406 3131 3298 2873 \nQ 3191 2616 2906 2266 \nQ 2828 2175 2409 1742 \nQ 1991 1309 1228 531 \nz\n\" transform=\"scale(0.015625)\"/>\n       </defs>\n       <use xlink:href=\"#DejaVuSans-31\"/>\n       <use xlink:href=\"#DejaVuSans-39\" transform=\"translate(63.623047 0)\"/>\n       <use xlink:href=\"#DejaVuSans-32\" transform=\"translate(127.246094 0)\"/>\n       <use xlink:href=\"#DejaVuSans-30\" transform=\"translate(190.869141 0)\"/>\n      </g>\n     </g>\n    </g>\n    <g id=\"xtick_3\">\n     <g id=\"line2d_3\">\n      <g>\n       <use xlink:href=\"#m14838340f4\" x=\"172.270063\" y=\"273.312\" style=\"fill: #262626; stroke: #262626\"/>\n      </g>\n     </g>\n     <g id=\"text_3\">\n      <!-- 1940 -->\n      <g style=\"fill: #262626\" transform=\"translate(161.072063 288.298625) scale(0.088 -0.088)\">\n       <defs>\n        <path id=\"DejaVuSans-34\" d=\"M 2419 4116 \nL 825 1625 \nL 2419 1625 \nL 2419 4116 \nz\nM 2253 4666 \nL 3047 4666 \nL 3047 1625 \nL 3713 1625 \nL 3713 1100 \nL 3047 1100 \nL 3047 0 \nL 2419 0 \nL 2419 1100 \nL 313 1100 \nL 313 1709 \nL 2253 4666 \nz\n\" transform=\"scale(0.015625)\"/>\n       </defs>\n       <use xlink:href=\"#DejaVuSans-31\"/>\n       <use xlink:href=\"#DejaVuSans-39\" transform=\"translate(63.623047 0)\"/>\n       <use xlink:href=\"#DejaVuSans-34\" transform=\"translate(127.246094 0)\"/>\n       <use xlink:href=\"#DejaVuSans-30\" transform=\"translate(190.869141 0)\"/>\n      </g>\n     </g>\n    </g>\n    <g id=\"xtick_4\">\n     <g id=\"line2d_4\">\n      <g>\n       <use xlink:href=\"#m14838340f4\" x=\"222.604101\" y=\"273.312\" style=\"fill: #262626; stroke: #262626\"/>\n      </g>\n     </g>\n     <g id=\"text_4\">\n      <!-- 1960 -->\n      <g style=\"fill: #262626\" transform=\"translate(211.406101 288.298625) scale(0.088 -0.088)\">\n       <defs>\n        <path id=\"DejaVuSans-36\" d=\"M 2113 2584 \nQ 1688 2584 1439 2293 \nQ 1191 2003 1191 1497 \nQ 1191 994 1439 701 \nQ 1688 409 2113 409 \nQ 2538 409 2786 701 \nQ 3034 994 3034 1497 \nQ 3034 2003 2786 2293 \nQ 2538 2584 2113 2584 \nz\nM 3366 4563 \nL 3366 3988 \nQ 3128 4100 2886 4159 \nQ 2644 4219 2406 4219 \nQ 1781 4219 1451 3797 \nQ 1122 3375 1075 2522 \nQ 1259 2794 1537 2939 \nQ 1816 3084 2150 3084 \nQ 2853 3084 3261 2657 \nQ 3669 2231 3669 1497 \nQ 3669 778 3244 343 \nQ 2819 -91 2113 -91 \nQ 1303 -91 875 529 \nQ 447 1150 447 2328 \nQ 447 3434 972 4092 \nQ 1497 4750 2381 4750 \nQ 2619 4750 2861 4703 \nQ 3103 4656 3366 4563 \nz\n\" transform=\"scale(0.015625)\"/>\n       </defs>\n       <use xlink:href=\"#DejaVuSans-31\"/>\n       <use xlink:href=\"#DejaVuSans-39\" transform=\"translate(63.623047 0)\"/>\n       <use xlink:href=\"#DejaVuSans-36\" transform=\"translate(127.246094 0)\"/>\n       <use xlink:href=\"#DejaVuSans-30\" transform=\"translate(190.869141 0)\"/>\n      </g>\n     </g>\n    </g>\n    <g id=\"xtick_5\">\n     <g id=\"line2d_5\">\n      <g>\n       <use xlink:href=\"#m14838340f4\" x=\"272.938139\" y=\"273.312\" style=\"fill: #262626; stroke: #262626\"/>\n      </g>\n     </g>\n     <g id=\"text_5\">\n      <!-- 1980 -->\n      <g style=\"fill: #262626\" transform=\"translate(261.740139 288.298625) scale(0.088 -0.088)\">\n       <defs>\n        <path id=\"DejaVuSans-38\" d=\"M 2034 2216 \nQ 1584 2216 1326 1975 \nQ 1069 1734 1069 1313 \nQ 1069 891 1326 650 \nQ 1584 409 2034 409 \nQ 2484 409 2743 651 \nQ 3003 894 3003 1313 \nQ 3003 1734 2745 1975 \nQ 2488 2216 2034 2216 \nz\nM 1403 2484 \nQ 997 2584 770 2862 \nQ 544 3141 544 3541 \nQ 544 4100 942 4425 \nQ 1341 4750 2034 4750 \nQ 2731 4750 3128 4425 \nQ 3525 4100 3525 3541 \nQ 3525 3141 3298 2862 \nQ 3072 2584 2669 2484 \nQ 3125 2378 3379 2068 \nQ 3634 1759 3634 1313 \nQ 3634 634 3220 271 \nQ 2806 -91 2034 -91 \nQ 1263 -91 848 271 \nQ 434 634 434 1313 \nQ 434 1759 690 2068 \nQ 947 2378 1403 2484 \nz\nM 1172 3481 \nQ 1172 3119 1398 2916 \nQ 1625 2713 2034 2713 \nQ 2441 2713 2670 2916 \nQ 2900 3119 2900 3481 \nQ 2900 3844 2670 4047 \nQ 2441 4250 2034 4250 \nQ 1625 4250 1398 4047 \nQ 1172 3844 1172 3481 \nz\n\" transform=\"scale(0.015625)\"/>\n       </defs>\n       <use xlink:href=\"#DejaVuSans-31\"/>\n       <use xlink:href=\"#DejaVuSans-39\" transform=\"translate(63.623047 0)\"/>\n       <use xlink:href=\"#DejaVuSans-38\" transform=\"translate(127.246094 0)\"/>\n       <use xlink:href=\"#DejaVuSans-30\" transform=\"translate(190.869141 0)\"/>\n      </g>\n     </g>\n    </g>\n    <g id=\"xtick_6\">\n     <g id=\"line2d_6\">\n      <g>\n       <use xlink:href=\"#m14838340f4\" x=\"323.272177\" y=\"273.312\" style=\"fill: #262626; stroke: #262626\"/>\n      </g>\n     </g>\n     <g id=\"text_6\">\n      <!-- 2000 -->\n      <g style=\"fill: #262626\" transform=\"translate(312.074177 288.298625) scale(0.088 -0.088)\">\n       <use xlink:href=\"#DejaVuSans-32\"/>\n       <use xlink:href=\"#DejaVuSans-30\" transform=\"translate(63.623047 0)\"/>\n       <use xlink:href=\"#DejaVuSans-30\" transform=\"translate(127.246094 0)\"/>\n       <use xlink:href=\"#DejaVuSans-30\" transform=\"translate(190.869141 0)\"/>\n      </g>\n     </g>\n    </g>\n    <g id=\"xtick_7\">\n     <g id=\"line2d_7\">\n      <g>\n       <use xlink:href=\"#m14838340f4\" x=\"373.606215\" y=\"273.312\" style=\"fill: #262626; stroke: #262626\"/>\n      </g>\n     </g>\n     <g id=\"text_7\">\n      <!-- 2020 -->\n      <g style=\"fill: #262626\" transform=\"translate(362.408215 288.298625) scale(0.088 -0.088)\">\n       <use xlink:href=\"#DejaVuSans-32\"/>\n       <use xlink:href=\"#DejaVuSans-30\" transform=\"translate(63.623047 0)\"/>\n       <use xlink:href=\"#DejaVuSans-32\" transform=\"translate(127.246094 0)\"/>\n       <use xlink:href=\"#DejaVuSans-30\" transform=\"translate(190.869141 0)\"/>\n      </g>\n     </g>\n    </g>\n    <g id=\"text_8\">\n     <!-- Decade -->\n     <g style=\"fill: #262626\" transform=\"translate(203.11475 301.42325) scale(0.096 -0.096)\">\n      <defs>\n       <path id=\"DejaVuSans-44\" d=\"M 1259 4147 \nL 1259 519 \nL 2022 519 \nQ 2988 519 3436 956 \nQ 3884 1394 3884 2338 \nQ 3884 3275 3436 3711 \nQ 2988 4147 2022 4147 \nL 1259 4147 \nz\nM 628 4666 \nL 1925 4666 \nQ 3281 4666 3915 4102 \nQ 4550 3538 4550 2338 \nQ 4550 1131 3912 565 \nQ 3275 0 1925 0 \nL 628 0 \nL 628 4666 \nz\n\" transform=\"scale(0.015625)\"/>\n       <path id=\"DejaVuSans-65\" d=\"M 3597 1894 \nL 3597 1613 \nL 953 1613 \nQ 991 1019 1311 708 \nQ 1631 397 2203 397 \nQ 2534 397 2845 478 \nQ 3156 559 3463 722 \nL 3463 178 \nQ 3153 47 2828 -22 \nQ 2503 -91 2169 -91 \nQ 1331 -91 842 396 \nQ 353 884 353 1716 \nQ 353 2575 817 3079 \nQ 1281 3584 2069 3584 \nQ 2775 3584 3186 3129 \nQ 3597 2675 3597 1894 \nz\nM 3022 2063 \nQ 3016 2534 2758 2815 \nQ 2500 3097 2075 3097 \nQ 1594 3097 1305 2825 \nQ 1016 2553 972 2059 \nL 3022 2063 \nz\n\" transform=\"scale(0.015625)\"/>\n       <path id=\"DejaVuSans-63\" d=\"M 3122 3366 \nL 3122 2828 \nQ 2878 2963 2633 3030 \nQ 2388 3097 2138 3097 \nQ 1578 3097 1268 2742 \nQ 959 2388 959 1747 \nQ 959 1106 1268 751 \nQ 1578 397 2138 397 \nQ 2388 397 2633 464 \nQ 2878 531 3122 666 \nL 3122 134 \nQ 2881 22 2623 -34 \nQ 2366 -91 2075 -91 \nQ 1284 -91 818 406 \nQ 353 903 353 1747 \nQ 353 2603 823 3093 \nQ 1294 3584 2113 3584 \nQ 2378 3584 2631 3529 \nQ 2884 3475 3122 3366 \nz\n\" transform=\"scale(0.015625)\"/>\n       <path id=\"DejaVuSans-61\" d=\"M 2194 1759 \nQ 1497 1759 1228 1600 \nQ 959 1441 959 1056 \nQ 959 750 1161 570 \nQ 1363 391 1709 391 \nQ 2188 391 2477 730 \nQ 2766 1069 2766 1631 \nL 2766 1759 \nL 2194 1759 \nz\nM 3341 1997 \nL 3341 0 \nL 2766 0 \nL 2766 531 \nQ 2569 213 2275 61 \nQ 1981 -91 1556 -91 \nQ 1019 -91 701 211 \nQ 384 513 384 1019 \nQ 384 1609 779 1909 \nQ 1175 2209 1959 2209 \nL 2766 2209 \nL 2766 2266 \nQ 2766 2663 2505 2880 \nQ 2244 3097 1772 3097 \nQ 1472 3097 1187 3025 \nQ 903 2953 641 2809 \nL 641 3341 \nQ 956 3463 1253 3523 \nQ 1550 3584 1831 3584 \nQ 2591 3584 2966 3190 \nQ 3341 2797 3341 1997 \nz\n\" transform=\"scale(0.015625)\"/>\n       <path id=\"DejaVuSans-64\" d=\"M 2906 2969 \nL 2906 4863 \nL 3481 4863 \nL 3481 0 \nL 2906 0 \nL 2906 525 \nQ 2725 213 2448 61 \nQ 2172 -91 1784 -91 \nQ 1150 -91 751 415 \nQ 353 922 353 1747 \nQ 353 2572 751 3078 \nQ 1150 3584 1784 3584 \nQ 2172 3584 2448 3432 \nQ 2725 3281 2906 2969 \nz\nM 947 1747 \nQ 947 1113 1208 752 \nQ 1469 391 1925 391 \nQ 2381 391 2643 752 \nQ 2906 1113 2906 1747 \nQ 2906 2381 2643 2742 \nQ 2381 3103 1925 3103 \nQ 1469 3103 1208 2742 \nQ 947 2381 947 1747 \nz\n\" transform=\"scale(0.015625)\"/>\n      </defs>\n      <use xlink:href=\"#DejaVuSans-44\"/>\n      <use xlink:href=\"#DejaVuSans-65\" transform=\"translate(77.001953 0)\"/>\n      <use xlink:href=\"#DejaVuSans-63\" transform=\"translate(138.525391 0)\"/>\n      <use xlink:href=\"#DejaVuSans-61\" transform=\"translate(193.505859 0)\"/>\n      <use xlink:href=\"#DejaVuSans-64\" transform=\"translate(254.785156 0)\"/>\n      <use xlink:href=\"#DejaVuSans-65\" transform=\"translate(318.261719 0)\"/>\n     </g>\n    </g>\n   </g>\n   <g id=\"matplotlib.axis_2\">\n    <g id=\"ytick_1\">\n     <g id=\"line2d_8\">\n      <defs>\n       <path id=\"m85f4807517\" d=\"M 0 0 \nL -4.8 0 \n\" style=\"stroke: #262626\"/>\n      </defs>\n      <g>\n       <use xlink:href=\"#m85f4807517\" x=\"42.78575\" y=\"273.312\" style=\"fill: #262626; stroke: #262626\"/>\n      </g>\n     </g>\n     <g id=\"text_9\">\n      <!-- 0.0 -->\n      <g style=\"fill: #262626\" transform=\"translate(20.491 276.655312) scale(0.088 -0.088)\">\n       <defs>\n        <path id=\"DejaVuSans-2e\" d=\"M 684 794 \nL 1344 794 \nL 1344 0 \nL 684 0 \nL 684 794 \nz\n\" transform=\"scale(0.015625)\"/>\n       </defs>\n       <use xlink:href=\"#DejaVuSans-30\"/>\n       <use xlink:href=\"#DejaVuSans-2e\" transform=\"translate(63.623047 0)\"/>\n       <use xlink:href=\"#DejaVuSans-30\" transform=\"translate(95.410156 0)\"/>\n      </g>\n     </g>\n    </g>\n    <g id=\"ytick_2\">\n     <g id=\"line2d_9\">\n      <g>\n       <use xlink:href=\"#m85f4807517\" x=\"42.78575\" y=\"241.632\" style=\"fill: #262626; stroke: #262626\"/>\n      </g>\n     </g>\n     <g id=\"text_10\">\n      <!-- 0.5 -->\n      <g style=\"fill: #262626\" transform=\"translate(20.491 244.975312) scale(0.088 -0.088)\">\n       <defs>\n        <path id=\"DejaVuSans-35\" d=\"M 691 4666 \nL 3169 4666 \nL 3169 4134 \nL 1269 4134 \nL 1269 2991 \nQ 1406 3038 1543 3061 \nQ 1681 3084 1819 3084 \nQ 2600 3084 3056 2656 \nQ 3513 2228 3513 1497 \nQ 3513 744 3044 326 \nQ 2575 -91 1722 -91 \nQ 1428 -91 1123 -41 \nQ 819 9 494 109 \nL 494 744 \nQ 775 591 1075 516 \nQ 1375 441 1709 441 \nQ 2250 441 2565 725 \nQ 2881 1009 2881 1497 \nQ 2881 1984 2565 2268 \nQ 2250 2553 1709 2553 \nQ 1456 2553 1204 2497 \nQ 953 2441 691 2322 \nL 691 4666 \nz\n\" transform=\"scale(0.015625)\"/>\n       </defs>\n       <use xlink:href=\"#DejaVuSans-30\"/>\n       <use xlink:href=\"#DejaVuSans-2e\" transform=\"translate(63.623047 0)\"/>\n       <use xlink:href=\"#DejaVuSans-35\" transform=\"translate(95.410156 0)\"/>\n      </g>\n     </g>\n    </g>\n    <g id=\"ytick_3\">\n     <g id=\"line2d_10\">\n      <g>\n       <use xlink:href=\"#m85f4807517\" x=\"42.78575\" y=\"209.952\" style=\"fill: #262626; stroke: #262626\"/>\n      </g>\n     </g>\n     <g id=\"text_11\">\n      <!-- 1.0 -->\n      <g style=\"fill: #262626\" transform=\"translate(20.491 213.295312) scale(0.088 -0.088)\">\n       <use xlink:href=\"#DejaVuSans-31\"/>\n       <use xlink:href=\"#DejaVuSans-2e\" transform=\"translate(63.623047 0)\"/>\n       <use xlink:href=\"#DejaVuSans-30\" transform=\"translate(95.410156 0)\"/>\n      </g>\n     </g>\n    </g>\n    <g id=\"ytick_4\">\n     <g id=\"line2d_11\">\n      <g>\n       <use xlink:href=\"#m85f4807517\" x=\"42.78575\" y=\"178.272\" style=\"fill: #262626; stroke: #262626\"/>\n      </g>\n     </g>\n     <g id=\"text_12\">\n      <!-- 1.5 -->\n      <g style=\"fill: #262626\" transform=\"translate(20.491 181.615312) scale(0.088 -0.088)\">\n       <use xlink:href=\"#DejaVuSans-31\"/>\n       <use xlink:href=\"#DejaVuSans-2e\" transform=\"translate(63.623047 0)\"/>\n       <use xlink:href=\"#DejaVuSans-35\" transform=\"translate(95.410156 0)\"/>\n      </g>\n     </g>\n    </g>\n    <g id=\"ytick_5\">\n     <g id=\"line2d_12\">\n      <g>\n       <use xlink:href=\"#m85f4807517\" x=\"42.78575\" y=\"146.592\" style=\"fill: #262626; stroke: #262626\"/>\n      </g>\n     </g>\n     <g id=\"text_13\">\n      <!-- 2.0 -->\n      <g style=\"fill: #262626\" transform=\"translate(20.491 149.935312) scale(0.088 -0.088)\">\n       <use xlink:href=\"#DejaVuSans-32\"/>\n       <use xlink:href=\"#DejaVuSans-2e\" transform=\"translate(63.623047 0)\"/>\n       <use xlink:href=\"#DejaVuSans-30\" transform=\"translate(95.410156 0)\"/>\n      </g>\n     </g>\n    </g>\n    <g id=\"ytick_6\">\n     <g id=\"line2d_13\">\n      <g>\n       <use xlink:href=\"#m85f4807517\" x=\"42.78575\" y=\"114.912\" style=\"fill: #262626; stroke: #262626\"/>\n      </g>\n     </g>\n     <g id=\"text_14\">\n      <!-- 2.5 -->\n      <g style=\"fill: #262626\" transform=\"translate(20.491 118.255312) scale(0.088 -0.088)\">\n       <use xlink:href=\"#DejaVuSans-32\"/>\n       <use xlink:href=\"#DejaVuSans-2e\" transform=\"translate(63.623047 0)\"/>\n       <use xlink:href=\"#DejaVuSans-35\" transform=\"translate(95.410156 0)\"/>\n      </g>\n     </g>\n    </g>\n    <g id=\"ytick_7\">\n     <g id=\"line2d_14\">\n      <g>\n       <use xlink:href=\"#m85f4807517\" x=\"42.78575\" y=\"83.232\" style=\"fill: #262626; stroke: #262626\"/>\n      </g>\n     </g>\n     <g id=\"text_15\">\n      <!-- 3.0 -->\n      <g style=\"fill: #262626\" transform=\"translate(20.491 86.575312) scale(0.088 -0.088)\">\n       <defs>\n        <path id=\"DejaVuSans-33\" d=\"M 2597 2516 \nQ 3050 2419 3304 2112 \nQ 3559 1806 3559 1356 \nQ 3559 666 3084 287 \nQ 2609 -91 1734 -91 \nQ 1441 -91 1130 -33 \nQ 819 25 488 141 \nL 488 750 \nQ 750 597 1062 519 \nQ 1375 441 1716 441 \nQ 2309 441 2620 675 \nQ 2931 909 2931 1356 \nQ 2931 1769 2642 2001 \nQ 2353 2234 1838 2234 \nL 1294 2234 \nL 1294 2753 \nL 1863 2753 \nQ 2328 2753 2575 2939 \nQ 2822 3125 2822 3475 \nQ 2822 3834 2567 4026 \nQ 2313 4219 1838 4219 \nQ 1578 4219 1281 4162 \nQ 984 4106 628 3988 \nL 628 4550 \nQ 988 4650 1302 4700 \nQ 1616 4750 1894 4750 \nQ 2613 4750 3031 4423 \nQ 3450 4097 3450 3541 \nQ 3450 3153 3228 2886 \nQ 3006 2619 2597 2516 \nz\n\" transform=\"scale(0.015625)\"/>\n       </defs>\n       <use xlink:href=\"#DejaVuSans-33\"/>\n       <use xlink:href=\"#DejaVuSans-2e\" transform=\"translate(63.623047 0)\"/>\n       <use xlink:href=\"#DejaVuSans-30\" transform=\"translate(95.410156 0)\"/>\n      </g>\n     </g>\n    </g>\n    <g id=\"ytick_8\">\n     <g id=\"line2d_15\">\n      <g>\n       <use xlink:href=\"#m85f4807517\" x=\"42.78575\" y=\"51.552\" style=\"fill: #262626; stroke: #262626\"/>\n      </g>\n     </g>\n     <g id=\"text_16\">\n      <!-- 3.5 -->\n      <g style=\"fill: #262626\" transform=\"translate(20.491 54.895312) scale(0.088 -0.088)\">\n       <use xlink:href=\"#DejaVuSans-33\"/>\n       <use xlink:href=\"#DejaVuSans-2e\" transform=\"translate(63.623047 0)\"/>\n       <use xlink:href=\"#DejaVuSans-35\" transform=\"translate(95.410156 0)\"/>\n      </g>\n     </g>\n    </g>\n    <g id=\"ytick_9\">\n     <g id=\"line2d_16\">\n      <g>\n       <use xlink:href=\"#m85f4807517\" x=\"42.78575\" y=\"19.872\" style=\"fill: #262626; stroke: #262626\"/>\n      </g>\n     </g>\n     <g id=\"text_17\">\n      <!-- 4.0 -->\n      <g style=\"fill: #262626\" transform=\"translate(20.491 23.215312) scale(0.088 -0.088)\">\n       <use xlink:href=\"#DejaVuSans-34\"/>\n       <use xlink:href=\"#DejaVuSans-2e\" transform=\"translate(63.623047 0)\"/>\n       <use xlink:href=\"#DejaVuSans-30\" transform=\"translate(95.410156 0)\"/>\n      </g>\n     </g>\n    </g>\n    <g id=\"text_18\">\n     <!-- # of major earthquakes in Southern CA -->\n     <g style=\"fill: #262626\" transform=\"translate(14.4945 234.6465) rotate(-90) scale(0.096 -0.096)\">\n      <defs>\n       <path id=\"DejaVuSans-23\" d=\"M 3272 2816 \nL 2363 2816 \nL 2100 1772 \nL 3016 1772 \nL 3272 2816 \nz\nM 2803 4594 \nL 2478 3297 \nL 3391 3297 \nL 3719 4594 \nL 4219 4594 \nL 3897 3297 \nL 4872 3297 \nL 4872 2816 \nL 3775 2816 \nL 3519 1772 \nL 4513 1772 \nL 4513 1294 \nL 3397 1294 \nL 3072 0 \nL 2572 0 \nL 2894 1294 \nL 1978 1294 \nL 1656 0 \nL 1153 0 \nL 1478 1294 \nL 494 1294 \nL 494 1772 \nL 1594 1772 \nL 1856 2816 \nL 850 2816 \nL 850 3297 \nL 1978 3297 \nL 2297 4594 \nL 2803 4594 \nz\n\" transform=\"scale(0.015625)\"/>\n       <path id=\"DejaVuSans-20\" transform=\"scale(0.015625)\"/>\n       <path id=\"DejaVuSans-6f\" d=\"M 1959 3097 \nQ 1497 3097 1228 2736 \nQ 959 2375 959 1747 \nQ 959 1119 1226 758 \nQ 1494 397 1959 397 \nQ 2419 397 2687 759 \nQ 2956 1122 2956 1747 \nQ 2956 2369 2687 2733 \nQ 2419 3097 1959 3097 \nz\nM 1959 3584 \nQ 2709 3584 3137 3096 \nQ 3566 2609 3566 1747 \nQ 3566 888 3137 398 \nQ 2709 -91 1959 -91 \nQ 1206 -91 779 398 \nQ 353 888 353 1747 \nQ 353 2609 779 3096 \nQ 1206 3584 1959 3584 \nz\n\" transform=\"scale(0.015625)\"/>\n       <path id=\"DejaVuSans-66\" d=\"M 2375 4863 \nL 2375 4384 \nL 1825 4384 \nQ 1516 4384 1395 4259 \nQ 1275 4134 1275 3809 \nL 1275 3500 \nL 2222 3500 \nL 2222 3053 \nL 1275 3053 \nL 1275 0 \nL 697 0 \nL 697 3053 \nL 147 3053 \nL 147 3500 \nL 697 3500 \nL 697 3744 \nQ 697 4328 969 4595 \nQ 1241 4863 1831 4863 \nL 2375 4863 \nz\n\" transform=\"scale(0.015625)\"/>\n       <path id=\"DejaVuSans-6d\" d=\"M 3328 2828 \nQ 3544 3216 3844 3400 \nQ 4144 3584 4550 3584 \nQ 5097 3584 5394 3201 \nQ 5691 2819 5691 2113 \nL 5691 0 \nL 5113 0 \nL 5113 2094 \nQ 5113 2597 4934 2840 \nQ 4756 3084 4391 3084 \nQ 3944 3084 3684 2787 \nQ 3425 2491 3425 1978 \nL 3425 0 \nL 2847 0 \nL 2847 2094 \nQ 2847 2600 2669 2842 \nQ 2491 3084 2119 3084 \nQ 1678 3084 1418 2786 \nQ 1159 2488 1159 1978 \nL 1159 0 \nL 581 0 \nL 581 3500 \nL 1159 3500 \nL 1159 2956 \nQ 1356 3278 1631 3431 \nQ 1906 3584 2284 3584 \nQ 2666 3584 2933 3390 \nQ 3200 3197 3328 2828 \nz\n\" transform=\"scale(0.015625)\"/>\n       <path id=\"DejaVuSans-6a\" d=\"M 603 3500 \nL 1178 3500 \nL 1178 -63 \nQ 1178 -731 923 -1031 \nQ 669 -1331 103 -1331 \nL -116 -1331 \nL -116 -844 \nL 38 -844 \nQ 366 -844 484 -692 \nQ 603 -541 603 -63 \nL 603 3500 \nz\nM 603 4863 \nL 1178 4863 \nL 1178 4134 \nL 603 4134 \nL 603 4863 \nz\n\" transform=\"scale(0.015625)\"/>\n       <path id=\"DejaVuSans-72\" d=\"M 2631 2963 \nQ 2534 3019 2420 3045 \nQ 2306 3072 2169 3072 \nQ 1681 3072 1420 2755 \nQ 1159 2438 1159 1844 \nL 1159 0 \nL 581 0 \nL 581 3500 \nL 1159 3500 \nL 1159 2956 \nQ 1341 3275 1631 3429 \nQ 1922 3584 2338 3584 \nQ 2397 3584 2469 3576 \nQ 2541 3569 2628 3553 \nL 2631 2963 \nz\n\" transform=\"scale(0.015625)\"/>\n       <path id=\"DejaVuSans-74\" d=\"M 1172 4494 \nL 1172 3500 \nL 2356 3500 \nL 2356 3053 \nL 1172 3053 \nL 1172 1153 \nQ 1172 725 1289 603 \nQ 1406 481 1766 481 \nL 2356 481 \nL 2356 0 \nL 1766 0 \nQ 1100 0 847 248 \nQ 594 497 594 1153 \nL 594 3053 \nL 172 3053 \nL 172 3500 \nL 594 3500 \nL 594 4494 \nL 1172 4494 \nz\n\" transform=\"scale(0.015625)\"/>\n       <path id=\"DejaVuSans-68\" d=\"M 3513 2113 \nL 3513 0 \nL 2938 0 \nL 2938 2094 \nQ 2938 2591 2744 2837 \nQ 2550 3084 2163 3084 \nQ 1697 3084 1428 2787 \nQ 1159 2491 1159 1978 \nL 1159 0 \nL 581 0 \nL 581 4863 \nL 1159 4863 \nL 1159 2956 \nQ 1366 3272 1645 3428 \nQ 1925 3584 2291 3584 \nQ 2894 3584 3203 3211 \nQ 3513 2838 3513 2113 \nz\n\" transform=\"scale(0.015625)\"/>\n       <path id=\"DejaVuSans-71\" d=\"M 947 1747 \nQ 947 1113 1208 752 \nQ 1469 391 1925 391 \nQ 2381 391 2643 752 \nQ 2906 1113 2906 1747 \nQ 2906 2381 2643 2742 \nQ 2381 3103 1925 3103 \nQ 1469 3103 1208 2742 \nQ 947 2381 947 1747 \nz\nM 2906 525 \nQ 2725 213 2448 61 \nQ 2172 -91 1784 -91 \nQ 1150 -91 751 415 \nQ 353 922 353 1747 \nQ 353 2572 751 3078 \nQ 1150 3584 1784 3584 \nQ 2172 3584 2448 3432 \nQ 2725 3281 2906 2969 \nL 2906 3500 \nL 3481 3500 \nL 3481 -1331 \nL 2906 -1331 \nL 2906 525 \nz\n\" transform=\"scale(0.015625)\"/>\n       <path id=\"DejaVuSans-75\" d=\"M 544 1381 \nL 544 3500 \nL 1119 3500 \nL 1119 1403 \nQ 1119 906 1312 657 \nQ 1506 409 1894 409 \nQ 2359 409 2629 706 \nQ 2900 1003 2900 1516 \nL 2900 3500 \nL 3475 3500 \nL 3475 0 \nL 2900 0 \nL 2900 538 \nQ 2691 219 2414 64 \nQ 2138 -91 1772 -91 \nQ 1169 -91 856 284 \nQ 544 659 544 1381 \nz\nM 1991 3584 \nL 1991 3584 \nz\n\" transform=\"scale(0.015625)\"/>\n       <path id=\"DejaVuSans-6b\" d=\"M 581 4863 \nL 1159 4863 \nL 1159 1991 \nL 2875 3500 \nL 3609 3500 \nL 1753 1863 \nL 3688 0 \nL 2938 0 \nL 1159 1709 \nL 1159 0 \nL 581 0 \nL 581 4863 \nz\n\" transform=\"scale(0.015625)\"/>\n       <path id=\"DejaVuSans-73\" d=\"M 2834 3397 \nL 2834 2853 \nQ 2591 2978 2328 3040 \nQ 2066 3103 1784 3103 \nQ 1356 3103 1142 2972 \nQ 928 2841 928 2578 \nQ 928 2378 1081 2264 \nQ 1234 2150 1697 2047 \nL 1894 2003 \nQ 2506 1872 2764 1633 \nQ 3022 1394 3022 966 \nQ 3022 478 2636 193 \nQ 2250 -91 1575 -91 \nQ 1294 -91 989 -36 \nQ 684 19 347 128 \nL 347 722 \nQ 666 556 975 473 \nQ 1284 391 1588 391 \nQ 1994 391 2212 530 \nQ 2431 669 2431 922 \nQ 2431 1156 2273 1281 \nQ 2116 1406 1581 1522 \nL 1381 1569 \nQ 847 1681 609 1914 \nQ 372 2147 372 2553 \nQ 372 3047 722 3315 \nQ 1072 3584 1716 3584 \nQ 2034 3584 2315 3537 \nQ 2597 3491 2834 3397 \nz\n\" transform=\"scale(0.015625)\"/>\n       <path id=\"DejaVuSans-69\" d=\"M 603 3500 \nL 1178 3500 \nL 1178 0 \nL 603 0 \nL 603 3500 \nz\nM 603 4863 \nL 1178 4863 \nL 1178 4134 \nL 603 4134 \nL 603 4863 \nz\n\" transform=\"scale(0.015625)\"/>\n       <path id=\"DejaVuSans-6e\" d=\"M 3513 2113 \nL 3513 0 \nL 2938 0 \nL 2938 2094 \nQ 2938 2591 2744 2837 \nQ 2550 3084 2163 3084 \nQ 1697 3084 1428 2787 \nQ 1159 2491 1159 1978 \nL 1159 0 \nL 581 0 \nL 581 3500 \nL 1159 3500 \nL 1159 2956 \nQ 1366 3272 1645 3428 \nQ 1925 3584 2291 3584 \nQ 2894 3584 3203 3211 \nQ 3513 2838 3513 2113 \nz\n\" transform=\"scale(0.015625)\"/>\n       <path id=\"DejaVuSans-53\" d=\"M 3425 4513 \nL 3425 3897 \nQ 3066 4069 2747 4153 \nQ 2428 4238 2131 4238 \nQ 1616 4238 1336 4038 \nQ 1056 3838 1056 3469 \nQ 1056 3159 1242 3001 \nQ 1428 2844 1947 2747 \nL 2328 2669 \nQ 3034 2534 3370 2195 \nQ 3706 1856 3706 1288 \nQ 3706 609 3251 259 \nQ 2797 -91 1919 -91 \nQ 1588 -91 1214 -16 \nQ 841 59 441 206 \nL 441 856 \nQ 825 641 1194 531 \nQ 1563 422 1919 422 \nQ 2459 422 2753 634 \nQ 3047 847 3047 1241 \nQ 3047 1584 2836 1778 \nQ 2625 1972 2144 2069 \nL 1759 2144 \nQ 1053 2284 737 2584 \nQ 422 2884 422 3419 \nQ 422 4038 858 4394 \nQ 1294 4750 2059 4750 \nQ 2388 4750 2728 4690 \nQ 3069 4631 3425 4513 \nz\n\" transform=\"scale(0.015625)\"/>\n       <path id=\"DejaVuSans-43\" d=\"M 4122 4306 \nL 4122 3641 \nQ 3803 3938 3442 4084 \nQ 3081 4231 2675 4231 \nQ 1875 4231 1450 3742 \nQ 1025 3253 1025 2328 \nQ 1025 1406 1450 917 \nQ 1875 428 2675 428 \nQ 3081 428 3442 575 \nQ 3803 722 4122 1019 \nL 4122 359 \nQ 3791 134 3420 21 \nQ 3050 -91 2638 -91 \nQ 1578 -91 968 557 \nQ 359 1206 359 2328 \nQ 359 3453 968 4101 \nQ 1578 4750 2638 4750 \nQ 3056 4750 3426 4639 \nQ 3797 4528 4122 4306 \nz\n\" transform=\"scale(0.015625)\"/>\n       <path id=\"DejaVuSans-41\" d=\"M 2188 4044 \nL 1331 1722 \nL 3047 1722 \nL 2188 4044 \nz\nM 1831 4666 \nL 2547 4666 \nL 4325 0 \nL 3669 0 \nL 3244 1197 \nL 1141 1197 \nL 716 0 \nL 50 0 \nL 1831 4666 \nz\n\" transform=\"scale(0.015625)\"/>\n      </defs>\n      <use xlink:href=\"#DejaVuSans-23\"/>\n      <use xlink:href=\"#DejaVuSans-20\" transform=\"translate(83.789062 0)\"/>\n      <use xlink:href=\"#DejaVuSans-6f\" transform=\"translate(115.576172 0)\"/>\n      <use xlink:href=\"#DejaVuSans-66\" transform=\"translate(176.757812 0)\"/>\n      <use xlink:href=\"#DejaVuSans-20\" transform=\"translate(211.962891 0)\"/>\n      <use xlink:href=\"#DejaVuSans-6d\" transform=\"translate(243.75 0)\"/>\n      <use xlink:href=\"#DejaVuSans-61\" transform=\"translate(341.162109 0)\"/>\n      <use xlink:href=\"#DejaVuSans-6a\" transform=\"translate(402.441406 0)\"/>\n      <use xlink:href=\"#DejaVuSans-6f\" transform=\"translate(430.224609 0)\"/>\n      <use xlink:href=\"#DejaVuSans-72\" transform=\"translate(491.40625 0)\"/>\n      <use xlink:href=\"#DejaVuSans-20\" transform=\"translate(532.519531 0)\"/>\n      <use xlink:href=\"#DejaVuSans-65\" transform=\"translate(564.306641 0)\"/>\n      <use xlink:href=\"#DejaVuSans-61\" transform=\"translate(625.830078 0)\"/>\n      <use xlink:href=\"#DejaVuSans-72\" transform=\"translate(687.109375 0)\"/>\n      <use xlink:href=\"#DejaVuSans-74\" transform=\"translate(728.222656 0)\"/>\n      <use xlink:href=\"#DejaVuSans-68\" transform=\"translate(767.431641 0)\"/>\n      <use xlink:href=\"#DejaVuSans-71\" transform=\"translate(830.810547 0)\"/>\n      <use xlink:href=\"#DejaVuSans-75\" transform=\"translate(894.287109 0)\"/>\n      <use xlink:href=\"#DejaVuSans-61\" transform=\"translate(957.666016 0)\"/>\n      <use xlink:href=\"#DejaVuSans-6b\" transform=\"translate(1018.945312 0)\"/>\n      <use xlink:href=\"#DejaVuSans-65\" transform=\"translate(1073.230469 0)\"/>\n      <use xlink:href=\"#DejaVuSans-73\" transform=\"translate(1134.753906 0)\"/>\n      <use xlink:href=\"#DejaVuSans-20\" transform=\"translate(1186.853516 0)\"/>\n      <use xlink:href=\"#DejaVuSans-69\" transform=\"translate(1218.640625 0)\"/>\n      <use xlink:href=\"#DejaVuSans-6e\" transform=\"translate(1246.423828 0)\"/>\n      <use xlink:href=\"#DejaVuSans-20\" transform=\"translate(1309.802734 0)\"/>\n      <use xlink:href=\"#DejaVuSans-53\" transform=\"translate(1341.589844 0)\"/>\n      <use xlink:href=\"#DejaVuSans-6f\" transform=\"translate(1405.066406 0)\"/>\n      <use xlink:href=\"#DejaVuSans-75\" transform=\"translate(1466.248047 0)\"/>\n      <use xlink:href=\"#DejaVuSans-74\" transform=\"translate(1529.626953 0)\"/>\n      <use xlink:href=\"#DejaVuSans-68\" transform=\"translate(1568.835938 0)\"/>\n      <use xlink:href=\"#DejaVuSans-65\" transform=\"translate(1632.214844 0)\"/>\n      <use xlink:href=\"#DejaVuSans-72\" transform=\"translate(1693.738281 0)\"/>\n      <use xlink:href=\"#DejaVuSans-6e\" transform=\"translate(1733.101562 0)\"/>\n      <use xlink:href=\"#DejaVuSans-20\" transform=\"translate(1796.480469 0)\"/>\n      <use xlink:href=\"#DejaVuSans-43\" transform=\"translate(1828.267578 0)\"/>\n      <use xlink:href=\"#DejaVuSans-41\" transform=\"translate(1898.091797 0)\"/>\n     </g>\n    </g>\n   </g>\n   <g id=\"patch_3\">\n    <path d=\"M 59.018477 273.312 \nL 84.185496 273.312 \nL 84.185496 273.312 \nL 59.018477 273.312 \nz\n\" clip-path=\"url(#p7ec49453aa)\" style=\"fill: #1f77b4; stroke: #ffffff; stroke-width: 0.8; stroke-linejoin: miter\"/>\n   </g>\n   <g id=\"patch_4\">\n    <path d=\"M 86.244616 273.312 \nL 111.411635 273.312 \nL 111.411635 209.952 \nL 86.244616 209.952 \nz\n\" clip-path=\"url(#p7ec49453aa)\" style=\"fill: #1f77b4; stroke: #ffffff; stroke-width: 0.8; stroke-linejoin: miter\"/>\n   </g>\n   <g id=\"patch_5\">\n    <path d=\"M 113.470755 273.312 \nL 138.637774 273.312 \nL 138.637774 146.592 \nL 113.470755 146.592 \nz\n\" clip-path=\"url(#p7ec49453aa)\" style=\"fill: #1f77b4; stroke: #ffffff; stroke-width: 0.8; stroke-linejoin: miter\"/>\n   </g>\n   <g id=\"patch_6\">\n    <path d=\"M 140.696894 273.312 \nL 165.863913 273.312 \nL 165.863913 273.312 \nL 140.696894 273.312 \nz\n\" clip-path=\"url(#p7ec49453aa)\" style=\"fill: #1f77b4; stroke: #ffffff; stroke-width: 0.8; stroke-linejoin: miter\"/>\n   </g>\n   <g id=\"patch_7\">\n    <path d=\"M 167.923032 273.312 \nL 193.090051 273.312 \nL 193.090051 83.232 \nL 167.923032 83.232 \nz\n\" clip-path=\"url(#p7ec49453aa)\" style=\"fill: #1f77b4; stroke: #ffffff; stroke-width: 0.8; stroke-linejoin: miter\"/>\n   </g>\n   <g id=\"patch_8\">\n    <path d=\"M 195.149171 273.312 \nL 220.31619 273.312 \nL 220.31619 146.592 \nL 195.149171 146.592 \nz\n\" clip-path=\"url(#p7ec49453aa)\" style=\"fill: #1f77b4; stroke: #ffffff; stroke-width: 0.8; stroke-linejoin: miter\"/>\n   </g>\n   <g id=\"patch_9\">\n    <path d=\"M 222.37531 273.312 \nL 247.542329 273.312 \nL 247.542329 209.952 \nL 222.37531 209.952 \nz\n\" clip-path=\"url(#p7ec49453aa)\" style=\"fill: #1f77b4; stroke: #ffffff; stroke-width: 0.8; stroke-linejoin: miter\"/>\n   </g>\n   <g id=\"patch_10\">\n    <path d=\"M 249.601449 273.312 \nL 274.768468 273.312 \nL 274.768468 146.592 \nL 249.601449 146.592 \nz\n\" clip-path=\"url(#p7ec49453aa)\" style=\"fill: #1f77b4; stroke: #ffffff; stroke-width: 0.8; stroke-linejoin: miter\"/>\n   </g>\n   <g id=\"patch_11\">\n    <path d=\"M 276.827587 273.312 \nL 301.994606 273.312 \nL 301.994606 209.952 \nL 276.827587 209.952 \nz\n\" clip-path=\"url(#p7ec49453aa)\" style=\"fill: #1f77b4; stroke: #ffffff; stroke-width: 0.8; stroke-linejoin: miter\"/>\n   </g>\n   <g id=\"patch_12\">\n    <path d=\"M 304.053726 273.312 \nL 329.220745 273.312 \nL 329.220745 19.872 \nL 304.053726 19.872 \nz\n\" clip-path=\"url(#p7ec49453aa)\" style=\"fill: #1f77b4; stroke: #ffffff; stroke-width: 0.8; stroke-linejoin: miter\"/>\n   </g>\n   <g id=\"patch_13\">\n    <path d=\"M 331.279865 273.312 \nL 356.446884 273.312 \nL 356.446884 273.312 \nL 331.279865 273.312 \nz\n\" clip-path=\"url(#p7ec49453aa)\" style=\"fill: #1f77b4; stroke: #ffffff; stroke-width: 0.8; stroke-linejoin: miter\"/>\n   </g>\n   <g id=\"patch_14\">\n    <path d=\"M 358.506004 273.312 \nL 383.673023 273.312 \nL 383.673023 146.592 \nL 358.506004 146.592 \nz\n\" clip-path=\"url(#p7ec49453aa)\" style=\"fill: #1f77b4; stroke: #ffffff; stroke-width: 0.8; stroke-linejoin: miter\"/>\n   </g>\n   <g id=\"patch_15\">\n    <path d=\"M 42.78575 273.312 \nL 42.78575 19.872 \n\" style=\"fill: none; stroke: #262626; stroke-linejoin: miter; stroke-linecap: square\"/>\n   </g>\n   <g id=\"patch_16\">\n    <path d=\"M 71.601987 273.312 \nL 373.606215 273.312 \n\" style=\"fill: none; stroke: #262626; stroke-linejoin: miter; stroke-linecap: square\"/>\n   </g>\n   <g id=\"legend_1\"/>\n  </g>\n </g>\n <defs>\n  <clipPath id=\"p7ec49453aa\">\n   <rect x=\"42.78575\" y=\"7.2\" width=\"357.12\" height=\"266.112\"/>\n  </clipPath>\n </defs>\n</svg>\n"
          },
          "metadata": {}
        }
      ],
      "source": [
        "eq_data = np.array([\n",
        "    0, # 1900-1909\n",
        "    1, # 1910-1919\n",
        "    2, # 1920-1929\n",
        "    0, # 1930-1939\n",
        "    3, # 1940-1949\n",
        "    2, # 1950-1959\n",
        "    1, # 1960-1969\n",
        "    2, # 1970-1979\n",
        "    1, # 1980-1989\n",
        "    4, # 1990-1999\n",
        "    0, # 2000-2009\n",
        "    2 # 2010-2019\n",
        "])\n",
        "fig, ax = plt.subplots(dpi=150)\n",
        "ax.bar(np.linspace(1900, 2019, eq_data.shape[0]), eq_data, width=10)\n",
        "ax.set_xlabel('Decade')\n",
        "ax.set_ylabel('# of major earthquakes in Southern CA')\n",
        "plt.legend(loc=\"best\", frameon=False)\n",
        "sns.despine(trim=True);"
      ]
    },
    {
      "cell_type": "markdown",
      "metadata": {
        "id": "h4p8aPsasKfD"
      },
      "source": [
        "B. The [Poisson distribution](https://en.wikipedia.org/wiki/Poisson_distribution) is a discrete distribution with values $\\{0,1,2,\\dots\\}$ which is commonly used to model the number of events occuring in a certain time period.\n",
        "It is the right choice when these events are happening independently and the probability of any event happening over a small period of time is constant.\n",
        "Let's use the Poisson to model the number of earthquakes $X$ occuring in a decade.\n",
        "We write:\n",
        "\n",
        "$$\n",
        "X \\sim \\operatorname{Poisson}(r),\n",
        "$$\n",
        "\n",
        "where $r$ is the *rate parameter* of Poisson.\n",
        "The rate is the number of events per time period.\n",
        "Here, $r$ is the number of earthquakes per decade.\n",
        "Using the data above, we can set the rate as the empirical average of the observed number of earthquakes per decade:"
      ]
    },
    {
      "cell_type": "code",
      "execution_count": 11,
      "metadata": {
        "id": "cV-U04DVsKfD",
        "outputId": "54ef171d-a450-4643-e50f-c19b10b1a18b",
        "colab": {
          "base_uri": "https://localhost:8080/"
        }
      },
      "outputs": [
        {
          "output_type": "stream",
          "name": "stdout",
          "text": [
            "r = 1.50 major earthquakes per decade\n"
          ]
        }
      ],
      "source": [
        "r = np.mean(eq_data)\n",
        "print('r = {0:1.2f} major earthquakes per decade'.format(r))"
      ]
    },
    {
      "cell_type": "markdown",
      "metadata": {
        "id": "x-k7EHQEsKfD"
      },
      "source": [
        "Strictly speaking, **this is not how you should be calibrating models!!!**\n",
        "We will learn about the **right** way (which uses Bayes' rule) in the subsequent lectures.\n",
        "But it will do for now as the answer you would get using the **right** way is, for this problem, almost the same.\n",
        "Let's define a Poisson distribution using ``scipy.stats.poisson`` (see documentation [here](https://docs.scipy.org/doc/scipy/reference/generated/scipy.stats.poisson.html)):"
      ]
    },
    {
      "cell_type": "code",
      "execution_count": 12,
      "metadata": {
        "id": "gZUuKQd4sKfD"
      },
      "outputs": [],
      "source": [
        "X = st.poisson(r)"
      ]
    },
    {
      "cell_type": "markdown",
      "metadata": {
        "id": "9agSSzZ6sKfD"
      },
      "source": [
        "A. Plot the probability mass function of ``X``."
      ]
    },
    {
      "cell_type": "code",
      "execution_count": 13,
      "metadata": {
        "id": "lKfS6TiysKfD",
        "outputId": "3bc762d8-beba-4698-eff4-6ce37bbbbd87",
        "colab": {
          "base_uri": "https://localhost:8080/",
          "height": 453
        }
      },
      "outputs": [
        {
          "output_type": "display_data",
          "data": {
            "text/plain": [
              "<Figure size 640x480 with 1 Axes>"
            ],
            "image/svg+xml": "<?xml version=\"1.0\" encoding=\"utf-8\" standalone=\"no\"?>\n<!DOCTYPE svg PUBLIC \"-//W3C//DTD SVG 1.1//EN\"\n  \"http://www.w3.org/Graphics/SVG/1.1/DTD/svg11.dtd\">\n<svg xmlns:xlink=\"http://www.w3.org/1999/xlink\" width=\"412.70475pt\" height=\"323.91425pt\" viewBox=\"0 0 412.70475 323.91425\" xmlns=\"http://www.w3.org/2000/svg\" version=\"1.1\">\n <metadata>\n  <rdf:RDF xmlns:dc=\"http://purl.org/dc/elements/1.1/\" xmlns:cc=\"http://creativecommons.org/ns#\" xmlns:rdf=\"http://www.w3.org/1999/02/22-rdf-syntax-ns#\">\n   <cc:Work>\n    <dc:type rdf:resource=\"http://purl.org/dc/dcmitype/StillImage\"/>\n    <dc:date>2025-01-18T15:48:44.652111</dc:date>\n    <dc:format>image/svg+xml</dc:format>\n    <dc:creator>\n     <cc:Agent>\n      <dc:title>Matplotlib v3.10.0, https://matplotlib.org/</dc:title>\n     </cc:Agent>\n    </dc:creator>\n   </cc:Work>\n  </rdf:RDF>\n </metadata>\n <defs>\n  <style type=\"text/css\">*{stroke-linejoin: round; stroke-linecap: butt}</style>\n </defs>\n <g id=\"figure_1\">\n  <g id=\"patch_1\">\n   <path d=\"M 0 323.91425 \nL 412.70475 323.91425 \nL 412.70475 0 \nL 0 0 \nz\n\" style=\"fill: #ffffff\"/>\n  </g>\n  <g id=\"axes_1\">\n   <g id=\"patch_2\">\n    <path d=\"M 48.38475 286.6065 \nL 405.50475 286.6065 \nL 405.50475 20.4945 \nL 48.38475 20.4945 \nz\n\" style=\"fill: #ffffff\"/>\n   </g>\n   <g id=\"matplotlib.axis_1\">\n    <g id=\"xtick_1\">\n     <g id=\"line2d_1\">\n      <defs>\n       <path id=\"m1f9c3399cd\" d=\"M 0 0 \nL 0 4.8 \n\" style=\"stroke: #262626\"/>\n      </defs>\n      <g>\n       <use xlink:href=\"#m1f9c3399cd\" x=\"77.868683\" y=\"286.6065\" style=\"fill: #262626; stroke: #262626\"/>\n      </g>\n     </g>\n     <g id=\"text_1\">\n      <!-- 0 -->\n      <g style=\"fill: #262626\" transform=\"translate(75.069183 301.593125) scale(0.088 -0.088)\">\n       <defs>\n        <path id=\"DejaVuSans-30\" d=\"M 2034 4250 \nQ 1547 4250 1301 3770 \nQ 1056 3291 1056 2328 \nQ 1056 1369 1301 889 \nQ 1547 409 2034 409 \nQ 2525 409 2770 889 \nQ 3016 1369 3016 2328 \nQ 3016 3291 2770 3770 \nQ 2525 4250 2034 4250 \nz\nM 2034 4750 \nQ 2819 4750 3233 4129 \nQ 3647 3509 3647 2328 \nQ 3647 1150 3233 529 \nQ 2819 -91 2034 -91 \nQ 1250 -91 836 529 \nQ 422 1150 422 2328 \nQ 422 3509 836 4129 \nQ 1250 4750 2034 4750 \nz\n\" transform=\"scale(0.015625)\"/>\n       </defs>\n       <use xlink:href=\"#DejaVuSans-30\"/>\n      </g>\n     </g>\n    </g>\n    <g id=\"xtick_2\">\n     <g id=\"line2d_2\">\n      <g>\n       <use xlink:href=\"#m1f9c3399cd\" x=\"144.124713\" y=\"286.6065\" style=\"fill: #262626; stroke: #262626\"/>\n      </g>\n     </g>\n     <g id=\"text_2\">\n      <!-- 2 -->\n      <g style=\"fill: #262626\" transform=\"translate(141.325213 301.593125) scale(0.088 -0.088)\">\n       <defs>\n        <path id=\"DejaVuSans-32\" d=\"M 1228 531 \nL 3431 531 \nL 3431 0 \nL 469 0 \nL 469 531 \nQ 828 903 1448 1529 \nQ 2069 2156 2228 2338 \nQ 2531 2678 2651 2914 \nQ 2772 3150 2772 3378 \nQ 2772 3750 2511 3984 \nQ 2250 4219 1831 4219 \nQ 1534 4219 1204 4116 \nQ 875 4013 500 3803 \nL 500 4441 \nQ 881 4594 1212 4672 \nQ 1544 4750 1819 4750 \nQ 2544 4750 2975 4387 \nQ 3406 4025 3406 3419 \nQ 3406 3131 3298 2873 \nQ 3191 2616 2906 2266 \nQ 2828 2175 2409 1742 \nQ 1991 1309 1228 531 \nz\n\" transform=\"scale(0.015625)\"/>\n       </defs>\n       <use xlink:href=\"#DejaVuSans-32\"/>\n      </g>\n     </g>\n    </g>\n    <g id=\"xtick_3\">\n     <g id=\"line2d_3\">\n      <g>\n       <use xlink:href=\"#m1f9c3399cd\" x=\"210.380743\" y=\"286.6065\" style=\"fill: #262626; stroke: #262626\"/>\n      </g>\n     </g>\n     <g id=\"text_3\">\n      <!-- 4 -->\n      <g style=\"fill: #262626\" transform=\"translate(207.581243 301.593125) scale(0.088 -0.088)\">\n       <defs>\n        <path id=\"DejaVuSans-34\" d=\"M 2419 4116 \nL 825 1625 \nL 2419 1625 \nL 2419 4116 \nz\nM 2253 4666 \nL 3047 4666 \nL 3047 1625 \nL 3713 1625 \nL 3713 1100 \nL 3047 1100 \nL 3047 0 \nL 2419 0 \nL 2419 1100 \nL 313 1100 \nL 313 1709 \nL 2253 4666 \nz\n\" transform=\"scale(0.015625)\"/>\n       </defs>\n       <use xlink:href=\"#DejaVuSans-34\"/>\n      </g>\n     </g>\n    </g>\n    <g id=\"xtick_4\">\n     <g id=\"line2d_4\">\n      <g>\n       <use xlink:href=\"#m1f9c3399cd\" x=\"276.636772\" y=\"286.6065\" style=\"fill: #262626; stroke: #262626\"/>\n      </g>\n     </g>\n     <g id=\"text_4\">\n      <!-- 6 -->\n      <g style=\"fill: #262626\" transform=\"translate(273.837272 301.593125) scale(0.088 -0.088)\">\n       <defs>\n        <path id=\"DejaVuSans-36\" d=\"M 2113 2584 \nQ 1688 2584 1439 2293 \nQ 1191 2003 1191 1497 \nQ 1191 994 1439 701 \nQ 1688 409 2113 409 \nQ 2538 409 2786 701 \nQ 3034 994 3034 1497 \nQ 3034 2003 2786 2293 \nQ 2538 2584 2113 2584 \nz\nM 3366 4563 \nL 3366 3988 \nQ 3128 4100 2886 4159 \nQ 2644 4219 2406 4219 \nQ 1781 4219 1451 3797 \nQ 1122 3375 1075 2522 \nQ 1259 2794 1537 2939 \nQ 1816 3084 2150 3084 \nQ 2853 3084 3261 2657 \nQ 3669 2231 3669 1497 \nQ 3669 778 3244 343 \nQ 2819 -91 2113 -91 \nQ 1303 -91 875 529 \nQ 447 1150 447 2328 \nQ 447 3434 972 4092 \nQ 1497 4750 2381 4750 \nQ 2619 4750 2861 4703 \nQ 3103 4656 3366 4563 \nz\n\" transform=\"scale(0.015625)\"/>\n       </defs>\n       <use xlink:href=\"#DejaVuSans-36\"/>\n      </g>\n     </g>\n    </g>\n    <g id=\"xtick_5\">\n     <g id=\"line2d_5\">\n      <g>\n       <use xlink:href=\"#m1f9c3399cd\" x=\"342.892802\" y=\"286.6065\" style=\"fill: #262626; stroke: #262626\"/>\n      </g>\n     </g>\n     <g id=\"text_5\">\n      <!-- 8 -->\n      <g style=\"fill: #262626\" transform=\"translate(340.093302 301.593125) scale(0.088 -0.088)\">\n       <defs>\n        <path id=\"DejaVuSans-38\" d=\"M 2034 2216 \nQ 1584 2216 1326 1975 \nQ 1069 1734 1069 1313 \nQ 1069 891 1326 650 \nQ 1584 409 2034 409 \nQ 2484 409 2743 651 \nQ 3003 894 3003 1313 \nQ 3003 1734 2745 1975 \nQ 2488 2216 2034 2216 \nz\nM 1403 2484 \nQ 997 2584 770 2862 \nQ 544 3141 544 3541 \nQ 544 4100 942 4425 \nQ 1341 4750 2034 4750 \nQ 2731 4750 3128 4425 \nQ 3525 4100 3525 3541 \nQ 3525 3141 3298 2862 \nQ 3072 2584 2669 2484 \nQ 3125 2378 3379 2068 \nQ 3634 1759 3634 1313 \nQ 3634 634 3220 271 \nQ 2806 -91 2034 -91 \nQ 1263 -91 848 271 \nQ 434 634 434 1313 \nQ 434 1759 690 2068 \nQ 947 2378 1403 2484 \nz\nM 1172 3481 \nQ 1172 3119 1398 2916 \nQ 1625 2713 2034 2713 \nQ 2441 2713 2670 2916 \nQ 2900 3119 2900 3481 \nQ 2900 3844 2670 4047 \nQ 2441 4250 2034 4250 \nQ 1625 4250 1398 4047 \nQ 1172 3844 1172 3481 \nz\n\" transform=\"scale(0.015625)\"/>\n       </defs>\n       <use xlink:href=\"#DejaVuSans-38\"/>\n      </g>\n     </g>\n    </g>\n    <g id=\"text_6\">\n     <!-- Number of Earthquakes in a Decade -->\n     <g style=\"fill: #262626\" transform=\"translate(139.89825 314.71775) scale(0.096 -0.096)\">\n      <defs>\n       <path id=\"DejaVuSans-4e\" d=\"M 628 4666 \nL 1478 4666 \nL 3547 763 \nL 3547 4666 \nL 4159 4666 \nL 4159 0 \nL 3309 0 \nL 1241 3903 \nL 1241 0 \nL 628 0 \nL 628 4666 \nz\n\" transform=\"scale(0.015625)\"/>\n       <path id=\"DejaVuSans-75\" d=\"M 544 1381 \nL 544 3500 \nL 1119 3500 \nL 1119 1403 \nQ 1119 906 1312 657 \nQ 1506 409 1894 409 \nQ 2359 409 2629 706 \nQ 2900 1003 2900 1516 \nL 2900 3500 \nL 3475 3500 \nL 3475 0 \nL 2900 0 \nL 2900 538 \nQ 2691 219 2414 64 \nQ 2138 -91 1772 -91 \nQ 1169 -91 856 284 \nQ 544 659 544 1381 \nz\nM 1991 3584 \nL 1991 3584 \nz\n\" transform=\"scale(0.015625)\"/>\n       <path id=\"DejaVuSans-6d\" d=\"M 3328 2828 \nQ 3544 3216 3844 3400 \nQ 4144 3584 4550 3584 \nQ 5097 3584 5394 3201 \nQ 5691 2819 5691 2113 \nL 5691 0 \nL 5113 0 \nL 5113 2094 \nQ 5113 2597 4934 2840 \nQ 4756 3084 4391 3084 \nQ 3944 3084 3684 2787 \nQ 3425 2491 3425 1978 \nL 3425 0 \nL 2847 0 \nL 2847 2094 \nQ 2847 2600 2669 2842 \nQ 2491 3084 2119 3084 \nQ 1678 3084 1418 2786 \nQ 1159 2488 1159 1978 \nL 1159 0 \nL 581 0 \nL 581 3500 \nL 1159 3500 \nL 1159 2956 \nQ 1356 3278 1631 3431 \nQ 1906 3584 2284 3584 \nQ 2666 3584 2933 3390 \nQ 3200 3197 3328 2828 \nz\n\" transform=\"scale(0.015625)\"/>\n       <path id=\"DejaVuSans-62\" d=\"M 3116 1747 \nQ 3116 2381 2855 2742 \nQ 2594 3103 2138 3103 \nQ 1681 3103 1420 2742 \nQ 1159 2381 1159 1747 \nQ 1159 1113 1420 752 \nQ 1681 391 2138 391 \nQ 2594 391 2855 752 \nQ 3116 1113 3116 1747 \nz\nM 1159 2969 \nQ 1341 3281 1617 3432 \nQ 1894 3584 2278 3584 \nQ 2916 3584 3314 3078 \nQ 3713 2572 3713 1747 \nQ 3713 922 3314 415 \nQ 2916 -91 2278 -91 \nQ 1894 -91 1617 61 \nQ 1341 213 1159 525 \nL 1159 0 \nL 581 0 \nL 581 4863 \nL 1159 4863 \nL 1159 2969 \nz\n\" transform=\"scale(0.015625)\"/>\n       <path id=\"DejaVuSans-65\" d=\"M 3597 1894 \nL 3597 1613 \nL 953 1613 \nQ 991 1019 1311 708 \nQ 1631 397 2203 397 \nQ 2534 397 2845 478 \nQ 3156 559 3463 722 \nL 3463 178 \nQ 3153 47 2828 -22 \nQ 2503 -91 2169 -91 \nQ 1331 -91 842 396 \nQ 353 884 353 1716 \nQ 353 2575 817 3079 \nQ 1281 3584 2069 3584 \nQ 2775 3584 3186 3129 \nQ 3597 2675 3597 1894 \nz\nM 3022 2063 \nQ 3016 2534 2758 2815 \nQ 2500 3097 2075 3097 \nQ 1594 3097 1305 2825 \nQ 1016 2553 972 2059 \nL 3022 2063 \nz\n\" transform=\"scale(0.015625)\"/>\n       <path id=\"DejaVuSans-72\" d=\"M 2631 2963 \nQ 2534 3019 2420 3045 \nQ 2306 3072 2169 3072 \nQ 1681 3072 1420 2755 \nQ 1159 2438 1159 1844 \nL 1159 0 \nL 581 0 \nL 581 3500 \nL 1159 3500 \nL 1159 2956 \nQ 1341 3275 1631 3429 \nQ 1922 3584 2338 3584 \nQ 2397 3584 2469 3576 \nQ 2541 3569 2628 3553 \nL 2631 2963 \nz\n\" transform=\"scale(0.015625)\"/>\n       <path id=\"DejaVuSans-20\" transform=\"scale(0.015625)\"/>\n       <path id=\"DejaVuSans-6f\" d=\"M 1959 3097 \nQ 1497 3097 1228 2736 \nQ 959 2375 959 1747 \nQ 959 1119 1226 758 \nQ 1494 397 1959 397 \nQ 2419 397 2687 759 \nQ 2956 1122 2956 1747 \nQ 2956 2369 2687 2733 \nQ 2419 3097 1959 3097 \nz\nM 1959 3584 \nQ 2709 3584 3137 3096 \nQ 3566 2609 3566 1747 \nQ 3566 888 3137 398 \nQ 2709 -91 1959 -91 \nQ 1206 -91 779 398 \nQ 353 888 353 1747 \nQ 353 2609 779 3096 \nQ 1206 3584 1959 3584 \nz\n\" transform=\"scale(0.015625)\"/>\n       <path id=\"DejaVuSans-66\" d=\"M 2375 4863 \nL 2375 4384 \nL 1825 4384 \nQ 1516 4384 1395 4259 \nQ 1275 4134 1275 3809 \nL 1275 3500 \nL 2222 3500 \nL 2222 3053 \nL 1275 3053 \nL 1275 0 \nL 697 0 \nL 697 3053 \nL 147 3053 \nL 147 3500 \nL 697 3500 \nL 697 3744 \nQ 697 4328 969 4595 \nQ 1241 4863 1831 4863 \nL 2375 4863 \nz\n\" transform=\"scale(0.015625)\"/>\n       <path id=\"DejaVuSans-45\" d=\"M 628 4666 \nL 3578 4666 \nL 3578 4134 \nL 1259 4134 \nL 1259 2753 \nL 3481 2753 \nL 3481 2222 \nL 1259 2222 \nL 1259 531 \nL 3634 531 \nL 3634 0 \nL 628 0 \nL 628 4666 \nz\n\" transform=\"scale(0.015625)\"/>\n       <path id=\"DejaVuSans-61\" d=\"M 2194 1759 \nQ 1497 1759 1228 1600 \nQ 959 1441 959 1056 \nQ 959 750 1161 570 \nQ 1363 391 1709 391 \nQ 2188 391 2477 730 \nQ 2766 1069 2766 1631 \nL 2766 1759 \nL 2194 1759 \nz\nM 3341 1997 \nL 3341 0 \nL 2766 0 \nL 2766 531 \nQ 2569 213 2275 61 \nQ 1981 -91 1556 -91 \nQ 1019 -91 701 211 \nQ 384 513 384 1019 \nQ 384 1609 779 1909 \nQ 1175 2209 1959 2209 \nL 2766 2209 \nL 2766 2266 \nQ 2766 2663 2505 2880 \nQ 2244 3097 1772 3097 \nQ 1472 3097 1187 3025 \nQ 903 2953 641 2809 \nL 641 3341 \nQ 956 3463 1253 3523 \nQ 1550 3584 1831 3584 \nQ 2591 3584 2966 3190 \nQ 3341 2797 3341 1997 \nz\n\" transform=\"scale(0.015625)\"/>\n       <path id=\"DejaVuSans-74\" d=\"M 1172 4494 \nL 1172 3500 \nL 2356 3500 \nL 2356 3053 \nL 1172 3053 \nL 1172 1153 \nQ 1172 725 1289 603 \nQ 1406 481 1766 481 \nL 2356 481 \nL 2356 0 \nL 1766 0 \nQ 1100 0 847 248 \nQ 594 497 594 1153 \nL 594 3053 \nL 172 3053 \nL 172 3500 \nL 594 3500 \nL 594 4494 \nL 1172 4494 \nz\n\" transform=\"scale(0.015625)\"/>\n       <path id=\"DejaVuSans-68\" d=\"M 3513 2113 \nL 3513 0 \nL 2938 0 \nL 2938 2094 \nQ 2938 2591 2744 2837 \nQ 2550 3084 2163 3084 \nQ 1697 3084 1428 2787 \nQ 1159 2491 1159 1978 \nL 1159 0 \nL 581 0 \nL 581 4863 \nL 1159 4863 \nL 1159 2956 \nQ 1366 3272 1645 3428 \nQ 1925 3584 2291 3584 \nQ 2894 3584 3203 3211 \nQ 3513 2838 3513 2113 \nz\n\" transform=\"scale(0.015625)\"/>\n       <path id=\"DejaVuSans-71\" d=\"M 947 1747 \nQ 947 1113 1208 752 \nQ 1469 391 1925 391 \nQ 2381 391 2643 752 \nQ 2906 1113 2906 1747 \nQ 2906 2381 2643 2742 \nQ 2381 3103 1925 3103 \nQ 1469 3103 1208 2742 \nQ 947 2381 947 1747 \nz\nM 2906 525 \nQ 2725 213 2448 61 \nQ 2172 -91 1784 -91 \nQ 1150 -91 751 415 \nQ 353 922 353 1747 \nQ 353 2572 751 3078 \nQ 1150 3584 1784 3584 \nQ 2172 3584 2448 3432 \nQ 2725 3281 2906 2969 \nL 2906 3500 \nL 3481 3500 \nL 3481 -1331 \nL 2906 -1331 \nL 2906 525 \nz\n\" transform=\"scale(0.015625)\"/>\n       <path id=\"DejaVuSans-6b\" d=\"M 581 4863 \nL 1159 4863 \nL 1159 1991 \nL 2875 3500 \nL 3609 3500 \nL 1753 1863 \nL 3688 0 \nL 2938 0 \nL 1159 1709 \nL 1159 0 \nL 581 0 \nL 581 4863 \nz\n\" transform=\"scale(0.015625)\"/>\n       <path id=\"DejaVuSans-73\" d=\"M 2834 3397 \nL 2834 2853 \nQ 2591 2978 2328 3040 \nQ 2066 3103 1784 3103 \nQ 1356 3103 1142 2972 \nQ 928 2841 928 2578 \nQ 928 2378 1081 2264 \nQ 1234 2150 1697 2047 \nL 1894 2003 \nQ 2506 1872 2764 1633 \nQ 3022 1394 3022 966 \nQ 3022 478 2636 193 \nQ 2250 -91 1575 -91 \nQ 1294 -91 989 -36 \nQ 684 19 347 128 \nL 347 722 \nQ 666 556 975 473 \nQ 1284 391 1588 391 \nQ 1994 391 2212 530 \nQ 2431 669 2431 922 \nQ 2431 1156 2273 1281 \nQ 2116 1406 1581 1522 \nL 1381 1569 \nQ 847 1681 609 1914 \nQ 372 2147 372 2553 \nQ 372 3047 722 3315 \nQ 1072 3584 1716 3584 \nQ 2034 3584 2315 3537 \nQ 2597 3491 2834 3397 \nz\n\" transform=\"scale(0.015625)\"/>\n       <path id=\"DejaVuSans-69\" d=\"M 603 3500 \nL 1178 3500 \nL 1178 0 \nL 603 0 \nL 603 3500 \nz\nM 603 4863 \nL 1178 4863 \nL 1178 4134 \nL 603 4134 \nL 603 4863 \nz\n\" transform=\"scale(0.015625)\"/>\n       <path id=\"DejaVuSans-6e\" d=\"M 3513 2113 \nL 3513 0 \nL 2938 0 \nL 2938 2094 \nQ 2938 2591 2744 2837 \nQ 2550 3084 2163 3084 \nQ 1697 3084 1428 2787 \nQ 1159 2491 1159 1978 \nL 1159 0 \nL 581 0 \nL 581 3500 \nL 1159 3500 \nL 1159 2956 \nQ 1366 3272 1645 3428 \nQ 1925 3584 2291 3584 \nQ 2894 3584 3203 3211 \nQ 3513 2838 3513 2113 \nz\n\" transform=\"scale(0.015625)\"/>\n       <path id=\"DejaVuSans-44\" d=\"M 1259 4147 \nL 1259 519 \nL 2022 519 \nQ 2988 519 3436 956 \nQ 3884 1394 3884 2338 \nQ 3884 3275 3436 3711 \nQ 2988 4147 2022 4147 \nL 1259 4147 \nz\nM 628 4666 \nL 1925 4666 \nQ 3281 4666 3915 4102 \nQ 4550 3538 4550 2338 \nQ 4550 1131 3912 565 \nQ 3275 0 1925 0 \nL 628 0 \nL 628 4666 \nz\n\" transform=\"scale(0.015625)\"/>\n       <path id=\"DejaVuSans-63\" d=\"M 3122 3366 \nL 3122 2828 \nQ 2878 2963 2633 3030 \nQ 2388 3097 2138 3097 \nQ 1578 3097 1268 2742 \nQ 959 2388 959 1747 \nQ 959 1106 1268 751 \nQ 1578 397 2138 397 \nQ 2388 397 2633 464 \nQ 2878 531 3122 666 \nL 3122 134 \nQ 2881 22 2623 -34 \nQ 2366 -91 2075 -91 \nQ 1284 -91 818 406 \nQ 353 903 353 1747 \nQ 353 2603 823 3093 \nQ 1294 3584 2113 3584 \nQ 2378 3584 2631 3529 \nQ 2884 3475 3122 3366 \nz\n\" transform=\"scale(0.015625)\"/>\n       <path id=\"DejaVuSans-64\" d=\"M 2906 2969 \nL 2906 4863 \nL 3481 4863 \nL 3481 0 \nL 2906 0 \nL 2906 525 \nQ 2725 213 2448 61 \nQ 2172 -91 1784 -91 \nQ 1150 -91 751 415 \nQ 353 922 353 1747 \nQ 353 2572 751 3078 \nQ 1150 3584 1784 3584 \nQ 2172 3584 2448 3432 \nQ 2725 3281 2906 2969 \nz\nM 947 1747 \nQ 947 1113 1208 752 \nQ 1469 391 1925 391 \nQ 2381 391 2643 752 \nQ 2906 1113 2906 1747 \nQ 2906 2381 2643 2742 \nQ 2381 3103 1925 3103 \nQ 1469 3103 1208 2742 \nQ 947 2381 947 1747 \nz\n\" transform=\"scale(0.015625)\"/>\n      </defs>\n      <use xlink:href=\"#DejaVuSans-4e\"/>\n      <use xlink:href=\"#DejaVuSans-75\" transform=\"translate(74.804688 0)\"/>\n      <use xlink:href=\"#DejaVuSans-6d\" transform=\"translate(138.183594 0)\"/>\n      <use xlink:href=\"#DejaVuSans-62\" transform=\"translate(235.595703 0)\"/>\n      <use xlink:href=\"#DejaVuSans-65\" transform=\"translate(299.072266 0)\"/>\n      <use xlink:href=\"#DejaVuSans-72\" transform=\"translate(360.595703 0)\"/>\n      <use xlink:href=\"#DejaVuSans-20\" transform=\"translate(401.708984 0)\"/>\n      <use xlink:href=\"#DejaVuSans-6f\" transform=\"translate(433.496094 0)\"/>\n      <use xlink:href=\"#DejaVuSans-66\" transform=\"translate(494.677734 0)\"/>\n      <use xlink:href=\"#DejaVuSans-20\" transform=\"translate(529.882812 0)\"/>\n      <use xlink:href=\"#DejaVuSans-45\" transform=\"translate(561.669922 0)\"/>\n      <use xlink:href=\"#DejaVuSans-61\" transform=\"translate(624.853516 0)\"/>\n      <use xlink:href=\"#DejaVuSans-72\" transform=\"translate(686.132812 0)\"/>\n      <use xlink:href=\"#DejaVuSans-74\" transform=\"translate(727.246094 0)\"/>\n      <use xlink:href=\"#DejaVuSans-68\" transform=\"translate(766.455078 0)\"/>\n      <use xlink:href=\"#DejaVuSans-71\" transform=\"translate(829.833984 0)\"/>\n      <use xlink:href=\"#DejaVuSans-75\" transform=\"translate(893.310547 0)\"/>\n      <use xlink:href=\"#DejaVuSans-61\" transform=\"translate(956.689453 0)\"/>\n      <use xlink:href=\"#DejaVuSans-6b\" transform=\"translate(1017.96875 0)\"/>\n      <use xlink:href=\"#DejaVuSans-65\" transform=\"translate(1072.253906 0)\"/>\n      <use xlink:href=\"#DejaVuSans-73\" transform=\"translate(1133.777344 0)\"/>\n      <use xlink:href=\"#DejaVuSans-20\" transform=\"translate(1185.876953 0)\"/>\n      <use xlink:href=\"#DejaVuSans-69\" transform=\"translate(1217.664062 0)\"/>\n      <use xlink:href=\"#DejaVuSans-6e\" transform=\"translate(1245.447266 0)\"/>\n      <use xlink:href=\"#DejaVuSans-20\" transform=\"translate(1308.826172 0)\"/>\n      <use xlink:href=\"#DejaVuSans-61\" transform=\"translate(1340.613281 0)\"/>\n      <use xlink:href=\"#DejaVuSans-20\" transform=\"translate(1401.892578 0)\"/>\n      <use xlink:href=\"#DejaVuSans-44\" transform=\"translate(1433.679688 0)\"/>\n      <use xlink:href=\"#DejaVuSans-65\" transform=\"translate(1510.681641 0)\"/>\n      <use xlink:href=\"#DejaVuSans-63\" transform=\"translate(1572.205078 0)\"/>\n      <use xlink:href=\"#DejaVuSans-61\" transform=\"translate(1627.185547 0)\"/>\n      <use xlink:href=\"#DejaVuSans-64\" transform=\"translate(1688.464844 0)\"/>\n      <use xlink:href=\"#DejaVuSans-65\" transform=\"translate(1751.941406 0)\"/>\n     </g>\n    </g>\n   </g>\n   <g id=\"matplotlib.axis_2\">\n    <g id=\"ytick_1\">\n     <g id=\"line2d_6\">\n      <path d=\"M 48.38475 286.6065 \nL 405.50475 286.6065 \n\" clip-path=\"url(#pe892f97e4b)\" style=\"fill: none; stroke-dasharray: 2.96,1.28; stroke-dashoffset: 0; stroke: #cccccc; stroke-opacity: 0.7; stroke-width: 0.8\"/>\n     </g>\n     <g id=\"line2d_7\">\n      <defs>\n       <path id=\"m6dc1d4e5e7\" d=\"M 0 0 \nL -4.8 0 \n\" style=\"stroke: #262626\"/>\n      </defs>\n      <g>\n       <use xlink:href=\"#m6dc1d4e5e7\" x=\"48.38475\" y=\"286.6065\" style=\"fill: #262626; stroke: #262626\"/>\n      </g>\n     </g>\n     <g id=\"text_7\">\n      <!-- 0.00 -->\n      <g style=\"fill: #262626\" transform=\"translate(20.491 289.949812) scale(0.088 -0.088)\">\n       <defs>\n        <path id=\"DejaVuSans-2e\" d=\"M 684 794 \nL 1344 794 \nL 1344 0 \nL 684 0 \nL 684 794 \nz\n\" transform=\"scale(0.015625)\"/>\n       </defs>\n       <use xlink:href=\"#DejaVuSans-30\"/>\n       <use xlink:href=\"#DejaVuSans-2e\" transform=\"translate(63.623047 0)\"/>\n       <use xlink:href=\"#DejaVuSans-30\" transform=\"translate(95.410156 0)\"/>\n       <use xlink:href=\"#DejaVuSans-30\" transform=\"translate(159.033203 0)\"/>\n      </g>\n     </g>\n    </g>\n    <g id=\"ytick_2\">\n     <g id=\"line2d_8\">\n      <path d=\"M 48.38475 248.745191 \nL 405.50475 248.745191 \n\" clip-path=\"url(#pe892f97e4b)\" style=\"fill: none; stroke-dasharray: 2.96,1.28; stroke-dashoffset: 0; stroke: #cccccc; stroke-opacity: 0.7; stroke-width: 0.8\"/>\n     </g>\n     <g id=\"line2d_9\">\n      <g>\n       <use xlink:href=\"#m6dc1d4e5e7\" x=\"48.38475\" y=\"248.745191\" style=\"fill: #262626; stroke: #262626\"/>\n      </g>\n     </g>\n     <g id=\"text_8\">\n      <!-- 0.05 -->\n      <g style=\"fill: #262626\" transform=\"translate(20.491 252.088503) scale(0.088 -0.088)\">\n       <defs>\n        <path id=\"DejaVuSans-35\" d=\"M 691 4666 \nL 3169 4666 \nL 3169 4134 \nL 1269 4134 \nL 1269 2991 \nQ 1406 3038 1543 3061 \nQ 1681 3084 1819 3084 \nQ 2600 3084 3056 2656 \nQ 3513 2228 3513 1497 \nQ 3513 744 3044 326 \nQ 2575 -91 1722 -91 \nQ 1428 -91 1123 -41 \nQ 819 9 494 109 \nL 494 744 \nQ 775 591 1075 516 \nQ 1375 441 1709 441 \nQ 2250 441 2565 725 \nQ 2881 1009 2881 1497 \nQ 2881 1984 2565 2268 \nQ 2250 2553 1709 2553 \nQ 1456 2553 1204 2497 \nQ 953 2441 691 2322 \nL 691 4666 \nz\n\" transform=\"scale(0.015625)\"/>\n       </defs>\n       <use xlink:href=\"#DejaVuSans-30\"/>\n       <use xlink:href=\"#DejaVuSans-2e\" transform=\"translate(63.623047 0)\"/>\n       <use xlink:href=\"#DejaVuSans-30\" transform=\"translate(95.410156 0)\"/>\n       <use xlink:href=\"#DejaVuSans-35\" transform=\"translate(159.033203 0)\"/>\n      </g>\n     </g>\n    </g>\n    <g id=\"ytick_3\">\n     <g id=\"line2d_10\">\n      <path d=\"M 48.38475 210.883881 \nL 405.50475 210.883881 \n\" clip-path=\"url(#pe892f97e4b)\" style=\"fill: none; stroke-dasharray: 2.96,1.28; stroke-dashoffset: 0; stroke: #cccccc; stroke-opacity: 0.7; stroke-width: 0.8\"/>\n     </g>\n     <g id=\"line2d_11\">\n      <g>\n       <use xlink:href=\"#m6dc1d4e5e7\" x=\"48.38475\" y=\"210.883881\" style=\"fill: #262626; stroke: #262626\"/>\n      </g>\n     </g>\n     <g id=\"text_9\">\n      <!-- 0.10 -->\n      <g style=\"fill: #262626\" transform=\"translate(20.491 214.227194) scale(0.088 -0.088)\">\n       <defs>\n        <path id=\"DejaVuSans-31\" d=\"M 794 531 \nL 1825 531 \nL 1825 4091 \nL 703 3866 \nL 703 4441 \nL 1819 4666 \nL 2450 4666 \nL 2450 531 \nL 3481 531 \nL 3481 0 \nL 794 0 \nL 794 531 \nz\n\" transform=\"scale(0.015625)\"/>\n       </defs>\n       <use xlink:href=\"#DejaVuSans-30\"/>\n       <use xlink:href=\"#DejaVuSans-2e\" transform=\"translate(63.623047 0)\"/>\n       <use xlink:href=\"#DejaVuSans-31\" transform=\"translate(95.410156 0)\"/>\n       <use xlink:href=\"#DejaVuSans-30\" transform=\"translate(159.033203 0)\"/>\n      </g>\n     </g>\n    </g>\n    <g id=\"ytick_4\">\n     <g id=\"line2d_12\">\n      <path d=\"M 48.38475 173.022572 \nL 405.50475 173.022572 \n\" clip-path=\"url(#pe892f97e4b)\" style=\"fill: none; stroke-dasharray: 2.96,1.28; stroke-dashoffset: 0; stroke: #cccccc; stroke-opacity: 0.7; stroke-width: 0.8\"/>\n     </g>\n     <g id=\"line2d_13\">\n      <g>\n       <use xlink:href=\"#m6dc1d4e5e7\" x=\"48.38475\" y=\"173.022572\" style=\"fill: #262626; stroke: #262626\"/>\n      </g>\n     </g>\n     <g id=\"text_10\">\n      <!-- 0.15 -->\n      <g style=\"fill: #262626\" transform=\"translate(20.491 176.365885) scale(0.088 -0.088)\">\n       <use xlink:href=\"#DejaVuSans-30\"/>\n       <use xlink:href=\"#DejaVuSans-2e\" transform=\"translate(63.623047 0)\"/>\n       <use xlink:href=\"#DejaVuSans-31\" transform=\"translate(95.410156 0)\"/>\n       <use xlink:href=\"#DejaVuSans-35\" transform=\"translate(159.033203 0)\"/>\n      </g>\n     </g>\n    </g>\n    <g id=\"ytick_5\">\n     <g id=\"line2d_14\">\n      <path d=\"M 48.38475 135.161263 \nL 405.50475 135.161263 \n\" clip-path=\"url(#pe892f97e4b)\" style=\"fill: none; stroke-dasharray: 2.96,1.28; stroke-dashoffset: 0; stroke: #cccccc; stroke-opacity: 0.7; stroke-width: 0.8\"/>\n     </g>\n     <g id=\"line2d_15\">\n      <g>\n       <use xlink:href=\"#m6dc1d4e5e7\" x=\"48.38475\" y=\"135.161263\" style=\"fill: #262626; stroke: #262626\"/>\n      </g>\n     </g>\n     <g id=\"text_11\">\n      <!-- 0.20 -->\n      <g style=\"fill: #262626\" transform=\"translate(20.491 138.504575) scale(0.088 -0.088)\">\n       <use xlink:href=\"#DejaVuSans-30\"/>\n       <use xlink:href=\"#DejaVuSans-2e\" transform=\"translate(63.623047 0)\"/>\n       <use xlink:href=\"#DejaVuSans-32\" transform=\"translate(95.410156 0)\"/>\n       <use xlink:href=\"#DejaVuSans-30\" transform=\"translate(159.033203 0)\"/>\n      </g>\n     </g>\n    </g>\n    <g id=\"ytick_6\">\n     <g id=\"line2d_16\">\n      <path d=\"M 48.38475 97.299954 \nL 405.50475 97.299954 \n\" clip-path=\"url(#pe892f97e4b)\" style=\"fill: none; stroke-dasharray: 2.96,1.28; stroke-dashoffset: 0; stroke: #cccccc; stroke-opacity: 0.7; stroke-width: 0.8\"/>\n     </g>\n     <g id=\"line2d_17\">\n      <g>\n       <use xlink:href=\"#m6dc1d4e5e7\" x=\"48.38475\" y=\"97.299954\" style=\"fill: #262626; stroke: #262626\"/>\n      </g>\n     </g>\n     <g id=\"text_12\">\n      <!-- 0.25 -->\n      <g style=\"fill: #262626\" transform=\"translate(20.491 100.643266) scale(0.088 -0.088)\">\n       <use xlink:href=\"#DejaVuSans-30\"/>\n       <use xlink:href=\"#DejaVuSans-2e\" transform=\"translate(63.623047 0)\"/>\n       <use xlink:href=\"#DejaVuSans-32\" transform=\"translate(95.410156 0)\"/>\n       <use xlink:href=\"#DejaVuSans-35\" transform=\"translate(159.033203 0)\"/>\n      </g>\n     </g>\n    </g>\n    <g id=\"ytick_7\">\n     <g id=\"line2d_18\">\n      <path d=\"M 48.38475 59.438644 \nL 405.50475 59.438644 \n\" clip-path=\"url(#pe892f97e4b)\" style=\"fill: none; stroke-dasharray: 2.96,1.28; stroke-dashoffset: 0; stroke: #cccccc; stroke-opacity: 0.7; stroke-width: 0.8\"/>\n     </g>\n     <g id=\"line2d_19\">\n      <g>\n       <use xlink:href=\"#m6dc1d4e5e7\" x=\"48.38475\" y=\"59.438644\" style=\"fill: #262626; stroke: #262626\"/>\n      </g>\n     </g>\n     <g id=\"text_13\">\n      <!-- 0.30 -->\n      <g style=\"fill: #262626\" transform=\"translate(20.491 62.781957) scale(0.088 -0.088)\">\n       <defs>\n        <path id=\"DejaVuSans-33\" d=\"M 2597 2516 \nQ 3050 2419 3304 2112 \nQ 3559 1806 3559 1356 \nQ 3559 666 3084 287 \nQ 2609 -91 1734 -91 \nQ 1441 -91 1130 -33 \nQ 819 25 488 141 \nL 488 750 \nQ 750 597 1062 519 \nQ 1375 441 1716 441 \nQ 2309 441 2620 675 \nQ 2931 909 2931 1356 \nQ 2931 1769 2642 2001 \nQ 2353 2234 1838 2234 \nL 1294 2234 \nL 1294 2753 \nL 1863 2753 \nQ 2328 2753 2575 2939 \nQ 2822 3125 2822 3475 \nQ 2822 3834 2567 4026 \nQ 2313 4219 1838 4219 \nQ 1578 4219 1281 4162 \nQ 984 4106 628 3988 \nL 628 4550 \nQ 988 4650 1302 4700 \nQ 1616 4750 1894 4750 \nQ 2613 4750 3031 4423 \nQ 3450 4097 3450 3541 \nQ 3450 3153 3228 2886 \nQ 3006 2619 2597 2516 \nz\n\" transform=\"scale(0.015625)\"/>\n       </defs>\n       <use xlink:href=\"#DejaVuSans-30\"/>\n       <use xlink:href=\"#DejaVuSans-2e\" transform=\"translate(63.623047 0)\"/>\n       <use xlink:href=\"#DejaVuSans-33\" transform=\"translate(95.410156 0)\"/>\n       <use xlink:href=\"#DejaVuSans-30\" transform=\"translate(159.033203 0)\"/>\n      </g>\n     </g>\n    </g>\n    <g id=\"ytick_8\">\n     <g id=\"line2d_20\">\n      <path d=\"M 48.38475 21.577335 \nL 405.50475 21.577335 \n\" clip-path=\"url(#pe892f97e4b)\" style=\"fill: none; stroke-dasharray: 2.96,1.28; stroke-dashoffset: 0; stroke: #cccccc; stroke-opacity: 0.7; stroke-width: 0.8\"/>\n     </g>\n     <g id=\"line2d_21\">\n      <g>\n       <use xlink:href=\"#m6dc1d4e5e7\" x=\"48.38475\" y=\"21.577335\" style=\"fill: #262626; stroke: #262626\"/>\n      </g>\n     </g>\n     <g id=\"text_14\">\n      <!-- 0.35 -->\n      <g style=\"fill: #262626\" transform=\"translate(20.491 24.920648) scale(0.088 -0.088)\">\n       <use xlink:href=\"#DejaVuSans-30\"/>\n       <use xlink:href=\"#DejaVuSans-2e\" transform=\"translate(63.623047 0)\"/>\n       <use xlink:href=\"#DejaVuSans-33\" transform=\"translate(95.410156 0)\"/>\n       <use xlink:href=\"#DejaVuSans-35\" transform=\"translate(159.033203 0)\"/>\n      </g>\n     </g>\n    </g>\n    <g id=\"text_15\">\n     <!-- Probability -->\n     <g style=\"fill: #262626\" transform=\"translate(14.4945 178.92225) rotate(-90) scale(0.096 -0.096)\">\n      <defs>\n       <path id=\"DejaVuSans-50\" d=\"M 1259 4147 \nL 1259 2394 \nL 2053 2394 \nQ 2494 2394 2734 2622 \nQ 2975 2850 2975 3272 \nQ 2975 3691 2734 3919 \nQ 2494 4147 2053 4147 \nL 1259 4147 \nz\nM 628 4666 \nL 2053 4666 \nQ 2838 4666 3239 4311 \nQ 3641 3956 3641 3272 \nQ 3641 2581 3239 2228 \nQ 2838 1875 2053 1875 \nL 1259 1875 \nL 1259 0 \nL 628 0 \nL 628 4666 \nz\n\" transform=\"scale(0.015625)\"/>\n       <path id=\"DejaVuSans-6c\" d=\"M 603 4863 \nL 1178 4863 \nL 1178 0 \nL 603 0 \nL 603 4863 \nz\n\" transform=\"scale(0.015625)\"/>\n       <path id=\"DejaVuSans-79\" d=\"M 2059 -325 \nQ 1816 -950 1584 -1140 \nQ 1353 -1331 966 -1331 \nL 506 -1331 \nL 506 -850 \nL 844 -850 \nQ 1081 -850 1212 -737 \nQ 1344 -625 1503 -206 \nL 1606 56 \nL 191 3500 \nL 800 3500 \nL 1894 763 \nL 2988 3500 \nL 3597 3500 \nL 2059 -325 \nz\n\" transform=\"scale(0.015625)\"/>\n      </defs>\n      <use xlink:href=\"#DejaVuSans-50\"/>\n      <use xlink:href=\"#DejaVuSans-72\" transform=\"translate(58.552734 0)\"/>\n      <use xlink:href=\"#DejaVuSans-6f\" transform=\"translate(97.416016 0)\"/>\n      <use xlink:href=\"#DejaVuSans-62\" transform=\"translate(158.597656 0)\"/>\n      <use xlink:href=\"#DejaVuSans-61\" transform=\"translate(222.074219 0)\"/>\n      <use xlink:href=\"#DejaVuSans-62\" transform=\"translate(283.353516 0)\"/>\n      <use xlink:href=\"#DejaVuSans-69\" transform=\"translate(346.830078 0)\"/>\n      <use xlink:href=\"#DejaVuSans-6c\" transform=\"translate(374.613281 0)\"/>\n      <use xlink:href=\"#DejaVuSans-69\" transform=\"translate(402.396484 0)\"/>\n      <use xlink:href=\"#DejaVuSans-74\" transform=\"translate(430.179688 0)\"/>\n      <use xlink:href=\"#DejaVuSans-79\" transform=\"translate(469.388672 0)\"/>\n     </g>\n    </g>\n   </g>\n   <g id=\"patch_3\">\n    <path d=\"M 64.617477 286.6065 \nL 91.119889 286.6065 \nL 91.119889 117.6465 \nL 64.617477 117.6465 \nz\n\" clip-path=\"url(#pe892f97e4b)\" style=\"fill: #87ceeb; opacity: 0.7; stroke: #ffffff; stroke-width: 0.8; stroke-linejoin: miter\"/>\n   </g>\n   <g id=\"patch_4\">\n    <path d=\"M 97.745492 286.6065 \nL 124.247904 286.6065 \nL 124.247904 33.1665 \nL 97.745492 33.1665 \nz\n\" clip-path=\"url(#pe892f97e4b)\" style=\"fill: #87ceeb; opacity: 0.7; stroke: #ffffff; stroke-width: 0.8; stroke-linejoin: miter\"/>\n   </g>\n   <g id=\"patch_5\">\n    <path d=\"M 130.873507 286.6065 \nL 157.375919 286.6065 \nL 157.375919 96.5265 \nL 130.873507 96.5265 \nz\n\" clip-path=\"url(#pe892f97e4b)\" style=\"fill: #87ceeb; opacity: 0.7; stroke: #ffffff; stroke-width: 0.8; stroke-linejoin: miter\"/>\n   </g>\n   <g id=\"patch_6\">\n    <path d=\"M 164.001522 286.6065 \nL 190.503934 286.6065 \nL 190.503934 191.5665 \nL 164.001522 191.5665 \nz\n\" clip-path=\"url(#pe892f97e4b)\" style=\"fill: #87ceeb; opacity: 0.7; stroke: #ffffff; stroke-width: 0.8; stroke-linejoin: miter\"/>\n   </g>\n   <g id=\"patch_7\">\n    <path d=\"M 197.129537 286.6065 \nL 223.631949 286.6065 \nL 223.631949 250.9665 \nL 197.129537 250.9665 \nz\n\" clip-path=\"url(#pe892f97e4b)\" style=\"fill: #87ceeb; opacity: 0.7; stroke: #ffffff; stroke-width: 0.8; stroke-linejoin: miter\"/>\n   </g>\n   <g id=\"patch_8\">\n    <path d=\"M 230.257551 286.6065 \nL 256.759963 286.6065 \nL 256.759963 275.9145 \nL 230.257551 275.9145 \nz\n\" clip-path=\"url(#pe892f97e4b)\" style=\"fill: #87ceeb; opacity: 0.7; stroke: #ffffff; stroke-width: 0.8; stroke-linejoin: miter\"/>\n   </g>\n   <g id=\"patch_9\">\n    <path d=\"M 263.385566 286.6065 \nL 289.887978 286.6065 \nL 289.887978 283.9335 \nL 263.385566 283.9335 \nz\n\" clip-path=\"url(#pe892f97e4b)\" style=\"fill: #87ceeb; opacity: 0.7; stroke: #ffffff; stroke-width: 0.8; stroke-linejoin: miter\"/>\n   </g>\n   <g id=\"patch_10\">\n    <path d=\"M 296.513581 286.6065 \nL 323.015993 286.6065 \nL 323.015993 286.033714 \nL 296.513581 286.033714 \nz\n\" clip-path=\"url(#pe892f97e4b)\" style=\"fill: #87ceeb; opacity: 0.7; stroke: #ffffff; stroke-width: 0.8; stroke-linejoin: miter\"/>\n   </g>\n   <g id=\"patch_11\">\n    <path d=\"M 329.641596 286.6065 \nL 356.144008 286.6065 \nL 356.144008 286.499103 \nL 329.641596 286.499103 \nz\n\" clip-path=\"url(#pe892f97e4b)\" style=\"fill: #87ceeb; opacity: 0.7; stroke: #ffffff; stroke-width: 0.8; stroke-linejoin: miter\"/>\n   </g>\n   <g id=\"patch_12\">\n    <path d=\"M 362.769611 286.6065 \nL 389.272023 286.6065 \nL 389.272023 286.5886 \nL 362.769611 286.5886 \nz\n\" clip-path=\"url(#pe892f97e4b)\" style=\"fill: #87ceeb; opacity: 0.7; stroke: #ffffff; stroke-width: 0.8; stroke-linejoin: miter\"/>\n   </g>\n   <g id=\"patch_13\">\n    <path d=\"M 48.38475 286.6065 \nL 48.38475 20.4945 \n\" style=\"fill: none; stroke: #262626; stroke-linejoin: miter; stroke-linecap: square\"/>\n   </g>\n   <g id=\"patch_14\">\n    <path d=\"M 405.50475 286.6065 \nL 405.50475 20.4945 \n\" style=\"fill: none; stroke: #262626; stroke-linejoin: miter; stroke-linecap: square\"/>\n   </g>\n   <g id=\"patch_15\">\n    <path d=\"M 48.38475 286.6065 \nL 405.50475 286.6065 \n\" style=\"fill: none; stroke: #262626; stroke-linejoin: miter; stroke-linecap: square\"/>\n   </g>\n   <g id=\"patch_16\">\n    <path d=\"M 48.38475 20.4945 \nL 405.50475 20.4945 \n\" style=\"fill: none; stroke: #262626; stroke-linejoin: miter; stroke-linecap: square\"/>\n   </g>\n   <g id=\"text_16\">\n    <!-- PMF of Poisson Distribution (r=1.5) -->\n    <g style=\"fill: #262626\" transform=\"translate(143.07225 14.4945) scale(0.096 -0.096)\">\n     <defs>\n      <path id=\"DejaVuSans-4d\" d=\"M 628 4666 \nL 1569 4666 \nL 2759 1491 \nL 3956 4666 \nL 4897 4666 \nL 4897 0 \nL 4281 0 \nL 4281 4097 \nL 3078 897 \nL 2444 897 \nL 1241 4097 \nL 1241 0 \nL 628 0 \nL 628 4666 \nz\n\" transform=\"scale(0.015625)\"/>\n      <path id=\"DejaVuSans-46\" d=\"M 628 4666 \nL 3309 4666 \nL 3309 4134 \nL 1259 4134 \nL 1259 2759 \nL 3109 2759 \nL 3109 2228 \nL 1259 2228 \nL 1259 0 \nL 628 0 \nL 628 4666 \nz\n\" transform=\"scale(0.015625)\"/>\n      <path id=\"DejaVuSans-28\" d=\"M 1984 4856 \nQ 1566 4138 1362 3434 \nQ 1159 2731 1159 2009 \nQ 1159 1288 1364 580 \nQ 1569 -128 1984 -844 \nL 1484 -844 \nQ 1016 -109 783 600 \nQ 550 1309 550 2009 \nQ 550 2706 781 3412 \nQ 1013 4119 1484 4856 \nL 1984 4856 \nz\n\" transform=\"scale(0.015625)\"/>\n      <path id=\"DejaVuSans-3d\" d=\"M 678 2906 \nL 4684 2906 \nL 4684 2381 \nL 678 2381 \nL 678 2906 \nz\nM 678 1631 \nL 4684 1631 \nL 4684 1100 \nL 678 1100 \nL 678 1631 \nz\n\" transform=\"scale(0.015625)\"/>\n      <path id=\"DejaVuSans-29\" d=\"M 513 4856 \nL 1013 4856 \nQ 1481 4119 1714 3412 \nQ 1947 2706 1947 2009 \nQ 1947 1309 1714 600 \nQ 1481 -109 1013 -844 \nL 513 -844 \nQ 928 -128 1133 580 \nQ 1338 1288 1338 2009 \nQ 1338 2731 1133 3434 \nQ 928 4138 513 4856 \nz\n\" transform=\"scale(0.015625)\"/>\n     </defs>\n     <use xlink:href=\"#DejaVuSans-50\"/>\n     <use xlink:href=\"#DejaVuSans-4d\" transform=\"translate(60.302734 0)\"/>\n     <use xlink:href=\"#DejaVuSans-46\" transform=\"translate(146.582031 0)\"/>\n     <use xlink:href=\"#DejaVuSans-20\" transform=\"translate(204.101562 0)\"/>\n     <use xlink:href=\"#DejaVuSans-6f\" transform=\"translate(235.888672 0)\"/>\n     <use xlink:href=\"#DejaVuSans-66\" transform=\"translate(297.070312 0)\"/>\n     <use xlink:href=\"#DejaVuSans-20\" transform=\"translate(332.275391 0)\"/>\n     <use xlink:href=\"#DejaVuSans-50\" transform=\"translate(364.0625 0)\"/>\n     <use xlink:href=\"#DejaVuSans-6f\" transform=\"translate(420.740234 0)\"/>\n     <use xlink:href=\"#DejaVuSans-69\" transform=\"translate(481.921875 0)\"/>\n     <use xlink:href=\"#DejaVuSans-73\" transform=\"translate(509.705078 0)\"/>\n     <use xlink:href=\"#DejaVuSans-73\" transform=\"translate(561.804688 0)\"/>\n     <use xlink:href=\"#DejaVuSans-6f\" transform=\"translate(613.904297 0)\"/>\n     <use xlink:href=\"#DejaVuSans-6e\" transform=\"translate(675.085938 0)\"/>\n     <use xlink:href=\"#DejaVuSans-20\" transform=\"translate(738.464844 0)\"/>\n     <use xlink:href=\"#DejaVuSans-44\" transform=\"translate(770.251953 0)\"/>\n     <use xlink:href=\"#DejaVuSans-69\" transform=\"translate(847.253906 0)\"/>\n     <use xlink:href=\"#DejaVuSans-73\" transform=\"translate(875.037109 0)\"/>\n     <use xlink:href=\"#DejaVuSans-74\" transform=\"translate(927.136719 0)\"/>\n     <use xlink:href=\"#DejaVuSans-72\" transform=\"translate(966.345703 0)\"/>\n     <use xlink:href=\"#DejaVuSans-69\" transform=\"translate(1007.458984 0)\"/>\n     <use xlink:href=\"#DejaVuSans-62\" transform=\"translate(1035.242188 0)\"/>\n     <use xlink:href=\"#DejaVuSans-75\" transform=\"translate(1098.71875 0)\"/>\n     <use xlink:href=\"#DejaVuSans-74\" transform=\"translate(1162.097656 0)\"/>\n     <use xlink:href=\"#DejaVuSans-69\" transform=\"translate(1201.306641 0)\"/>\n     <use xlink:href=\"#DejaVuSans-6f\" transform=\"translate(1229.089844 0)\"/>\n     <use xlink:href=\"#DejaVuSans-6e\" transform=\"translate(1290.271484 0)\"/>\n     <use xlink:href=\"#DejaVuSans-20\" transform=\"translate(1353.650391 0)\"/>\n     <use xlink:href=\"#DejaVuSans-28\" transform=\"translate(1385.4375 0)\"/>\n     <use xlink:href=\"#DejaVuSans-72\" transform=\"translate(1424.451172 0)\"/>\n     <use xlink:href=\"#DejaVuSans-3d\" transform=\"translate(1465.564453 0)\"/>\n     <use xlink:href=\"#DejaVuSans-31\" transform=\"translate(1549.353516 0)\"/>\n     <use xlink:href=\"#DejaVuSans-2e\" transform=\"translate(1612.976562 0)\"/>\n     <use xlink:href=\"#DejaVuSans-35\" transform=\"translate(1644.763672 0)\"/>\n     <use xlink:href=\"#DejaVuSans-29\" transform=\"translate(1708.386719 0)\"/>\n    </g>\n   </g>\n  </g>\n </g>\n <defs>\n  <clipPath id=\"pe892f97e4b\">\n   <rect x=\"48.38475\" y=\"20.4945\" width=\"357.12\" height=\"266.112\"/>\n  </clipPath>\n </defs>\n</svg>\n"
          },
          "metadata": {}
        }
      ],
      "source": [
        "# Import necessary libraries for Poisson distribution and plotting\n",
        "import scipy.stats as st\n",
        "\n",
        "# Rate parameter (from the previous calculation, r = 1.50)\n",
        "r = 1.50\n",
        "\n",
        "# Define the Poisson distribution\n",
        "poisson_dist = st.poisson(r)\n",
        "\n",
        "# Part A: Plot the probability mass function (PMF) of X\n",
        "x_values = range(0, 10)  # Possible number of earthquakes (0 to 9)\n",
        "pmf_values = poisson_dist.pmf(x_values)  # Calculate PMF for each value\n",
        "\n",
        "# Plot the PMF\n",
        "plt.bar(x_values, pmf_values, color='skyblue', alpha=0.7)\n",
        "plt.xlabel('Number of Earthquakes in a Decade')\n",
        "plt.ylabel('Probability')\n",
        "plt.title('PMF of Poisson Distribution (r=1.5)')\n",
        "plt.grid(axis='y', linestyle='--', alpha=0.7)\n",
        "plt.show()"
      ]
    },
    {
      "cell_type": "markdown",
      "metadata": {
        "id": "CpPgtZdFsKfD"
      },
      "source": [
        "B. What is the probability that at least one major earthquake will occur during the next decade?<br>\n",
        "**Answer:**\n",
        "<br><br><br><br><br><br><br><br>"
      ]
    },
    {
      "cell_type": "code",
      "execution_count": 14,
      "metadata": {
        "id": "ImY47m6BsKfD",
        "outputId": "1777272a-0850-40bf-cc9c-8bfd60214c21",
        "colab": {
          "base_uri": "https://localhost:8080/"
        }
      },
      "outputs": [
        {
          "output_type": "execute_result",
          "data": {
            "text/plain": [
              "0.7768698398515702"
            ]
          },
          "metadata": {},
          "execution_count": 14
        }
      ],
      "source": [
        "# Part B: Calculate the probability of at least one major earthquake in the next decade\n",
        "# P(at least one) = 1 - P(X = 0)\n",
        "p_at_least_one = 1 - poisson_dist.pmf(0)\n",
        "p_at_least_one"
      ]
    },
    {
      "cell_type": "markdown",
      "metadata": {
        "id": "3zbzIlpzsKfD"
      },
      "source": [
        "C. What is the probability that at least one major earthquake will occur during the next two decades?\n",
        "Hint: Consider two independent and identical copies of $X$, say $X_1$ and $X_2$.\n",
        "And consider their sum $Y = X_1 + X_2$. Read [this](https://en.wikipedia.org/wiki/Poisson_distribution#Sums_of_Poisson-distributed_random_variables) about the sum of two independent Poisson distributions.\n",
        "<br>\n",
        "**Answer:**\n",
        "<br><br><br><br><br><br><br><br>"
      ]
    },
    {
      "cell_type": "code",
      "execution_count": 16,
      "metadata": {
        "id": "1u2KJg8tsKfD",
        "outputId": "35f2258d-db81-4e7f-99a5-d2df2afa3b33",
        "colab": {
          "base_uri": "https://localhost:8080/"
        }
      },
      "outputs": [
        {
          "output_type": "execute_result",
          "data": {
            "text/plain": [
              "0.950212931632136"
            ]
          },
          "metadata": {},
          "execution_count": 16
        }
      ],
      "source": [
        "# Part C: Probability of at least one earthquake in the next two decades\n",
        "# For two decades, the rate parameter is doubled: r = 1.5 * 2 = 3.0\n",
        "r_two_decades = r * 2\n",
        "poisson_two_decades = st.poisson(r_two_decades)\n",
        "\n",
        "# P(at least one) = 1 - P(Y = 0)\n",
        "p_at_least_one_two_decades = 1 - poisson_two_decades.pmf(0)\n",
        "p_at_least_one_two_decades"
      ]
    },
    {
      "cell_type": "markdown",
      "source": [
        "This makes it a 95% chance of an earthquake in the next two decades."
      ],
      "metadata": {
        "id": "Un0_XbbEHJ1w"
      }
    },
    {
      "cell_type": "markdown",
      "metadata": {
        "id": "eWqROC0fsKfE"
      },
      "source": [
        "D. What is the probability that at least one major earthquake will occur during the next five decades?<br>\n",
        "**Answer:**\n",
        "<br><br><br><br><br><br><br><br>"
      ]
    },
    {
      "cell_type": "code",
      "execution_count": 18,
      "metadata": {
        "id": "Rtv2kELZsKfE",
        "outputId": "6e5e7ada-4782-4986-87c3-00feac8c9a66",
        "colab": {
          "base_uri": "https://localhost:8080/"
        }
      },
      "outputs": [
        {
          "output_type": "execute_result",
          "data": {
            "text/plain": [
              "0.9994469156298522"
            ]
          },
          "metadata": {},
          "execution_count": 18
        }
      ],
      "source": [
        "# Part D: Probability of at least one earthquake in the next five decades\n",
        "# For five decades, the rate parameter is multiplied by 5: r = 1.5 * 5 = 7.5\n",
        "r_five_decades = r * 5\n",
        "poisson_five_decades = st.poisson(r_five_decades)\n",
        "\n",
        "# P(at least one) = 1 - P(Y = 0)\n",
        "p_at_least_one_five_decades = 1 - poisson_five_decades.pmf(0)\n",
        "p_at_least_one_five_decades"
      ]
    },
    {
      "cell_type": "markdown",
      "source": [
        "This makes it over 99% possible for an earthquake. It will just be inevitable within the five decades!"
      ],
      "metadata": {
        "id": "z8oj01VzHTPB"
      }
    },
    {
      "cell_type": "markdown",
      "metadata": {
        "id": "kE_TjV9asKfE"
      },
      "source": [
        "## Problem 4 - Failure of a mechanical component\n",
        "\n",
        "Assume that you designing a gear for a mechanical system.\n",
        "Under normal operating conditions the gear is expected to fail at a random time.\n",
        "Let $T$ be a random variable capturing the time the gear fails.\n",
        "What should the probability density of $T$ look like?\n",
        "\n",
        "Here are some hypothetical data to work with.\n",
        "Suppose that we took ten gears and we worked them until failure.\n",
        "The failure times (say in years) are as follows:"
      ]
    },
    {
      "cell_type": "code",
      "execution_count": null,
      "metadata": {
        "id": "s6mUz8VJsKfE"
      },
      "outputs": [],
      "source": [
        "time_to_fail_data = np.array(\n",
        "    [\n",
        "        10.5,\n",
        "        7.5,\n",
        "        8.1,\n",
        "        8.4,\n",
        "        11.2,\n",
        "        9.3,\n",
        "        8.9,\n",
        "        12.4\n",
        "    ]\n",
        ")"
      ]
    },
    {
      "cell_type": "markdown",
      "metadata": {
        "id": "ddBkkftAsKfE"
      },
      "source": [
        "Why does each gear fail at different times?\n",
        "There are several sources of uncertainty.\n",
        "The most important are:\n",
        "\n",
        "- Manufacturing imperfections.\n",
        "- Different loading conditions.\n",
        "\n",
        "If this was a controlled fatigue experiment, then we could eliminate the second source of uncertainty by using exactly the same loading conditions.\n",
        "\n",
        "Now, we are going to fit a probability density function to these data.\n",
        "Which one should we use?\n",
        "Well, new gears do not fail easily.\n",
        "So, the probability density function of $T$ should be close to zero for small $T$.\n",
        "As time goes by, the probability density should increase because various things start happening to the material, e.g., crack formation, fatigue, etc.\n",
        "Finally, the probability density must again start going to zero as time further increases because nothing lasts forever...\n",
        "A probability distribution that is commonly used to model this situation is the [Weibull](https://en.wikipedia.org/wiki/Weibull_distribution).\n",
        "We are going to fit some fail time data to a Weibull distribution and then you will have to answer a few questions about failing times.\n",
        "\n",
        "The Weibull has parameters and we are going to fit them to the available data.\n",
        "The method we are going to use is called the *maximum likelihood method*.\n",
        "We haven't really talked about this, and it is not important to know what it is to do this homework problem.\n",
        "We will learn about maximum likelihood in later lectures.\n",
        "Here is how we fit the parameters using `scipy.stats`:"
      ]
    },
    {
      "cell_type": "code",
      "execution_count": null,
      "metadata": {
        "id": "nFPaiJ8usKfI",
        "outputId": "d0d9f586-b29a-4d57-cd0b-098ea7bca456"
      },
      "outputs": [
        {
          "name": "stdout",
          "output_type": "stream",
          "text": [
            "Fitted parameters: (448.066965711728, 0.7099665338918923, 3.4218808260575804, 0.41627831297126994)\n"
          ]
        }
      ],
      "source": [
        "fitted_params = st.exponweib.fit(time_to_fail_data, loc=0)\n",
        "T = st.exponweib(*fitted_params)\n",
        "print(f\"Fitted parameters: {fitted_params}\")"
      ]
    },
    {
      "cell_type": "markdown",
      "metadata": {
        "id": "E_e1PPttsKfI"
      },
      "source": [
        "Let's plot the fitted Weibul PDF and the data we used:"
      ]
    },
    {
      "cell_type": "code",
      "execution_count": null,
      "metadata": {
        "id": "Pa8W5TIfsKfI",
        "outputId": "e8861601-ae4b-4614-b50c-bd43ea7fbc70"
      },
      "outputs": [
        {
          "data": {
            "image/svg+xml": [
              "<?xml version=\"1.0\" encoding=\"utf-8\" standalone=\"no\"?>\n",
              "<!DOCTYPE svg PUBLIC \"-//W3C//DTD SVG 1.1//EN\"\n",
              "  \"http://www.w3.org/Graphics/SVG/1.1/DTD/svg11.dtd\">\n",
              "<svg xmlns:xlink=\"http://www.w3.org/1999/xlink\" width=\"410.257625pt\" height=\"309.979875pt\" viewBox=\"0 0 410.257625 309.979875\" xmlns=\"http://www.w3.org/2000/svg\" version=\"1.1\">\n",
              " <metadata>\n",
              "  <rdf:RDF xmlns:dc=\"http://purl.org/dc/elements/1.1/\" xmlns:cc=\"http://creativecommons.org/ns#\" xmlns:rdf=\"http://www.w3.org/1999/02/22-rdf-syntax-ns#\">\n",
              "   <cc:Work>\n",
              "    <dc:type rdf:resource=\"http://purl.org/dc/dcmitype/StillImage\"/>\n",
              "    <dc:date>2023-08-11T19:54:32.815252</dc:date>\n",
              "    <dc:format>image/svg+xml</dc:format>\n",
              "    <dc:creator>\n",
              "     <cc:Agent>\n",
              "      <dc:title>Matplotlib v3.7.1, https://matplotlib.org/</dc:title>\n",
              "     </cc:Agent>\n",
              "    </dc:creator>\n",
              "   </cc:Work>\n",
              "  </rdf:RDF>\n",
              " </metadata>\n",
              " <defs>\n",
              "  <style type=\"text/css\">*{stroke-linejoin: round; stroke-linecap: butt}</style>\n",
              " </defs>\n",
              " <g id=\"figure_1\">\n",
              "  <g id=\"patch_1\">\n",
              "   <path d=\"M 0 309.979875 \n",
              "L 410.257625 309.979875 \n",
              "L 410.257625 0 \n",
              "L 0 0 \n",
              "z\n",
              "\" style=\"fill: #ffffff\"/>\n",
              "  </g>\n",
              "  <g id=\"axes_1\">\n",
              "   <g id=\"patch_2\">\n",
              "    <path d=\"M 45.937625 273.312 \n",
              "L 403.057625 273.312 \n",
              "L 403.057625 7.2 \n",
              "L 45.937625 7.2 \n",
              "z\n",
              "\" style=\"fill: #ffffff\"/>\n",
              "   </g>\n",
              "   <g id=\"matplotlib.axis_1\">\n",
              "    <g id=\"xtick_1\">\n",
              "     <g id=\"line2d_1\">\n",
              "      <defs>\n",
              "       <path id=\"m27b8aeb39f\" d=\"M 0 0 \n",
              "L 0 4.8 \n",
              "\" style=\"stroke: #262626\"/>\n",
              "      </defs>\n",
              "      <g>\n",
              "       <use xlink:href=\"#m27b8aeb39f\" x=\"62.170352\" y=\"273.312\" style=\"fill: #262626; stroke: #262626\"/>\n",
              "      </g>\n",
              "     </g>\n",
              "     <g id=\"text_1\">\n",
              "      <!-- 0.0 -->\n",
              "      <g style=\"fill: #262626\" transform=\"translate(56.054352 287.910875) scale(0.088 -0.088)\">\n",
              "       <defs>\n",
              "        <path id=\"ArialMT-30\" d=\"M 266 2259 \n",
              "Q 266 3072 433 3567 \n",
              "Q 600 4063 929 4331 \n",
              "Q 1259 4600 1759 4600 \n",
              "Q 2128 4600 2406 4451 \n",
              "Q 2684 4303 2865 4023 \n",
              "Q 3047 3744 3150 3342 \n",
              "Q 3253 2941 3253 2259 \n",
              "Q 3253 1453 3087 958 \n",
              "Q 2922 463 2592 192 \n",
              "Q 2263 -78 1759 -78 \n",
              "Q 1097 -78 719 397 \n",
              "Q 266 969 266 2259 \n",
              "z\n",
              "M 844 2259 \n",
              "Q 844 1131 1108 757 \n",
              "Q 1372 384 1759 384 \n",
              "Q 2147 384 2411 759 \n",
              "Q 2675 1134 2675 2259 \n",
              "Q 2675 3391 2411 3762 \n",
              "Q 2147 4134 1753 4134 \n",
              "Q 1366 4134 1134 3806 \n",
              "Q 844 3388 844 2259 \n",
              "z\n",
              "\" transform=\"scale(0.015625)\"/>\n",
              "        <path id=\"ArialMT-2e\" d=\"M 581 0 \n",
              "L 581 641 \n",
              "L 1222 641 \n",
              "L 1222 0 \n",
              "L 581 0 \n",
              "z\n",
              "\" transform=\"scale(0.015625)\"/>\n",
              "       </defs>\n",
              "       <use xlink:href=\"#ArialMT-30\"/>\n",
              "       <use xlink:href=\"#ArialMT-2e\" x=\"55.615234\"/>\n",
              "       <use xlink:href=\"#ArialMT-30\" x=\"83.398438\"/>\n",
              "      </g>\n",
              "     </g>\n",
              "    </g>\n",
              "    <g id=\"xtick_2\">\n",
              "     <g id=\"line2d_2\">\n",
              "      <g>\n",
              "       <use xlink:href=\"#m27b8aeb39f\" x=\"102.75217\" y=\"273.312\" style=\"fill: #262626; stroke: #262626\"/>\n",
              "      </g>\n",
              "     </g>\n",
              "     <g id=\"text_2\">\n",
              "      <!-- 2.5 -->\n",
              "      <g style=\"fill: #262626\" transform=\"translate(96.63617 287.910875) scale(0.088 -0.088)\">\n",
              "       <defs>\n",
              "        <path id=\"ArialMT-32\" d=\"M 3222 541 \n",
              "L 3222 0 \n",
              "L 194 0 \n",
              "Q 188 203 259 391 \n",
              "Q 375 700 629 1000 \n",
              "Q 884 1300 1366 1694 \n",
              "Q 2113 2306 2375 2664 \n",
              "Q 2638 3022 2638 3341 \n",
              "Q 2638 3675 2398 3904 \n",
              "Q 2159 4134 1775 4134 \n",
              "Q 1369 4134 1125 3890 \n",
              "Q 881 3647 878 3216 \n",
              "L 300 3275 \n",
              "Q 359 3922 746 4261 \n",
              "Q 1134 4600 1788 4600 \n",
              "Q 2447 4600 2831 4234 \n",
              "Q 3216 3869 3216 3328 \n",
              "Q 3216 3053 3103 2787 \n",
              "Q 2991 2522 2730 2228 \n",
              "Q 2469 1934 1863 1422 \n",
              "Q 1356 997 1212 845 \n",
              "Q 1069 694 975 541 \n",
              "L 3222 541 \n",
              "z\n",
              "\" transform=\"scale(0.015625)\"/>\n",
              "        <path id=\"ArialMT-35\" d=\"M 266 1200 \n",
              "L 856 1250 \n",
              "Q 922 819 1161 601 \n",
              "Q 1400 384 1738 384 \n",
              "Q 2144 384 2425 690 \n",
              "Q 2706 997 2706 1503 \n",
              "Q 2706 1984 2436 2262 \n",
              "Q 2166 2541 1728 2541 \n",
              "Q 1456 2541 1237 2417 \n",
              "Q 1019 2294 894 2097 \n",
              "L 366 2166 \n",
              "L 809 4519 \n",
              "L 3088 4519 \n",
              "L 3088 3981 \n",
              "L 1259 3981 \n",
              "L 1013 2750 \n",
              "Q 1425 3038 1878 3038 \n",
              "Q 2478 3038 2890 2622 \n",
              "Q 3303 2206 3303 1553 \n",
              "Q 3303 931 2941 478 \n",
              "Q 2500 -78 1738 -78 \n",
              "Q 1113 -78 717 272 \n",
              "Q 322 622 266 1200 \n",
              "z\n",
              "\" transform=\"scale(0.015625)\"/>\n",
              "       </defs>\n",
              "       <use xlink:href=\"#ArialMT-32\"/>\n",
              "       <use xlink:href=\"#ArialMT-2e\" x=\"55.615234\"/>\n",
              "       <use xlink:href=\"#ArialMT-35\" x=\"83.398438\"/>\n",
              "      </g>\n",
              "     </g>\n",
              "    </g>\n",
              "    <g id=\"xtick_3\">\n",
              "     <g id=\"line2d_3\">\n",
              "      <g>\n",
              "       <use xlink:href=\"#m27b8aeb39f\" x=\"143.333989\" y=\"273.312\" style=\"fill: #262626; stroke: #262626\"/>\n",
              "      </g>\n",
              "     </g>\n",
              "     <g id=\"text_3\">\n",
              "      <!-- 5.0 -->\n",
              "      <g style=\"fill: #262626\" transform=\"translate(137.217989 287.910875) scale(0.088 -0.088)\">\n",
              "       <use xlink:href=\"#ArialMT-35\"/>\n",
              "       <use xlink:href=\"#ArialMT-2e\" x=\"55.615234\"/>\n",
              "       <use xlink:href=\"#ArialMT-30\" x=\"83.398438\"/>\n",
              "      </g>\n",
              "     </g>\n",
              "    </g>\n",
              "    <g id=\"xtick_4\">\n",
              "     <g id=\"line2d_4\">\n",
              "      <g>\n",
              "       <use xlink:href=\"#m27b8aeb39f\" x=\"183.915807\" y=\"273.312\" style=\"fill: #262626; stroke: #262626\"/>\n",
              "      </g>\n",
              "     </g>\n",
              "     <g id=\"text_4\">\n",
              "      <!-- 7.5 -->\n",
              "      <g style=\"fill: #262626\" transform=\"translate(177.799807 287.910875) scale(0.088 -0.088)\">\n",
              "       <defs>\n",
              "        <path id=\"ArialMT-37\" d=\"M 303 3981 \n",
              "L 303 4522 \n",
              "L 3269 4522 \n",
              "L 3269 4084 \n",
              "Q 2831 3619 2401 2847 \n",
              "Q 1972 2075 1738 1259 \n",
              "Q 1569 684 1522 0 \n",
              "L 944 0 \n",
              "Q 953 541 1156 1306 \n",
              "Q 1359 2072 1739 2783 \n",
              "Q 2119 3494 2547 3981 \n",
              "L 303 3981 \n",
              "z\n",
              "\" transform=\"scale(0.015625)\"/>\n",
              "       </defs>\n",
              "       <use xlink:href=\"#ArialMT-37\"/>\n",
              "       <use xlink:href=\"#ArialMT-2e\" x=\"55.615234\"/>\n",
              "       <use xlink:href=\"#ArialMT-35\" x=\"83.398438\"/>\n",
              "      </g>\n",
              "     </g>\n",
              "    </g>\n",
              "    <g id=\"xtick_5\">\n",
              "     <g id=\"line2d_5\">\n",
              "      <g>\n",
              "       <use xlink:href=\"#m27b8aeb39f\" x=\"224.497625\" y=\"273.312\" style=\"fill: #262626; stroke: #262626\"/>\n",
              "      </g>\n",
              "     </g>\n",
              "     <g id=\"text_5\">\n",
              "      <!-- 10.0 -->\n",
              "      <g style=\"fill: #262626\" transform=\"translate(215.934813 287.910875) scale(0.088 -0.088)\">\n",
              "       <defs>\n",
              "        <path id=\"ArialMT-31\" d=\"M 2384 0 \n",
              "L 1822 0 \n",
              "L 1822 3584 \n",
              "Q 1619 3391 1289 3197 \n",
              "Q 959 3003 697 2906 \n",
              "L 697 3450 \n",
              "Q 1169 3672 1522 3987 \n",
              "Q 1875 4303 2022 4600 \n",
              "L 2384 4600 \n",
              "L 2384 0 \n",
              "z\n",
              "\" transform=\"scale(0.015625)\"/>\n",
              "       </defs>\n",
              "       <use xlink:href=\"#ArialMT-31\"/>\n",
              "       <use xlink:href=\"#ArialMT-30\" x=\"55.615234\"/>\n",
              "       <use xlink:href=\"#ArialMT-2e\" x=\"111.230469\"/>\n",
              "       <use xlink:href=\"#ArialMT-30\" x=\"139.013672\"/>\n",
              "      </g>\n",
              "     </g>\n",
              "    </g>\n",
              "    <g id=\"xtick_6\">\n",
              "     <g id=\"line2d_6\">\n",
              "      <g>\n",
              "       <use xlink:href=\"#m27b8aeb39f\" x=\"265.079443\" y=\"273.312\" style=\"fill: #262626; stroke: #262626\"/>\n",
              "      </g>\n",
              "     </g>\n",
              "     <g id=\"text_6\">\n",
              "      <!-- 12.5 -->\n",
              "      <g style=\"fill: #262626\" transform=\"translate(256.516631 287.910875) scale(0.088 -0.088)\">\n",
              "       <use xlink:href=\"#ArialMT-31\"/>\n",
              "       <use xlink:href=\"#ArialMT-32\" x=\"55.615234\"/>\n",
              "       <use xlink:href=\"#ArialMT-2e\" x=\"111.230469\"/>\n",
              "       <use xlink:href=\"#ArialMT-35\" x=\"139.013672\"/>\n",
              "      </g>\n",
              "     </g>\n",
              "    </g>\n",
              "    <g id=\"xtick_7\">\n",
              "     <g id=\"line2d_7\">\n",
              "      <g>\n",
              "       <use xlink:href=\"#m27b8aeb39f\" x=\"305.661261\" y=\"273.312\" style=\"fill: #262626; stroke: #262626\"/>\n",
              "      </g>\n",
              "     </g>\n",
              "     <g id=\"text_7\">\n",
              "      <!-- 15.0 -->\n",
              "      <g style=\"fill: #262626\" transform=\"translate(297.098449 287.910875) scale(0.088 -0.088)\">\n",
              "       <use xlink:href=\"#ArialMT-31\"/>\n",
              "       <use xlink:href=\"#ArialMT-35\" x=\"55.615234\"/>\n",
              "       <use xlink:href=\"#ArialMT-2e\" x=\"111.230469\"/>\n",
              "       <use xlink:href=\"#ArialMT-30\" x=\"139.013672\"/>\n",
              "      </g>\n",
              "     </g>\n",
              "    </g>\n",
              "    <g id=\"xtick_8\">\n",
              "     <g id=\"line2d_8\">\n",
              "      <g>\n",
              "       <use xlink:href=\"#m27b8aeb39f\" x=\"346.24308\" y=\"273.312\" style=\"fill: #262626; stroke: #262626\"/>\n",
              "      </g>\n",
              "     </g>\n",
              "     <g id=\"text_8\">\n",
              "      <!-- 17.5 -->\n",
              "      <g style=\"fill: #262626\" transform=\"translate(337.680267 287.910875) scale(0.088 -0.088)\">\n",
              "       <use xlink:href=\"#ArialMT-31\"/>\n",
              "       <use xlink:href=\"#ArialMT-37\" x=\"55.615234\"/>\n",
              "       <use xlink:href=\"#ArialMT-2e\" x=\"111.230469\"/>\n",
              "       <use xlink:href=\"#ArialMT-35\" x=\"139.013672\"/>\n",
              "      </g>\n",
              "     </g>\n",
              "    </g>\n",
              "    <g id=\"xtick_9\">\n",
              "     <g id=\"line2d_9\">\n",
              "      <g>\n",
              "       <use xlink:href=\"#m27b8aeb39f\" x=\"386.824898\" y=\"273.312\" style=\"fill: #262626; stroke: #262626\"/>\n",
              "      </g>\n",
              "     </g>\n",
              "     <g id=\"text_9\">\n",
              "      <!-- 20.0 -->\n",
              "      <g style=\"fill: #262626\" transform=\"translate(378.262085 287.910875) scale(0.088 -0.088)\">\n",
              "       <use xlink:href=\"#ArialMT-32\"/>\n",
              "       <use xlink:href=\"#ArialMT-30\" x=\"55.615234\"/>\n",
              "       <use xlink:href=\"#ArialMT-2e\" x=\"111.230469\"/>\n",
              "       <use xlink:href=\"#ArialMT-30\" x=\"139.013672\"/>\n",
              "      </g>\n",
              "     </g>\n",
              "    </g>\n",
              "    <g id=\"text_10\">\n",
              "     <!-- $t$ (years) -->\n",
              "     <g style=\"fill: #262626\" transform=\"translate(206.305625 300.667875) scale(0.096 -0.096)\">\n",
              "      <defs>\n",
              "       <path id=\"DejaVuSans-Oblique-74\" d=\"M 2706 3500 \n",
              "L 2619 3053 \n",
              "L 1472 3053 \n",
              "L 1100 1153 \n",
              "Q 1081 1047 1072 975 \n",
              "Q 1063 903 1063 863 \n",
              "Q 1063 663 1183 572 \n",
              "Q 1303 481 1569 481 \n",
              "L 2150 481 \n",
              "L 2053 0 \n",
              "L 1503 0 \n",
              "Q 991 0 739 200 \n",
              "Q 488 400 488 806 \n",
              "Q 488 878 497 964 \n",
              "Q 506 1050 525 1153 \n",
              "L 897 3053 \n",
              "L 409 3053 \n",
              "L 500 3500 \n",
              "L 978 3500 \n",
              "L 1172 4494 \n",
              "L 1747 4494 \n",
              "L 1556 3500 \n",
              "L 2706 3500 \n",
              "z\n",
              "\" transform=\"scale(0.015625)\"/>\n",
              "       <path id=\"ArialMT-20\" transform=\"scale(0.015625)\"/>\n",
              "       <path id=\"ArialMT-28\" d=\"M 1497 -1347 \n",
              "Q 1031 -759 709 28 \n",
              "Q 388 816 388 1659 \n",
              "Q 388 2403 628 3084 \n",
              "Q 909 3875 1497 4659 \n",
              "L 1900 4659 \n",
              "Q 1522 4009 1400 3731 \n",
              "Q 1209 3300 1100 2831 \n",
              "Q 966 2247 966 1656 \n",
              "Q 966 153 1900 -1347 \n",
              "L 1497 -1347 \n",
              "z\n",
              "\" transform=\"scale(0.015625)\"/>\n",
              "       <path id=\"ArialMT-79\" d=\"M 397 -1278 \n",
              "L 334 -750 \n",
              "Q 519 -800 656 -800 \n",
              "Q 844 -800 956 -737 \n",
              "Q 1069 -675 1141 -563 \n",
              "Q 1194 -478 1313 -144 \n",
              "Q 1328 -97 1363 -6 \n",
              "L 103 3319 \n",
              "L 709 3319 \n",
              "L 1400 1397 \n",
              "Q 1534 1031 1641 628 \n",
              "Q 1738 1016 1872 1384 \n",
              "L 2581 3319 \n",
              "L 3144 3319 \n",
              "L 1881 -56 \n",
              "Q 1678 -603 1566 -809 \n",
              "Q 1416 -1088 1222 -1217 \n",
              "Q 1028 -1347 759 -1347 \n",
              "Q 597 -1347 397 -1278 \n",
              "z\n",
              "\" transform=\"scale(0.015625)\"/>\n",
              "       <path id=\"ArialMT-65\" d=\"M 2694 1069 \n",
              "L 3275 997 \n",
              "Q 3138 488 2766 206 \n",
              "Q 2394 -75 1816 -75 \n",
              "Q 1088 -75 661 373 \n",
              "Q 234 822 234 1631 \n",
              "Q 234 2469 665 2931 \n",
              "Q 1097 3394 1784 3394 \n",
              "Q 2450 3394 2872 2941 \n",
              "Q 3294 2488 3294 1666 \n",
              "Q 3294 1616 3291 1516 \n",
              "L 816 1516 \n",
              "Q 847 969 1125 678 \n",
              "Q 1403 388 1819 388 \n",
              "Q 2128 388 2347 550 \n",
              "Q 2566 713 2694 1069 \n",
              "z\n",
              "M 847 1978 \n",
              "L 2700 1978 \n",
              "Q 2663 2397 2488 2606 \n",
              "Q 2219 2931 1791 2931 \n",
              "Q 1403 2931 1139 2672 \n",
              "Q 875 2413 847 1978 \n",
              "z\n",
              "\" transform=\"scale(0.015625)\"/>\n",
              "       <path id=\"ArialMT-61\" d=\"M 2588 409 \n",
              "Q 2275 144 1986 34 \n",
              "Q 1697 -75 1366 -75 \n",
              "Q 819 -75 525 192 \n",
              "Q 231 459 231 875 \n",
              "Q 231 1119 342 1320 \n",
              "Q 453 1522 633 1644 \n",
              "Q 813 1766 1038 1828 \n",
              "Q 1203 1872 1538 1913 \n",
              "Q 2219 1994 2541 2106 \n",
              "Q 2544 2222 2544 2253 \n",
              "Q 2544 2597 2384 2738 \n",
              "Q 2169 2928 1744 2928 \n",
              "Q 1347 2928 1158 2789 \n",
              "Q 969 2650 878 2297 \n",
              "L 328 2372 \n",
              "Q 403 2725 575 2942 \n",
              "Q 747 3159 1072 3276 \n",
              "Q 1397 3394 1825 3394 \n",
              "Q 2250 3394 2515 3294 \n",
              "Q 2781 3194 2906 3042 \n",
              "Q 3031 2891 3081 2659 \n",
              "Q 3109 2516 3109 2141 \n",
              "L 3109 1391 \n",
              "Q 3109 606 3145 398 \n",
              "Q 3181 191 3288 0 \n",
              "L 2700 0 \n",
              "Q 2613 175 2588 409 \n",
              "z\n",
              "M 2541 1666 \n",
              "Q 2234 1541 1622 1453 \n",
              "Q 1275 1403 1131 1340 \n",
              "Q 988 1278 909 1158 \n",
              "Q 831 1038 831 891 \n",
              "Q 831 666 1001 516 \n",
              "Q 1172 366 1500 366 \n",
              "Q 1825 366 2078 508 \n",
              "Q 2331 650 2450 897 \n",
              "Q 2541 1088 2541 1459 \n",
              "L 2541 1666 \n",
              "z\n",
              "\" transform=\"scale(0.015625)\"/>\n",
              "       <path id=\"ArialMT-72\" d=\"M 416 0 \n",
              "L 416 3319 \n",
              "L 922 3319 \n",
              "L 922 2816 \n",
              "Q 1116 3169 1280 3281 \n",
              "Q 1444 3394 1641 3394 \n",
              "Q 1925 3394 2219 3213 \n",
              "L 2025 2691 \n",
              "Q 1819 2813 1613 2813 \n",
              "Q 1428 2813 1281 2702 \n",
              "Q 1134 2591 1072 2394 \n",
              "Q 978 2094 978 1738 \n",
              "L 978 0 \n",
              "L 416 0 \n",
              "z\n",
              "\" transform=\"scale(0.015625)\"/>\n",
              "       <path id=\"ArialMT-73\" d=\"M 197 991 \n",
              "L 753 1078 \n",
              "Q 800 744 1014 566 \n",
              "Q 1228 388 1613 388 \n",
              "Q 2000 388 2187 545 \n",
              "Q 2375 703 2375 916 \n",
              "Q 2375 1106 2209 1216 \n",
              "Q 2094 1291 1634 1406 \n",
              "Q 1016 1563 777 1677 \n",
              "Q 538 1791 414 1992 \n",
              "Q 291 2194 291 2438 \n",
              "Q 291 2659 392 2848 \n",
              "Q 494 3038 669 3163 \n",
              "Q 800 3259 1026 3326 \n",
              "Q 1253 3394 1513 3394 \n",
              "Q 1903 3394 2198 3281 \n",
              "Q 2494 3169 2634 2976 \n",
              "Q 2775 2784 2828 2463 \n",
              "L 2278 2388 \n",
              "Q 2241 2644 2061 2787 \n",
              "Q 1881 2931 1553 2931 \n",
              "Q 1166 2931 1000 2803 \n",
              "Q 834 2675 834 2503 \n",
              "Q 834 2394 903 2306 \n",
              "Q 972 2216 1119 2156 \n",
              "Q 1203 2125 1616 2013 \n",
              "Q 2213 1853 2448 1751 \n",
              "Q 2684 1650 2818 1456 \n",
              "Q 2953 1263 2953 975 \n",
              "Q 2953 694 2789 445 \n",
              "Q 2625 197 2315 61 \n",
              "Q 2006 -75 1616 -75 \n",
              "Q 969 -75 630 194 \n",
              "Q 291 463 197 991 \n",
              "z\n",
              "\" transform=\"scale(0.015625)\"/>\n",
              "       <path id=\"ArialMT-29\" d=\"M 791 -1347 \n",
              "L 388 -1347 \n",
              "Q 1322 153 1322 1656 \n",
              "Q 1322 2244 1188 2822 \n",
              "Q 1081 3291 891 3722 \n",
              "Q 769 4003 388 4659 \n",
              "L 791 4659 \n",
              "Q 1378 3875 1659 3084 \n",
              "Q 1900 2403 1900 1659 \n",
              "Q 1900 816 1576 28 \n",
              "Q 1253 -759 791 -1347 \n",
              "z\n",
              "\" transform=\"scale(0.015625)\"/>\n",
              "      </defs>\n",
              "      <use xlink:href=\"#DejaVuSans-Oblique-74\" transform=\"translate(0 0.203125)\"/>\n",
              "      <use xlink:href=\"#ArialMT-20\" transform=\"translate(39.208984 0.203125)\"/>\n",
              "      <use xlink:href=\"#ArialMT-28\" transform=\"translate(66.992188 0.203125)\"/>\n",
              "      <use xlink:href=\"#ArialMT-79\" transform=\"translate(100.292969 0.203125)\"/>\n",
              "      <use xlink:href=\"#ArialMT-65\" transform=\"translate(150.292969 0.203125)\"/>\n",
              "      <use xlink:href=\"#ArialMT-61\" transform=\"translate(205.908203 0.203125)\"/>\n",
              "      <use xlink:href=\"#ArialMT-72\" transform=\"translate(261.523438 0.203125)\"/>\n",
              "      <use xlink:href=\"#ArialMT-73\" transform=\"translate(294.824219 0.203125)\"/>\n",
              "      <use xlink:href=\"#ArialMT-29\" transform=\"translate(344.824219 0.203125)\"/>\n",
              "     </g>\n",
              "    </g>\n",
              "   </g>\n",
              "   <g id=\"matplotlib.axis_2\">\n",
              "    <g id=\"ytick_1\">\n",
              "     <g id=\"line2d_10\">\n",
              "      <defs>\n",
              "       <path id=\"mf22c401394\" d=\"M 0 0 \n",
              "L -4.8 0 \n",
              "\" style=\"stroke: #262626\"/>\n",
              "      </defs>\n",
              "      <g>\n",
              "       <use xlink:href=\"#mf22c401394\" x=\"45.937625\" y=\"261.216\" style=\"fill: #262626; stroke: #262626\"/>\n",
              "      </g>\n",
              "     </g>\n",
              "     <g id=\"text_11\">\n",
              "      <!-- 0.00 -->\n",
              "      <g style=\"fill: #262626\" transform=\"translate(20.512 264.365437) scale(0.088 -0.088)\">\n",
              "       <use xlink:href=\"#ArialMT-30\"/>\n",
              "       <use xlink:href=\"#ArialMT-2e\" x=\"55.615234\"/>\n",
              "       <use xlink:href=\"#ArialMT-30\" x=\"83.398438\"/>\n",
              "       <use xlink:href=\"#ArialMT-30\" x=\"139.013672\"/>\n",
              "      </g>\n",
              "     </g>\n",
              "    </g>\n",
              "    <g id=\"ytick_2\">\n",
              "     <g id=\"line2d_11\">\n",
              "      <g>\n",
              "       <use xlink:href=\"#mf22c401394\" x=\"45.937625\" y=\"220.973324\" style=\"fill: #262626; stroke: #262626\"/>\n",
              "      </g>\n",
              "     </g>\n",
              "     <g id=\"text_12\">\n",
              "      <!-- 0.05 -->\n",
              "      <g style=\"fill: #262626\" transform=\"translate(20.512 224.122762) scale(0.088 -0.088)\">\n",
              "       <use xlink:href=\"#ArialMT-30\"/>\n",
              "       <use xlink:href=\"#ArialMT-2e\" x=\"55.615234\"/>\n",
              "       <use xlink:href=\"#ArialMT-30\" x=\"83.398438\"/>\n",
              "       <use xlink:href=\"#ArialMT-35\" x=\"139.013672\"/>\n",
              "      </g>\n",
              "     </g>\n",
              "    </g>\n",
              "    <g id=\"ytick_3\">\n",
              "     <g id=\"line2d_12\">\n",
              "      <g>\n",
              "       <use xlink:href=\"#mf22c401394\" x=\"45.937625\" y=\"180.730648\" style=\"fill: #262626; stroke: #262626\"/>\n",
              "      </g>\n",
              "     </g>\n",
              "     <g id=\"text_13\">\n",
              "      <!-- 0.10 -->\n",
              "      <g style=\"fill: #262626\" transform=\"translate(20.512 183.880086) scale(0.088 -0.088)\">\n",
              "       <use xlink:href=\"#ArialMT-30\"/>\n",
              "       <use xlink:href=\"#ArialMT-2e\" x=\"55.615234\"/>\n",
              "       <use xlink:href=\"#ArialMT-31\" x=\"83.398438\"/>\n",
              "       <use xlink:href=\"#ArialMT-30\" x=\"139.013672\"/>\n",
              "      </g>\n",
              "     </g>\n",
              "    </g>\n",
              "    <g id=\"ytick_4\">\n",
              "     <g id=\"line2d_13\">\n",
              "      <g>\n",
              "       <use xlink:href=\"#mf22c401394\" x=\"45.937625\" y=\"140.487972\" style=\"fill: #262626; stroke: #262626\"/>\n",
              "      </g>\n",
              "     </g>\n",
              "     <g id=\"text_14\">\n",
              "      <!-- 0.15 -->\n",
              "      <g style=\"fill: #262626\" transform=\"translate(20.512 143.63741) scale(0.088 -0.088)\">\n",
              "       <use xlink:href=\"#ArialMT-30\"/>\n",
              "       <use xlink:href=\"#ArialMT-2e\" x=\"55.615234\"/>\n",
              "       <use xlink:href=\"#ArialMT-31\" x=\"83.398438\"/>\n",
              "       <use xlink:href=\"#ArialMT-35\" x=\"139.013672\"/>\n",
              "      </g>\n",
              "     </g>\n",
              "    </g>\n",
              "    <g id=\"ytick_5\">\n",
              "     <g id=\"line2d_14\">\n",
              "      <g>\n",
              "       <use xlink:href=\"#mf22c401394\" x=\"45.937625\" y=\"100.245297\" style=\"fill: #262626; stroke: #262626\"/>\n",
              "      </g>\n",
              "     </g>\n",
              "     <g id=\"text_15\">\n",
              "      <!-- 0.20 -->\n",
              "      <g style=\"fill: #262626\" transform=\"translate(20.512 103.394734) scale(0.088 -0.088)\">\n",
              "       <use xlink:href=\"#ArialMT-30\"/>\n",
              "       <use xlink:href=\"#ArialMT-2e\" x=\"55.615234\"/>\n",
              "       <use xlink:href=\"#ArialMT-32\" x=\"83.398438\"/>\n",
              "       <use xlink:href=\"#ArialMT-30\" x=\"139.013672\"/>\n",
              "      </g>\n",
              "     </g>\n",
              "    </g>\n",
              "    <g id=\"ytick_6\">\n",
              "     <g id=\"line2d_15\">\n",
              "      <g>\n",
              "       <use xlink:href=\"#mf22c401394\" x=\"45.937625\" y=\"60.002621\" style=\"fill: #262626; stroke: #262626\"/>\n",
              "      </g>\n",
              "     </g>\n",
              "     <g id=\"text_16\">\n",
              "      <!-- 0.25 -->\n",
              "      <g style=\"fill: #262626\" transform=\"translate(20.512 63.152058) scale(0.088 -0.088)\">\n",
              "       <use xlink:href=\"#ArialMT-30\"/>\n",
              "       <use xlink:href=\"#ArialMT-2e\" x=\"55.615234\"/>\n",
              "       <use xlink:href=\"#ArialMT-32\" x=\"83.398438\"/>\n",
              "       <use xlink:href=\"#ArialMT-35\" x=\"139.013672\"/>\n",
              "      </g>\n",
              "     </g>\n",
              "    </g>\n",
              "    <g id=\"ytick_7\">\n",
              "     <g id=\"line2d_16\">\n",
              "      <g>\n",
              "       <use xlink:href=\"#mf22c401394\" x=\"45.937625\" y=\"19.759945\" style=\"fill: #262626; stroke: #262626\"/>\n",
              "      </g>\n",
              "     </g>\n",
              "     <g id=\"text_17\">\n",
              "      <!-- 0.30 -->\n",
              "      <g style=\"fill: #262626\" transform=\"translate(20.512 22.909382) scale(0.088 -0.088)\">\n",
              "       <defs>\n",
              "        <path id=\"ArialMT-33\" d=\"M 269 1209 \n",
              "L 831 1284 \n",
              "Q 928 806 1161 595 \n",
              "Q 1394 384 1728 384 \n",
              "Q 2125 384 2398 659 \n",
              "Q 2672 934 2672 1341 \n",
              "Q 2672 1728 2419 1979 \n",
              "Q 2166 2231 1775 2231 \n",
              "Q 1616 2231 1378 2169 \n",
              "L 1441 2663 \n",
              "Q 1497 2656 1531 2656 \n",
              "Q 1891 2656 2178 2843 \n",
              "Q 2466 3031 2466 3422 \n",
              "Q 2466 3731 2256 3934 \n",
              "Q 2047 4138 1716 4138 \n",
              "Q 1388 4138 1169 3931 \n",
              "Q 950 3725 888 3313 \n",
              "L 325 3413 \n",
              "Q 428 3978 793 4289 \n",
              "Q 1159 4600 1703 4600 \n",
              "Q 2078 4600 2393 4439 \n",
              "Q 2709 4278 2876 4000 \n",
              "Q 3044 3722 3044 3409 \n",
              "Q 3044 3113 2884 2869 \n",
              "Q 2725 2625 2413 2481 \n",
              "Q 2819 2388 3044 2092 \n",
              "Q 3269 1797 3269 1353 \n",
              "Q 3269 753 2831 336 \n",
              "Q 2394 -81 1725 -81 \n",
              "Q 1122 -81 723 278 \n",
              "Q 325 638 269 1209 \n",
              "z\n",
              "\" transform=\"scale(0.015625)\"/>\n",
              "       </defs>\n",
              "       <use xlink:href=\"#ArialMT-30\"/>\n",
              "       <use xlink:href=\"#ArialMT-2e\" x=\"55.615234\"/>\n",
              "       <use xlink:href=\"#ArialMT-33\" x=\"83.398438\"/>\n",
              "       <use xlink:href=\"#ArialMT-30\" x=\"139.013672\"/>\n",
              "      </g>\n",
              "     </g>\n",
              "    </g>\n",
              "    <g id=\"text_18\">\n",
              "     <!-- $p(t)$ -->\n",
              "     <g style=\"fill: #262626\" transform=\"translate(14.496 148.944) rotate(-90) scale(0.096 -0.096)\">\n",
              "      <defs>\n",
              "       <path id=\"DejaVuSans-Oblique-70\" d=\"M 3175 2156 \n",
              "Q 3175 2616 2975 2859 \n",
              "Q 2775 3103 2400 3103 \n",
              "Q 2144 3103 1911 2972 \n",
              "Q 1678 2841 1497 2591 \n",
              "Q 1319 2344 1212 1994 \n",
              "Q 1106 1644 1106 1300 \n",
              "Q 1106 863 1306 627 \n",
              "Q 1506 391 1875 391 \n",
              "Q 2147 391 2380 519 \n",
              "Q 2613 647 2778 891 \n",
              "Q 2956 1147 3065 1494 \n",
              "Q 3175 1841 3175 2156 \n",
              "z\n",
              "M 1394 2969 \n",
              "Q 1625 3272 1939 3428 \n",
              "Q 2253 3584 2638 3584 \n",
              "Q 3175 3584 3472 3232 \n",
              "Q 3769 2881 3769 2247 \n",
              "Q 3769 1728 3584 1258 \n",
              "Q 3400 788 3053 416 \n",
              "Q 2822 169 2531 39 \n",
              "Q 2241 -91 1919 -91 \n",
              "Q 1547 -91 1294 64 \n",
              "Q 1041 219 916 525 \n",
              "L 556 -1331 \n",
              "L -19 -1331 \n",
              "L 922 3500 \n",
              "L 1497 3500 \n",
              "L 1394 2969 \n",
              "z\n",
              "\" transform=\"scale(0.015625)\"/>\n",
              "       <path id=\"DejaVuSans-28\" d=\"M 1984 4856 \n",
              "Q 1566 4138 1362 3434 \n",
              "Q 1159 2731 1159 2009 \n",
              "Q 1159 1288 1364 580 \n",
              "Q 1569 -128 1984 -844 \n",
              "L 1484 -844 \n",
              "Q 1016 -109 783 600 \n",
              "Q 550 1309 550 2009 \n",
              "Q 550 2706 781 3412 \n",
              "Q 1013 4119 1484 4856 \n",
              "L 1984 4856 \n",
              "z\n",
              "\" transform=\"scale(0.015625)\"/>\n",
              "       <path id=\"DejaVuSans-29\" d=\"M 513 4856 \n",
              "L 1013 4856 \n",
              "Q 1481 4119 1714 3412 \n",
              "Q 1947 2706 1947 2009 \n",
              "Q 1947 1309 1714 600 \n",
              "Q 1481 -109 1013 -844 \n",
              "L 513 -844 \n",
              "Q 928 -128 1133 580 \n",
              "Q 1338 1288 1338 2009 \n",
              "Q 1338 2731 1133 3434 \n",
              "Q 928 4138 513 4856 \n",
              "z\n",
              "\" transform=\"scale(0.015625)\"/>\n",
              "      </defs>\n",
              "      <use xlink:href=\"#DejaVuSans-Oblique-70\" transform=\"translate(0 0.125)\"/>\n",
              "      <use xlink:href=\"#DejaVuSans-28\" transform=\"translate(63.476562 0.125)\"/>\n",
              "      <use xlink:href=\"#DejaVuSans-Oblique-74\" transform=\"translate(102.490234 0.125)\"/>\n",
              "      <use xlink:href=\"#DejaVuSans-29\" transform=\"translate(141.699219 0.125)\"/>\n",
              "     </g>\n",
              "    </g>\n",
              "   </g>\n",
              "   <g id=\"line2d_17\">\n",
              "    <path d=\"M 62.170352 261.216 \n",
              "L 65.449691 261.216 \n",
              "L 68.72903 261.216 \n",
              "L 72.008369 261.216 \n",
              "L 75.287708 261.216 \n",
              "L 78.567046 261.216 \n",
              "L 81.846385 261.216 \n",
              "L 85.125724 261.216 \n",
              "L 88.405063 261.216 \n",
              "L 91.684402 261.216 \n",
              "L 94.963741 261.216 \n",
              "L 98.24308 261.216 \n",
              "L 101.522418 261.216 \n",
              "L 104.801757 261.216 \n",
              "L 108.081096 261.216 \n",
              "L 111.360435 261.216 \n",
              "L 114.639774 261.216 \n",
              "L 117.919113 261.216 \n",
              "L 121.198451 261.216 \n",
              "L 124.47779 261.216 \n",
              "L 127.757129 261.216 \n",
              "L 131.036468 261.216 \n",
              "L 134.315807 261.216 \n",
              "L 137.595146 261.216 \n",
              "L 140.874485 261.216 \n",
              "L 144.153823 261.216 \n",
              "L 147.433162 261.216 \n",
              "L 150.712501 261.215986 \n",
              "L 153.99184 261.215326 \n",
              "L 157.271179 261.202579 \n",
              "L 160.550518 261.079722 \n",
              "L 163.829856 260.389196 \n",
              "L 167.109195 257.845956 \n",
              "L 170.388534 251.141186 \n",
              "L 173.667873 237.606479 \n",
              "L 176.947212 215.580361 \n",
              "L 180.226551 185.535279 \n",
              "L 183.505889 150.182188 \n",
              "L 186.785228 113.586132 \n",
              "L 190.064567 79.912206 \n",
              "L 193.343906 52.420384 \n",
              "L 196.623245 32.990064 \n",
              "L 199.902584 22.132358 \n",
              "L 203.181923 19.296 \n",
              "L 206.461261 23.269534 \n",
              "L 209.7406 32.548202 \n",
              "L 213.019939 45.606094 \n",
              "L 216.299278 61.064922 \n",
              "L 219.578617 77.776801 \n",
              "L 222.857956 94.846556 \n",
              "L 226.137294 111.617313 \n",
              "L 229.416633 127.637573 \n",
              "L 232.695972 142.621962 \n",
              "L 235.975311 156.412843 \n",
              "L 239.25465 168.946469 \n",
              "L 242.533989 180.225028 \n",
              "L 245.813327 190.29465 \n",
              "L 249.092666 199.228756 \n",
              "L 252.372005 207.115877 \n",
              "L 255.651344 214.051038 \n",
              "L 258.930683 220.129895 \n",
              "L 262.210022 225.444913 \n",
              "L 265.489361 230.083033 \n",
              "L 268.768699 234.124405 \n",
              "L 272.048038 237.641839 \n",
              "L 275.327377 240.700746 \n",
              "L 278.606716 243.359386 \n",
              "L 281.886055 245.66931 \n",
              "L 285.165394 247.675886 \n",
              "L 288.444732 249.418884 \n",
              "L 291.724071 250.933049 \n",
              "L 295.00341 252.248663 \n",
              "L 298.282749 253.39206 \n",
              "L 301.562088 254.386114 \n",
              "L 304.841427 255.250663 \n",
              "L 308.120765 256.002905 \n",
              "L 311.400104 256.657735 \n",
              "L 314.679443 257.228051 \n",
              "L 317.958782 257.725019 \n",
              "L 321.238121 258.158307 \n",
              "L 324.51746 258.536283 \n",
              "L 327.796799 258.866194 \n",
              "L 331.076137 259.154317 \n",
              "L 334.355476 259.406089 \n",
              "L 337.634815 259.626225 \n",
              "L 340.914154 259.81881 \n",
              "L 344.193493 259.98739 \n",
              "L 347.472832 260.135043 \n",
              "L 350.75217 260.26444 \n",
              "L 354.031509 260.377902 \n",
              "L 357.310848 260.477449 \n",
              "L 360.590187 260.564836 \n",
              "L 363.869526 260.64159 \n",
              "L 367.148865 260.709042 \n",
              "L 370.428204 260.768351 \n",
              "L 373.707542 260.820529 \n",
              "L 376.986881 260.866457 \n",
              "L 380.26622 260.906904 \n",
              "L 383.545559 260.942543 \n",
              "L 386.824898 260.973961 \n",
              "\" clip-path=\"url(#p21de5a643c)\" style=\"fill: none; stroke: #1f77b4; stroke-width: 1.2; stroke-linecap: round\"/>\n",
              "   </g>\n",
              "   <g id=\"line2d_18\">\n",
              "    <defs>\n",
              "     <path id=\"m7484fa3022\" d=\"M -2.4 2.4 \n",
              "L 2.4 -2.4 \n",
              "M -2.4 -2.4 \n",
              "L 2.4 2.4 \n",
              "\" style=\"stroke: #ff7f0e\"/>\n",
              "    </defs>\n",
              "    <g clip-path=\"url(#p21de5a643c)\">\n",
              "     <use xlink:href=\"#m7484fa3022\" x=\"232.613989\" y=\"261.216\" style=\"fill: #ff7f0e; stroke: #ff7f0e\"/>\n",
              "     <use xlink:href=\"#m7484fa3022\" x=\"183.915807\" y=\"261.216\" style=\"fill: #ff7f0e; stroke: #ff7f0e\"/>\n",
              "     <use xlink:href=\"#m7484fa3022\" x=\"193.655443\" y=\"261.216\" style=\"fill: #ff7f0e; stroke: #ff7f0e\"/>\n",
              "     <use xlink:href=\"#m7484fa3022\" x=\"198.525261\" y=\"261.216\" style=\"fill: #ff7f0e; stroke: #ff7f0e\"/>\n",
              "     <use xlink:href=\"#m7484fa3022\" x=\"243.976898\" y=\"261.216\" style=\"fill: #ff7f0e; stroke: #ff7f0e\"/>\n",
              "     <use xlink:href=\"#m7484fa3022\" x=\"213.134716\" y=\"261.216\" style=\"fill: #ff7f0e; stroke: #ff7f0e\"/>\n",
              "     <use xlink:href=\"#m7484fa3022\" x=\"206.641625\" y=\"261.216\" style=\"fill: #ff7f0e; stroke: #ff7f0e\"/>\n",
              "     <use xlink:href=\"#m7484fa3022\" x=\"263.45617\" y=\"261.216\" style=\"fill: #ff7f0e; stroke: #ff7f0e\"/>\n",
              "    </g>\n",
              "   </g>\n",
              "   <g id=\"patch_3\">\n",
              "    <path d=\"M 45.937625 261.216 \n",
              "L 45.937625 19.759945 \n",
              "\" style=\"fill: none; stroke: #262626; stroke-linejoin: miter; stroke-linecap: square\"/>\n",
              "   </g>\n",
              "   <g id=\"patch_4\">\n",
              "    <path d=\"M 62.170352 273.312 \n",
              "L 386.824898 273.312 \n",
              "\" style=\"fill: none; stroke: #262626; stroke-linejoin: miter; stroke-linecap: square\"/>\n",
              "   </g>\n",
              "   <g id=\"legend_1\">\n",
              "    <g id=\"line2d_19\">\n",
              "     <path d=\"M 299.57375 18.338875 \n",
              "L 308.37375 18.338875 \n",
              "L 317.17375 18.338875 \n",
              "\" style=\"fill: none; stroke: #1f77b4; stroke-width: 1.2; stroke-linecap: round\"/>\n",
              "    </g>\n",
              "    <g id=\"text_19\">\n",
              "     <!-- Fitted PDF -->\n",
              "     <g style=\"fill: #262626\" transform=\"translate(324.21375 21.418875) scale(0.088 -0.088)\">\n",
              "      <defs>\n",
              "       <path id=\"ArialMT-46\" d=\"M 525 0 \n",
              "L 525 4581 \n",
              "L 3616 4581 \n",
              "L 3616 4041 \n",
              "L 1131 4041 \n",
              "L 1131 2622 \n",
              "L 3281 2622 \n",
              "L 3281 2081 \n",
              "L 1131 2081 \n",
              "L 1131 0 \n",
              "L 525 0 \n",
              "z\n",
              "\" transform=\"scale(0.015625)\"/>\n",
              "       <path id=\"ArialMT-69\" d=\"M 425 3934 \n",
              "L 425 4581 \n",
              "L 988 4581 \n",
              "L 988 3934 \n",
              "L 425 3934 \n",
              "z\n",
              "M 425 0 \n",
              "L 425 3319 \n",
              "L 988 3319 \n",
              "L 988 0 \n",
              "L 425 0 \n",
              "z\n",
              "\" transform=\"scale(0.015625)\"/>\n",
              "       <path id=\"ArialMT-74\" d=\"M 1650 503 \n",
              "L 1731 6 \n",
              "Q 1494 -44 1306 -44 \n",
              "Q 1000 -44 831 53 \n",
              "Q 663 150 594 308 \n",
              "Q 525 466 525 972 \n",
              "L 525 2881 \n",
              "L 113 2881 \n",
              "L 113 3319 \n",
              "L 525 3319 \n",
              "L 525 4141 \n",
              "L 1084 4478 \n",
              "L 1084 3319 \n",
              "L 1650 3319 \n",
              "L 1650 2881 \n",
              "L 1084 2881 \n",
              "L 1084 941 \n",
              "Q 1084 700 1114 631 \n",
              "Q 1144 563 1211 522 \n",
              "Q 1278 481 1403 481 \n",
              "Q 1497 481 1650 503 \n",
              "z\n",
              "\" transform=\"scale(0.015625)\"/>\n",
              "       <path id=\"ArialMT-64\" d=\"M 2575 0 \n",
              "L 2575 419 \n",
              "Q 2259 -75 1647 -75 \n",
              "Q 1250 -75 917 144 \n",
              "Q 584 363 401 755 \n",
              "Q 219 1147 219 1656 \n",
              "Q 219 2153 384 2558 \n",
              "Q 550 2963 881 3178 \n",
              "Q 1213 3394 1622 3394 \n",
              "Q 1922 3394 2156 3267 \n",
              "Q 2391 3141 2538 2938 \n",
              "L 2538 4581 \n",
              "L 3097 4581 \n",
              "L 3097 0 \n",
              "L 2575 0 \n",
              "z\n",
              "M 797 1656 \n",
              "Q 797 1019 1065 703 \n",
              "Q 1334 388 1700 388 \n",
              "Q 2069 388 2326 689 \n",
              "Q 2584 991 2584 1609 \n",
              "Q 2584 2291 2321 2609 \n",
              "Q 2059 2928 1675 2928 \n",
              "Q 1300 2928 1048 2622 \n",
              "Q 797 2316 797 1656 \n",
              "z\n",
              "\" transform=\"scale(0.015625)\"/>\n",
              "       <path id=\"ArialMT-50\" d=\"M 494 0 \n",
              "L 494 4581 \n",
              "L 2222 4581 \n",
              "Q 2678 4581 2919 4538 \n",
              "Q 3256 4481 3484 4323 \n",
              "Q 3713 4166 3852 3881 \n",
              "Q 3991 3597 3991 3256 \n",
              "Q 3991 2672 3619 2267 \n",
              "Q 3247 1863 2275 1863 \n",
              "L 1100 1863 \n",
              "L 1100 0 \n",
              "L 494 0 \n",
              "z\n",
              "M 1100 2403 \n",
              "L 2284 2403 \n",
              "Q 2872 2403 3119 2622 \n",
              "Q 3366 2841 3366 3238 \n",
              "Q 3366 3525 3220 3729 \n",
              "Q 3075 3934 2838 4000 \n",
              "Q 2684 4041 2272 4041 \n",
              "L 1100 4041 \n",
              "L 1100 2403 \n",
              "z\n",
              "\" transform=\"scale(0.015625)\"/>\n",
              "       <path id=\"ArialMT-44\" d=\"M 494 0 \n",
              "L 494 4581 \n",
              "L 2072 4581 \n",
              "Q 2606 4581 2888 4516 \n",
              "Q 3281 4425 3559 4188 \n",
              "Q 3922 3881 4101 3404 \n",
              "Q 4281 2928 4281 2316 \n",
              "Q 4281 1794 4159 1391 \n",
              "Q 4038 988 3847 723 \n",
              "Q 3656 459 3429 307 \n",
              "Q 3203 156 2883 78 \n",
              "Q 2563 0 2147 0 \n",
              "L 494 0 \n",
              "z\n",
              "M 1100 541 \n",
              "L 2078 541 \n",
              "Q 2531 541 2789 625 \n",
              "Q 3047 709 3200 863 \n",
              "Q 3416 1078 3536 1442 \n",
              "Q 3656 1806 3656 2325 \n",
              "Q 3656 3044 3420 3430 \n",
              "Q 3184 3816 2847 3947 \n",
              "Q 2603 4041 2063 4041 \n",
              "L 1100 4041 \n",
              "L 1100 541 \n",
              "z\n",
              "\" transform=\"scale(0.015625)\"/>\n",
              "      </defs>\n",
              "      <use xlink:href=\"#ArialMT-46\"/>\n",
              "      <use xlink:href=\"#ArialMT-69\" x=\"61.083984\"/>\n",
              "      <use xlink:href=\"#ArialMT-74\" x=\"83.300781\"/>\n",
              "      <use xlink:href=\"#ArialMT-74\" x=\"111.083984\"/>\n",
              "      <use xlink:href=\"#ArialMT-65\" x=\"138.867188\"/>\n",
              "      <use xlink:href=\"#ArialMT-64\" x=\"194.482422\"/>\n",
              "      <use xlink:href=\"#ArialMT-20\" x=\"250.097656\"/>\n",
              "      <use xlink:href=\"#ArialMT-50\" x=\"277.880859\"/>\n",
              "      <use xlink:href=\"#ArialMT-44\" x=\"344.580078\"/>\n",
              "      <use xlink:href=\"#ArialMT-46\" x=\"416.796875\"/>\n",
              "     </g>\n",
              "    </g>\n",
              "    <g id=\"line2d_20\">\n",
              "     <g>\n",
              "      <use xlink:href=\"#m7484fa3022\" x=\"308.37375\" y=\"30.78675\" style=\"fill: #ff7f0e; stroke: #ff7f0e\"/>\n",
              "     </g>\n",
              "    </g>\n",
              "    <g id=\"text_20\">\n",
              "     <!-- Experimental data -->\n",
              "     <g style=\"fill: #262626\" transform=\"translate(324.21375 33.86675) scale(0.088 -0.088)\">\n",
              "      <defs>\n",
              "       <path id=\"ArialMT-45\" d=\"M 506 0 \n",
              "L 506 4581 \n",
              "L 3819 4581 \n",
              "L 3819 4041 \n",
              "L 1113 4041 \n",
              "L 1113 2638 \n",
              "L 3647 2638 \n",
              "L 3647 2100 \n",
              "L 1113 2100 \n",
              "L 1113 541 \n",
              "L 3925 541 \n",
              "L 3925 0 \n",
              "L 506 0 \n",
              "z\n",
              "\" transform=\"scale(0.015625)\"/>\n",
              "       <path id=\"ArialMT-78\" d=\"M 47 0 \n",
              "L 1259 1725 \n",
              "L 138 3319 \n",
              "L 841 3319 \n",
              "L 1350 2541 \n",
              "Q 1494 2319 1581 2169 \n",
              "Q 1719 2375 1834 2534 \n",
              "L 2394 3319 \n",
              "L 3066 3319 \n",
              "L 1919 1756 \n",
              "L 3153 0 \n",
              "L 2463 0 \n",
              "L 1781 1031 \n",
              "L 1600 1309 \n",
              "L 728 0 \n",
              "L 47 0 \n",
              "z\n",
              "\" transform=\"scale(0.015625)\"/>\n",
              "       <path id=\"ArialMT-70\" d=\"M 422 -1272 \n",
              "L 422 3319 \n",
              "L 934 3319 \n",
              "L 934 2888 \n",
              "Q 1116 3141 1344 3267 \n",
              "Q 1572 3394 1897 3394 \n",
              "Q 2322 3394 2647 3175 \n",
              "Q 2972 2956 3137 2557 \n",
              "Q 3303 2159 3303 1684 \n",
              "Q 3303 1175 3120 767 \n",
              "Q 2938 359 2589 142 \n",
              "Q 2241 -75 1856 -75 \n",
              "Q 1575 -75 1351 44 \n",
              "Q 1128 163 984 344 \n",
              "L 984 -1272 \n",
              "L 422 -1272 \n",
              "z\n",
              "M 931 1641 \n",
              "Q 931 1000 1190 694 \n",
              "Q 1450 388 1819 388 \n",
              "Q 2194 388 2461 705 \n",
              "Q 2728 1022 2728 1688 \n",
              "Q 2728 2322 2467 2637 \n",
              "Q 2206 2953 1844 2953 \n",
              "Q 1484 2953 1207 2617 \n",
              "Q 931 2281 931 1641 \n",
              "z\n",
              "\" transform=\"scale(0.015625)\"/>\n",
              "       <path id=\"ArialMT-6d\" d=\"M 422 0 \n",
              "L 422 3319 \n",
              "L 925 3319 \n",
              "L 925 2853 \n",
              "Q 1081 3097 1340 3245 \n",
              "Q 1600 3394 1931 3394 \n",
              "Q 2300 3394 2536 3241 \n",
              "Q 2772 3088 2869 2813 \n",
              "Q 3263 3394 3894 3394 \n",
              "Q 4388 3394 4653 3120 \n",
              "Q 4919 2847 4919 2278 \n",
              "L 4919 0 \n",
              "L 4359 0 \n",
              "L 4359 2091 \n",
              "Q 4359 2428 4304 2576 \n",
              "Q 4250 2725 4106 2815 \n",
              "Q 3963 2906 3769 2906 \n",
              "Q 3419 2906 3187 2673 \n",
              "Q 2956 2441 2956 1928 \n",
              "L 2956 0 \n",
              "L 2394 0 \n",
              "L 2394 2156 \n",
              "Q 2394 2531 2256 2718 \n",
              "Q 2119 2906 1806 2906 \n",
              "Q 1569 2906 1367 2781 \n",
              "Q 1166 2656 1075 2415 \n",
              "Q 984 2175 984 1722 \n",
              "L 984 0 \n",
              "L 422 0 \n",
              "z\n",
              "\" transform=\"scale(0.015625)\"/>\n",
              "       <path id=\"ArialMT-6e\" d=\"M 422 0 \n",
              "L 422 3319 \n",
              "L 928 3319 \n",
              "L 928 2847 \n",
              "Q 1294 3394 1984 3394 \n",
              "Q 2284 3394 2536 3286 \n",
              "Q 2788 3178 2913 3003 \n",
              "Q 3038 2828 3088 2588 \n",
              "Q 3119 2431 3119 2041 \n",
              "L 3119 0 \n",
              "L 2556 0 \n",
              "L 2556 2019 \n",
              "Q 2556 2363 2490 2533 \n",
              "Q 2425 2703 2258 2804 \n",
              "Q 2091 2906 1866 2906 \n",
              "Q 1506 2906 1245 2678 \n",
              "Q 984 2450 984 1813 \n",
              "L 984 0 \n",
              "L 422 0 \n",
              "z\n",
              "\" transform=\"scale(0.015625)\"/>\n",
              "       <path id=\"ArialMT-6c\" d=\"M 409 0 \n",
              "L 409 4581 \n",
              "L 972 4581 \n",
              "L 972 0 \n",
              "L 409 0 \n",
              "z\n",
              "\" transform=\"scale(0.015625)\"/>\n",
              "      </defs>\n",
              "      <use xlink:href=\"#ArialMT-45\"/>\n",
              "      <use xlink:href=\"#ArialMT-78\" x=\"66.699219\"/>\n",
              "      <use xlink:href=\"#ArialMT-70\" x=\"116.699219\"/>\n",
              "      <use xlink:href=\"#ArialMT-65\" x=\"172.314453\"/>\n",
              "      <use xlink:href=\"#ArialMT-72\" x=\"227.929688\"/>\n",
              "      <use xlink:href=\"#ArialMT-69\" x=\"261.230469\"/>\n",
              "      <use xlink:href=\"#ArialMT-6d\" x=\"283.447266\"/>\n",
              "      <use xlink:href=\"#ArialMT-65\" x=\"366.748047\"/>\n",
              "      <use xlink:href=\"#ArialMT-6e\" x=\"422.363281\"/>\n",
              "      <use xlink:href=\"#ArialMT-74\" x=\"477.978516\"/>\n",
              "      <use xlink:href=\"#ArialMT-61\" x=\"505.761719\"/>\n",
              "      <use xlink:href=\"#ArialMT-6c\" x=\"561.376953\"/>\n",
              "      <use xlink:href=\"#ArialMT-20\" x=\"583.59375\"/>\n",
              "      <use xlink:href=\"#ArialMT-64\" x=\"611.376953\"/>\n",
              "      <use xlink:href=\"#ArialMT-61\" x=\"666.992188\"/>\n",
              "      <use xlink:href=\"#ArialMT-74\" x=\"722.607422\"/>\n",
              "      <use xlink:href=\"#ArialMT-61\" x=\"750.390625\"/>\n",
              "     </g>\n",
              "    </g>\n",
              "   </g>\n",
              "  </g>\n",
              " </g>\n",
              " <defs>\n",
              "  <clipPath id=\"p21de5a643c\">\n",
              "   <rect x=\"45.937625\" y=\"7.2\" width=\"357.12\" height=\"266.112\"/>\n",
              "  </clipPath>\n",
              " </defs>\n",
              "</svg>\n"
            ],
            "text/plain": [
              "<Figure size 640x480 with 1 Axes>"
            ]
          },
          "metadata": {},
          "output_type": "display_data"
        }
      ],
      "source": [
        "fig, ax = plt.subplots()\n",
        "ts = np.linspace(0.0, 20.0, 100)\n",
        "ax.plot(\n",
        "    ts,\n",
        "    T.pdf(ts),\n",
        "    label=\"Fitted PDF\"\n",
        ")\n",
        "ax.plot(\n",
        "    time_to_fail_data,\n",
        "    np.zeros_like(time_to_fail_data),\n",
        "    \"x\",\n",
        "    label=\"Experimental data\"\n",
        ")\n",
        "ax.set_xlabel(r\"$t$ (years)\")\n",
        "ax.set_ylabel(r\"$p(t)$\")\n",
        "plt.legend(loc=\"best\", frameon=False)\n",
        "sns.despine(trim=True);"
      ]
    },
    {
      "cell_type": "markdown",
      "metadata": {
        "id": "XvhtQS70sKfI"
      },
      "source": [
        "Now you have to answer a series of questions about the random variable $T$ that we just fitted.\n",
        "\n",
        "A. Find the mean fail time and its variance.\n",
        "Hint: Do not integrate anything by hand. Just use the functionality of ``scipy.stats``."
      ]
    },
    {
      "cell_type": "code",
      "execution_count": null,
      "metadata": {
        "id": "XjkNGP-2sKfI"
      },
      "outputs": [],
      "source": [
        "# Your code here\n",
        "t_mean = 0.0 # Change me\n",
        "t_var = 0.0 # Change me\n",
        "print(f\"E[T] = {t_mean:.2f}\")\n",
        "print(f\"V[T] = {t_var:.2f}\")"
      ]
    },
    {
      "cell_type": "markdown",
      "metadata": {
        "id": "2YAzJYdbsKfI"
      },
      "source": [
        "B. Plot the cumulative distribution function $F(t) = P(T\\le t)$ of $T$."
      ]
    },
    {
      "cell_type": "code",
      "execution_count": null,
      "metadata": {
        "id": "vBDQeZPlsKfI"
      },
      "outputs": [],
      "source": [
        "# Your code here"
      ]
    },
    {
      "cell_type": "markdown",
      "metadata": {
        "id": "HJZFCGbzsKfI"
      },
      "source": [
        "C. Plot the probability that gear survives for more than $t$ as a function of $t$.\n",
        "That is, plot the function:\n",
        "\n",
        "$$\n",
        "S(t) = p(T > t).\n",
        "$$\n",
        "\n",
        "Hint: First connect $S(t)$ to the cumulative distribution function $F(t)$ of $T$."
      ]
    },
    {
      "cell_type": "code",
      "execution_count": null,
      "metadata": {
        "id": "NTSY_l3osKfJ"
      },
      "outputs": [],
      "source": [
        "# Your code here"
      ]
    },
    {
      "cell_type": "markdown",
      "metadata": {
        "id": "9Ds9Ksx8sKfJ"
      },
      "source": [
        "D. Find the probability that the gear lasts anywhere between 8 and 10 years."
      ]
    },
    {
      "cell_type": "code",
      "execution_count": null,
      "metadata": {
        "id": "XHV1cEK_sKfJ"
      },
      "outputs": [],
      "source": [
        "# Your code here"
      ]
    },
    {
      "cell_type": "markdown",
      "metadata": {
        "id": "nOPnCtFzsKfJ"
      },
      "source": [
        "E. Find the time $t^*$ such that the probability that the gear fails before $t^*$ is $0.01$."
      ]
    },
    {
      "cell_type": "code",
      "execution_count": null,
      "metadata": {
        "id": "3OBjZ4aisKfJ"
      },
      "outputs": [],
      "source": [
        "\n"
      ]
    }
  ],
  "metadata": {
    "celltoolbar": "Tags",
    "kernelspec": {
      "display_name": "Python 3 (ipykernel)",
      "language": "python",
      "name": "python3"
    },
    "language_info": {
      "codemirror_mode": {
        "name": "ipython",
        "version": 3
      },
      "file_extension": ".py",
      "mimetype": "text/x-python",
      "name": "python",
      "nbconvert_exporter": "python",
      "pygments_lexer": "ipython3",
      "version": "3.11.3"
    },
    "colab": {
      "provenance": [],
      "include_colab_link": true
    }
  },
  "nbformat": 4,
  "nbformat_minor": 0
}